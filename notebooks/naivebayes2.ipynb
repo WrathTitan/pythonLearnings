{
 "cells": [
  {
   "cell_type": "markdown",
   "id": "soviet-headquarters",
   "metadata": {},
   "source": [
    "# Naive Bayes Classifier\n",
    "Here I've collected a very small dataset of 20 mammals and divided it into train-test set and evaluated the model."
   ]
  },
  {
   "cell_type": "code",
   "execution_count": 26,
   "id": "metropolitan-anniversary",
   "metadata": {},
   "outputs": [],
   "source": [
    "from sklearn.model_selection import train_test_split\n",
    "from sklearn.naive_bayes import GaussianNB\n",
    "from sklearn import metrics\n",
    "import pandas as pd\n",
    "import matplotlib.pyplot as plt\n",
    "%matplotlib inline"
   ]
  },
  {
   "cell_type": "code",
   "execution_count": 27,
   "id": "above-commerce",
   "metadata": {},
   "outputs": [
    {
     "data": {
      "text/html": [
       "<div>\n",
       "<style scoped>\n",
       "    .dataframe tbody tr th:only-of-type {\n",
       "        vertical-align: middle;\n",
       "    }\n",
       "\n",
       "    .dataframe tbody tr th {\n",
       "        vertical-align: top;\n",
       "    }\n",
       "\n",
       "    .dataframe thead th {\n",
       "        text-align: right;\n",
       "    }\n",
       "</style>\n",
       "<table border=\"1\" class=\"dataframe\">\n",
       "  <thead>\n",
       "    <tr style=\"text-align: right;\">\n",
       "      <th></th>\n",
       "      <th>Name</th>\n",
       "      <th>Give Birth</th>\n",
       "      <th>Can Fly</th>\n",
       "      <th>Live in Water</th>\n",
       "      <th>Have Legs</th>\n",
       "      <th>Class</th>\n",
       "    </tr>\n",
       "  </thead>\n",
       "  <tbody>\n",
       "    <tr>\n",
       "      <th>0</th>\n",
       "      <td>human</td>\n",
       "      <td>yes</td>\n",
       "      <td>no</td>\n",
       "      <td>no</td>\n",
       "      <td>yes</td>\n",
       "      <td>mammals</td>\n",
       "    </tr>\n",
       "    <tr>\n",
       "      <th>1</th>\n",
       "      <td>python</td>\n",
       "      <td>no</td>\n",
       "      <td>no</td>\n",
       "      <td>no</td>\n",
       "      <td>no</td>\n",
       "      <td>non-mammals</td>\n",
       "    </tr>\n",
       "    <tr>\n",
       "      <th>2</th>\n",
       "      <td>salmon</td>\n",
       "      <td>no</td>\n",
       "      <td>no</td>\n",
       "      <td>yes</td>\n",
       "      <td>no</td>\n",
       "      <td>non-mammals</td>\n",
       "    </tr>\n",
       "    <tr>\n",
       "      <th>3</th>\n",
       "      <td>whale</td>\n",
       "      <td>yes</td>\n",
       "      <td>no</td>\n",
       "      <td>yes</td>\n",
       "      <td>no</td>\n",
       "      <td>mammals</td>\n",
       "    </tr>\n",
       "    <tr>\n",
       "      <th>4</th>\n",
       "      <td>frog</td>\n",
       "      <td>no</td>\n",
       "      <td>no</td>\n",
       "      <td>sometimes</td>\n",
       "      <td>yes</td>\n",
       "      <td>non-mammals</td>\n",
       "    </tr>\n",
       "  </tbody>\n",
       "</table>\n",
       "</div>"
      ],
      "text/plain": [
       "     Name Give Birth Can Fly Live in Water Have Legs        Class\n",
       "0   human        yes      no            no       yes      mammals\n",
       "1  python         no      no            no        no  non-mammals\n",
       "2  salmon         no      no           yes        no  non-mammals\n",
       "3   whale        yes      no           yes        no      mammals\n",
       "4    frog         no      no     sometimes       yes  non-mammals"
      ]
     },
     "execution_count": 27,
     "metadata": {},
     "output_type": "execute_result"
    }
   ],
   "source": [
    "#Opening my custom dataset\n",
    "mycsvfile=pd.read_csv('nbdataset.csv')\n",
    "mycsvfile.head() #Checking to make sure if everything is proper or not by displaying the first 5 rows"
   ]
  },
  {
   "cell_type": "code",
   "execution_count": 28,
   "id": "continuing-karma",
   "metadata": {},
   "outputs": [
    {
     "data": {
      "text/html": [
       "<div>\n",
       "<style scoped>\n",
       "    .dataframe tbody tr th:only-of-type {\n",
       "        vertical-align: middle;\n",
       "    }\n",
       "\n",
       "    .dataframe tbody tr th {\n",
       "        vertical-align: top;\n",
       "    }\n",
       "\n",
       "    .dataframe thead th {\n",
       "        text-align: right;\n",
       "    }\n",
       "</style>\n",
       "<table border=\"1\" class=\"dataframe\">\n",
       "  <thead>\n",
       "    <tr style=\"text-align: right;\">\n",
       "      <th></th>\n",
       "      <th>Name</th>\n",
       "      <th>Give Birth</th>\n",
       "      <th>Can Fly</th>\n",
       "      <th>Live in Water</th>\n",
       "      <th>Have Legs</th>\n",
       "      <th>Class</th>\n",
       "    </tr>\n",
       "  </thead>\n",
       "  <tbody>\n",
       "    <tr>\n",
       "      <th>15</th>\n",
       "      <td>gila monster</td>\n",
       "      <td>no</td>\n",
       "      <td>no</td>\n",
       "      <td>no</td>\n",
       "      <td>yes</td>\n",
       "      <td>non-mammals</td>\n",
       "    </tr>\n",
       "    <tr>\n",
       "      <th>16</th>\n",
       "      <td>platypus</td>\n",
       "      <td>no</td>\n",
       "      <td>no</td>\n",
       "      <td>no</td>\n",
       "      <td>yes</td>\n",
       "      <td>mammals</td>\n",
       "    </tr>\n",
       "    <tr>\n",
       "      <th>17</th>\n",
       "      <td>owl</td>\n",
       "      <td>no</td>\n",
       "      <td>yes</td>\n",
       "      <td>no</td>\n",
       "      <td>yes</td>\n",
       "      <td>non-mammals</td>\n",
       "    </tr>\n",
       "    <tr>\n",
       "      <th>18</th>\n",
       "      <td>dolphin</td>\n",
       "      <td>yes</td>\n",
       "      <td>no</td>\n",
       "      <td>yes</td>\n",
       "      <td>no</td>\n",
       "      <td>mammals</td>\n",
       "    </tr>\n",
       "    <tr>\n",
       "      <th>19</th>\n",
       "      <td>eagle</td>\n",
       "      <td>no</td>\n",
       "      <td>yes</td>\n",
       "      <td>no</td>\n",
       "      <td>yes</td>\n",
       "      <td>non-mammals</td>\n",
       "    </tr>\n",
       "  </tbody>\n",
       "</table>\n",
       "</div>"
      ],
      "text/plain": [
       "            Name Give Birth Can Fly Live in Water Have Legs        Class\n",
       "15  gila monster         no      no            no       yes  non-mammals\n",
       "16      platypus         no      no            no       yes      mammals\n",
       "17           owl         no     yes            no       yes  non-mammals\n",
       "18       dolphin        yes      no           yes        no      mammals\n",
       "19         eagle         no     yes            no       yes  non-mammals"
      ]
     },
     "execution_count": 28,
     "metadata": {},
     "output_type": "execute_result"
    }
   ],
   "source": [
    "mycsvfile.tail()"
   ]
  },
  {
   "cell_type": "code",
   "execution_count": 29,
   "id": "separated-perry",
   "metadata": {},
   "outputs": [
    {
     "name": "stdout",
     "output_type": "stream",
     "text": [
      "[[1, 0, 0, 1], [0, 0, 0, 0], [0, 0, 1, 0], [1, 0, 1, 0], [0, 0, 0.5, 1], [0, 0, 0, 1], [1, 1, 0, 1], [0, 1, 0, 1], [1, 0, 0, 1], [1, 0, 1, 0], [0, 0, 0.5, 1], [0, 0, 0.5, 1], [1, 0, 0, 1], [0, 0, 1, 0], [0, 0, 0.5, 1], [0, 0, 0, 1], [0, 0, 0, 1], [0, 1, 0, 1], [1, 0, 1, 0], [0, 1, 0, 1]]\n",
      "[1, 0, 0, 1, 0, 0, 1, 0, 1, 0, 0, 0, 1, 0, 0, 0, 1, 0, 1, 0]\n"
     ]
    }
   ],
   "source": [
    "X=[]\n",
    "y=[]\n",
    "for i in range(20):\n",
    "    if(mycsvfile[\"Give Birth\"][i]=='yes'):\n",
    "        gb=1\n",
    "    else:\n",
    "        gb=0\n",
    "    \n",
    "    if(mycsvfile[\"Can Fly\"][i]=='yes'):\n",
    "        cf=1\n",
    "    else:\n",
    "        cf=0\n",
    "    \n",
    "    if(mycsvfile[\"Live in Water\"][i]=='yes'):\n",
    "        lw=1\n",
    "    elif(mycsvfile[\"Live in Water\"][i]=='sometimes'):\n",
    "        lw=0.5\n",
    "    else:\n",
    "        lw=0\n",
    "    \n",
    "    if(mycsvfile[\"Have Legs\"][i]=='yes'):\n",
    "        hl=1\n",
    "    else:\n",
    "        hl=0\n",
    "    \n",
    "    if(mycsvfile[\"Class\"][i]=='mammals'):\n",
    "        label=1\n",
    "    else:\n",
    "        label=0\n",
    "    \n",
    "    row=[gb,cf,lw,hl]\n",
    "    X.append(row)\n",
    "    y.append(label)\n",
    "print(X)\n",
    "print(y)"
   ]
  },
  {
   "cell_type": "code",
   "execution_count": 30,
   "id": "artistic-boating",
   "metadata": {},
   "outputs": [],
   "source": [
    "X_train, X_test, y_train, y_test = train_test_split(X, y, test_size=0.4, random_state=1)"
   ]
  },
  {
   "cell_type": "code",
   "execution_count": 31,
   "id": "radio-firewall",
   "metadata": {},
   "outputs": [
    {
     "data": {
      "text/plain": [
       "[[0, 1, 0, 1],\n",
       " [0, 0, 0, 0],\n",
       " [0, 0, 1, 0],\n",
       " [1, 0, 0, 1],\n",
       " [0, 1, 0, 1],\n",
       " [1, 0, 1, 0],\n",
       " [1, 0, 1, 0],\n",
       " [0, 0, 0, 1],\n",
       " [1, 0, 0, 1],\n",
       " [1, 0, 0, 1],\n",
       " [0, 0, 0.5, 1],\n",
       " [0, 0, 0, 1]]"
      ]
     },
     "execution_count": 31,
     "metadata": {},
     "output_type": "execute_result"
    }
   ],
   "source": [
    "X_train"
   ]
  },
  {
   "cell_type": "code",
   "execution_count": 32,
   "id": "racial-sheep",
   "metadata": {},
   "outputs": [
    {
     "data": {
      "text/plain": [
       "[[1, 0, 1, 0],\n",
       " [0, 0, 0, 1],\n",
       " [1, 1, 0, 1],\n",
       " [0, 0, 0.5, 1],\n",
       " [0, 0, 1, 0],\n",
       " [0, 0, 0.5, 1],\n",
       " [0, 0, 0.5, 1],\n",
       " [0, 1, 0, 1]]"
      ]
     },
     "execution_count": 32,
     "metadata": {},
     "output_type": "execute_result"
    }
   ],
   "source": [
    "X_test"
   ]
  },
  {
   "cell_type": "code",
   "execution_count": 33,
   "id": "affecting-tackle",
   "metadata": {},
   "outputs": [
    {
     "data": {
      "text/plain": [
       "GaussianNB()"
      ]
     },
     "execution_count": 33,
     "metadata": {},
     "output_type": "execute_result"
    }
   ],
   "source": [
    "gnb = GaussianNB()\n",
    "gnb.fit(X_train, y_train)"
   ]
  },
  {
   "cell_type": "code",
   "execution_count": 34,
   "id": "developed-judgment",
   "metadata": {},
   "outputs": [
    {
     "data": {
      "text/plain": [
       "array([1, 0, 0, 0, 0, 0, 0, 0])"
      ]
     },
     "execution_count": 34,
     "metadata": {},
     "output_type": "execute_result"
    }
   ],
   "source": [
    "y_pred = gnb.predict(X_test)\n",
    "y_pred"
   ]
  },
  {
   "cell_type": "code",
   "execution_count": 35,
   "id": "former-seventh",
   "metadata": {},
   "outputs": [
    {
     "name": "stdout",
     "output_type": "stream",
     "text": [
      "Gaussian Naive Bayes model accuracy(in %): 75.0\n"
     ]
    }
   ],
   "source": [
    "# comparing actual response values (y_test) with predicted response values (y_pred)\n",
    "print(\"Gaussian Naive Bayes model accuracy(in %):\", metrics.accuracy_score(y_test, y_pred)*100)"
   ]
  },
  {
   "cell_type": "code",
   "execution_count": 36,
   "id": "surface-contemporary",
   "metadata": {},
   "outputs": [
    {
     "data": {
      "text/plain": [
       "[1, 1, 1, 0, 0, 0, 0, 0]"
      ]
     },
     "execution_count": 36,
     "metadata": {},
     "output_type": "execute_result"
    }
   ],
   "source": [
    "y_test"
   ]
  },
  {
   "cell_type": "code",
   "execution_count": 37,
   "id": "fleet-begin",
   "metadata": {},
   "outputs": [
    {
     "data": {
      "text/plain": [
       "array([1, 0, 0, 0, 0, 0, 0, 0])"
      ]
     },
     "execution_count": 37,
     "metadata": {},
     "output_type": "execute_result"
    }
   ],
   "source": [
    "y_pred"
   ]
  },
  {
   "cell_type": "markdown",
   "id": "automated-alignment",
   "metadata": {},
   "source": [
    "## Confusion Matrix\n",
    "\n",
    "Basically a matrix that can give information about the true output and the predicted output, i.e., how many of the outputs were correct, how many were incorrect and how many were misclassified. The outputs will be true positive, true negative, false positive and false negative"
   ]
  },
  {
   "cell_type": "code",
   "execution_count": 38,
   "id": "surface-works",
   "metadata": {},
   "outputs": [
    {
     "data": {
      "text/plain": [
       "array([[5, 0],\n",
       "       [2, 1]])"
      ]
     },
     "execution_count": 38,
     "metadata": {},
     "output_type": "execute_result"
    }
   ],
   "source": [
    "metrics.confusion_matrix(y_test,y_pred)"
   ]
  },
  {
   "cell_type": "code",
   "execution_count": 39,
   "id": "suitable-mirror",
   "metadata": {},
   "outputs": [
    {
     "data": {
      "text/plain": [
       "(5, 0, 2, 1)"
      ]
     },
     "execution_count": 39,
     "metadata": {},
     "output_type": "execute_result"
    }
   ],
   "source": [
    "tn, fp, fn, tp = metrics.confusion_matrix(y_test, y_pred).ravel()\n",
    "tn, fp, fn, tp "
   ]
  },
  {
   "cell_type": "markdown",
   "id": "continuous-vertex",
   "metadata": {},
   "source": [
    "## Accuracy\n",
    "Accuracy formula is (True Positive + True Negative) / (True Positive + True Negative + False Positive + False Negative)\n",
    "It tells us the amount of outputs the model got correct. Ex: For True label it predicted true and for False label it predicted false."
   ]
  },
  {
   "cell_type": "code",
   "execution_count": 40,
   "id": "ordered-soviet",
   "metadata": {},
   "outputs": [
    {
     "data": {
      "text/plain": [
       "0.75"
      ]
     },
     "execution_count": 40,
     "metadata": {},
     "output_type": "execute_result"
    }
   ],
   "source": [
    "accuracy=(tp+tn)/(tp+tn+fp+fn)\n",
    "accuracy"
   ]
  },
  {
   "cell_type": "markdown",
   "id": "nonprofit-wallet",
   "metadata": {},
   "source": [
    "## Misclassification\n",
    "It is a measure of the outputs that the model got wrong. Ex: For a True label it predicted False and for a False label it predicted True which are misclassified i.e., wrong.\n",
    "Misclassification=1-Accuracy\n",
    "Misclassification = (False Positive + False Negative) / (True Positive + True Negative + False Positive + False Negative)"
   ]
  },
  {
   "cell_type": "code",
   "execution_count": 41,
   "id": "sonic-subdivision",
   "metadata": {},
   "outputs": [
    {
     "data": {
      "text/plain": [
       "0.25"
      ]
     },
     "execution_count": 41,
     "metadata": {},
     "output_type": "execute_result"
    }
   ],
   "source": [
    "misclassification=(fp+fn)/(fp+fn+tp+tn)\n",
    "misclassification"
   ]
  },
  {
   "cell_type": "markdown",
   "id": "loving-music",
   "metadata": {},
   "source": [
    "## Precision\n",
    "It is a measure that shows how precise the model was in predicting the true values. (Out of all True values how many did the model predict as true)\n",
    "Precision= (True Positive) / (True Positive + False Positive)\n",
    "\n",
    "When it predicts the positive result, how often is it correct?"
   ]
  },
  {
   "cell_type": "code",
   "execution_count": 42,
   "id": "casual-recycling",
   "metadata": {},
   "outputs": [
    {
     "data": {
      "text/plain": [
       "1.0"
      ]
     },
     "execution_count": 42,
     "metadata": {},
     "output_type": "execute_result"
    }
   ],
   "source": [
    "precision=tp/(tp+fp)\n",
    "precision"
   ]
  },
  {
   "cell_type": "markdown",
   "id": "opposite-threshold",
   "metadata": {},
   "source": [
    "## Recall\n",
    "Is called the True Positive Rate or the Sensitivity of the model i.e., out of all the values how many did the model predict as true while how many did it predict falsely as true.\n",
    "Recall = (True Positive) / (True Positive + False Negative)\n",
    "\n",
    "When it is actually the positive result, how often does it predict correctly?"
   ]
  },
  {
   "cell_type": "code",
   "execution_count": 43,
   "id": "given-directory",
   "metadata": {},
   "outputs": [
    {
     "data": {
      "text/plain": [
       "0.3333333333333333"
      ]
     },
     "execution_count": 43,
     "metadata": {},
     "output_type": "execute_result"
    }
   ],
   "source": [
    "recall=tp/(tp+fn)\n",
    "recall"
   ]
  },
  {
   "cell_type": "markdown",
   "id": "subsequent-wrong",
   "metadata": {},
   "source": [
    "## F1 Score\n",
    "Harmonic Mean of Precision and Recall"
   ]
  },
  {
   "cell_type": "code",
   "execution_count": 44,
   "id": "coated-complexity",
   "metadata": {},
   "outputs": [
    {
     "data": {
      "text/plain": [
       "0.5"
      ]
     },
     "execution_count": 44,
     "metadata": {},
     "output_type": "execute_result"
    }
   ],
   "source": [
    "f1_score=2*(precision*recall)/(precision+recall)\n",
    "f1_score"
   ]
  },
  {
   "cell_type": "markdown",
   "id": "previous-architecture",
   "metadata": {},
   "source": [
    "## ROC Curve\n",
    "Receiver Operating Characteristic (ROC) curve. It is created by plotting the true positive rate (TPR) (or recall) against the false positive rate (FPR)\n",
    "\n",
    "When it is actually the negative result, how often does it predict incorrectly?"
   ]
  },
  {
   "cell_type": "code",
   "execution_count": 49,
   "id": "strong-court",
   "metadata": {},
   "outputs": [
    {
     "data": {
      "image/png": "[encoded data removed]",
      "text/plain": [
       "<Figure size 432x288 with 1 Axes>"
      ]
     },
     "metadata": {
      "needs_background": "light"
     },
     "output_type": "display_data"
    }
   ],
   "source": [
    "from sklearn.metrics import roc_curve\n",
    "\n",
    "\n",
    "fpr, tpr, thresholds = metrics.roc_curve(y_test, y_pred)\n",
    "\n",
    "plt.plot(fpr, tpr, label='ROC curve')\n",
    "plt.plot([0, 1], [0, 1], 'k--', label='Random guess')\n",
    "_ = plt.xlabel('False Positive Rate')\n",
    "_ = plt.ylabel('True Positive Rate')\n",
    "_ = plt.title('ROC Curve')\n",
    "_ = plt.xlim([-0.02, 1])\n",
    "_ = plt.ylim([0, 1.02])\n",
    "_ = plt.legend(loc=\"lower right\")"
   ]
  },
  {
   "cell_type": "code",
   "execution_count": 50,
   "id": "loved-prototype",
   "metadata": {},
   "outputs": [
    {
     "data": {
      "text/plain": [
       "0.6666666666666666"
      ]
     },
     "execution_count": 50,
     "metadata": {},
     "output_type": "execute_result"
    }
   ],
   "source": [
    "metrics.roc_auc_score(y_test,y_pred) #AUC - Area Under the ROC Curve"
   ]
  },
  {
   "cell_type": "markdown",
   "id": "atmospheric-housing",
   "metadata": {},
   "source": [
    "The area under the ROC curve (usually denoted by AUC) is a good measure of the performance of the classification algorithm. If it is near 0.5, the classifier is not much better than random guessing, whereas it gets better as the area gets close to 1.\n",
    "\n",
    "The AUC is indeed quite close to 1, and so our classifier is very good at minimizing false negatives and true negatives."
   ]
  },
  {
   "cell_type": "markdown",
   "id": "capital-roommate",
   "metadata": {},
   "source": [
    "## Precision - Recall Curve\n",
    "\n",
    "As with the ROC curve, each point in the plot corresponds to a different threshold. Threshold equal to 0 implies that the recall is 1, whereas threshold equal to 1 implies that the recall is 0, so the threshold varies from 0 to 1 from the top-left to the bottom-right of the plot.\n",
    "\n",
    "With the precision-recall curve, the closer it is to the top-right corner, the better the algorithm. And hence a larger area under the curve (AUC) indicates that the algorithm has higher recall and higher precision"
   ]
  },
  {
   "cell_type": "code",
   "execution_count": 52,
   "id": "worth-anime",
   "metadata": {},
   "outputs": [
    {
     "data": {
      "image/png": "[encoded data removed]",
      "text/plain": [
       "<Figure size 432x288 with 1 Axes>"
      ]
     },
     "metadata": {
      "needs_background": "light"
     },
     "output_type": "display_data"
    }
   ],
   "source": [
    "precision, recall, thresholds = metrics.precision_recall_curve(y_test, y_pred)\n",
    "\n",
    "plt.plot(precision, recall, label='Precision-recall curve')\n",
    "_ = plt.xlabel('Precision')\n",
    "_ = plt.ylabel('Recall')\n",
    "_ = plt.title('Precision-recall curve')\n",
    "_ = plt.legend(loc=\"lower left\")"
   ]
  },
  {
   "cell_type": "code",
   "execution_count": null,
   "id": "wicked-rolling",
   "metadata": {},
   "outputs": [],
   "source": []
  }
 ],
 "metadata": {
  "kernelspec": {
   "display_name": "Python 3",
   "language": "python",
   "name": "python3"
  },
  "language_info": {
   "codemirror_mode": {
    "name": "ipython",
    "version": 3
   },
   "file_extension": ".py",
   "mimetype": "text/x-python",
   "name": "python",
   "nbconvert_exporter": "python",
   "pygments_lexer": "ipython3",
   "version": "3.8.5"
  }
 },
 "nbformat": 4,
 "nbformat_minor": 5
}
