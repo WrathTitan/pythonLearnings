{
 "cells": [
  {
   "cell_type": "markdown",
   "id": "9d9797be-76b4-4921-9ac3-59f6755ffd7c",
   "metadata": {},
   "source": [
    "# Logistic Regression From Scrath"
   ]
  },
  {
   "cell_type": "code",
   "execution_count": 2,
   "id": "e6f8e995-144d-4b53-9a1f-6c7b48650411",
   "metadata": {},
   "outputs": [],
   "source": [
    "import numpy as np\n",
    "import pandas as pd\n",
    "from sklearn.model_selection import train_test_split\n",
    "from sklearn.linear_model import LogisticRegression"
   ]
  },
  {
   "cell_type": "code",
   "execution_count": 4,
   "id": "e2e377e0-a8cd-45c4-ae3a-df35114aee9f",
   "metadata": {},
   "outputs": [
    {
     "name": "stdout",
     "output_type": "stream",
     "text": [
      "Accuracy on test set by our model :  33.59375\n",
      "Accuracy on test set by sklearn model :  80.078125\n"
     ]
    },
    {
     "name": "stderr",
     "output_type": "stream",
     "text": [
      "/home/rishabh/myfiles/venv/lib/python3.8/site-packages/sklearn/utils/validation.py:63: DataConversionWarning: A column-vector y was passed when a 1d array was expected. Please change the shape of y to (n_samples, ), for example using ravel().\n",
      "  return f(*args, **kwargs)\n",
      "/home/rishabh/myfiles/venv/lib/python3.8/site-packages/sklearn/linear_model/_logistic.py:763: ConvergenceWarning: lbfgs failed to converge (status=1):\n",
      "STOP: TOTAL NO. of ITERATIONS REACHED LIMIT.\n",
      "\n",
      "Increase the number of iterations (max_iter) or scale the data as shown in:\n",
      "    https://scikit-learn.org/stable/modules/preprocessing.html\n",
      "Please also refer to the documentation for alternative solver options:\n",
      "    https://scikit-learn.org/stable/modules/linear_model.html#logistic-regression\n",
      "  n_iter_i = _check_optimize_result(\n"
     ]
    }
   ],
   "source": [
    "class LogitRegression():\n",
    "    def __init__(self, learning_rate, iterations):\n",
    "        self.learning_rate = learning_rate\n",
    "        self.iterations = iterations\n",
    "        \n",
    "    def fit( self, X, Y ) :\n",
    "        self.m, self.n = X.shape\n",
    "        self.W = np.zeros(self.n)\n",
    "        self.b = 0\n",
    "        self.X = X\n",
    "        self.Y = Y\n",
    "        for i in range(self.iterations):\n",
    "            self.update_weights()\n",
    "        return self\n",
    "\n",
    "    def update_weights(self):\n",
    "        A = 1 / ( 1 + np.exp( - (self.X.dot(self.W) + self.b)))\n",
    "        tmp = (A - self.Y.T)\n",
    "        tmp = np.reshape( tmp, self.m )\n",
    "        dW = np.dot( self.X.T, tmp ) / self.m\n",
    "        db = np.sum( tmp ) / self.m\n",
    "\n",
    "        self.W = self.W - self.learning_rate * dW\n",
    "        self.b = self.b - self.learning_rate * db\n",
    "        return self\n",
    "\n",
    "    def predict( self, X ) :\t\n",
    "        Z = 1 / ( 1 + np.exp( - ( X.dot( self.W ) + self.b ) ) )\t\t\n",
    "        Y = np.where( Z > 0.5, 1, 0 )\t\t\n",
    "        return Y\n",
    "\n",
    "def main():\n",
    "    df = pd.read_csv( \"diabetes.csv\" )\n",
    "    X = df.iloc[:,:-1].values\n",
    "    Y = df.iloc[:,-1:].values\n",
    "    X_train, X_test, Y_train, Y_test = train_test_split(\n",
    "    X, Y, test_size = 1/3, random_state = 0 )\n",
    "\n",
    "    model = LogitRegression( learning_rate = 0.01, iterations = 1000)\n",
    "    model.fit( X_train, Y_train )\n",
    "    model1 = LogisticRegression()\n",
    "    model1.fit( X_train, Y_train)\n",
    "    Y_pred = model.predict( X_test )\n",
    "    Y_pred1 = model1.predict( X_test )\n",
    "    correctly_classified = 0\n",
    "    correctly_classified1 = 0\n",
    "    count = 0\n",
    "    for count in range(np.size(Y_pred)):\n",
    "        if Y_test[count] == Y_pred[count]:\n",
    "            correctly_classified = correctly_classified + 1\n",
    "        if Y_test[count] == Y_pred1[count]:\n",
    "            correctly_classified1 = correctly_classified1 + 1\n",
    "        count = count + 1\n",
    "\n",
    "    print( \"Accuracy on test set by our model : \", (\n",
    "    correctly_classified / count ) * 100 )\n",
    "    print( \"Accuracy on test set by sklearn model : \", (\n",
    "    correctly_classified1 / count ) * 100 )\n",
    "\n",
    "\n",
    "if __name__ == \"__main__\" :\n",
    "    main()\n"
   ]
  },
  {
   "cell_type": "code",
   "execution_count": null,
   "id": "6e333785-5872-4916-9b4e-79f078340954",
   "metadata": {},
   "outputs": [],
   "source": []
  }
 ],
 "metadata": {
  "kernelspec": {
   "display_name": "Python 3",
   "language": "python",
   "name": "python3"
  },
  "language_info": {
   "codemirror_mode": {
    "name": "ipython",
    "version": 3
   },
   "file_extension": ".py",
   "mimetype": "text/x-python",
   "name": "python",
   "nbconvert_exporter": "python",
   "pygments_lexer": "ipython3",
   "version": "3.8.5"
  }
 },
 "nbformat": 4,
 "nbformat_minor": 5
}
