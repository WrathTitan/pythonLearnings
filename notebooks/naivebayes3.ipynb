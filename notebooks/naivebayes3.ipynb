{
 "cells": [
  {
   "cell_type": "markdown",
   "id": "collaborative-folks",
   "metadata": {},
   "source": [
    "# Naive Bayes Classifier\n",
    "\n",
    "This example is to predict whether there will be rain or not and hence deduce if we can go out or not"
   ]
  },
  {
   "cell_type": "code",
   "execution_count": 2,
   "id": "marine-opinion",
   "metadata": {},
   "outputs": [],
   "source": [
    "from sklearn.model_selection import train_test_split\n",
    "from sklearn.naive_bayes import GaussianNB\n",
    "from sklearn import metrics\n",
    "import pandas as pd"
   ]
  },
  {
   "cell_type": "code",
   "execution_count": 3,
   "id": "dominant-flesh",
   "metadata": {},
   "outputs": [
    {
     "data": {
      "text/html": [
       "<div>\n",
       "<style scoped>\n",
       "    .dataframe tbody tr th:only-of-type {\n",
       "        vertical-align: middle;\n",
       "    }\n",
       "\n",
       "    .dataframe tbody tr th {\n",
       "        vertical-align: top;\n",
       "    }\n",
       "\n",
       "    .dataframe thead th {\n",
       "        text-align: right;\n",
       "    }\n",
       "</style>\n",
       "<table border=\"1\" class=\"dataframe\">\n",
       "  <thead>\n",
       "    <tr style=\"text-align: right;\">\n",
       "      <th></th>\n",
       "      <th>Weather</th>\n",
       "      <th>Car</th>\n",
       "      <th>Class</th>\n",
       "      <th>out</th>\n",
       "      <th>home</th>\n",
       "      <th>Prediction</th>\n",
       "    </tr>\n",
       "  </thead>\n",
       "  <tbody>\n",
       "    <tr>\n",
       "      <th>0</th>\n",
       "      <td>sunny</td>\n",
       "      <td>working</td>\n",
       "      <td>go-out</td>\n",
       "      <td>0.32</td>\n",
       "      <td>0.04</td>\n",
       "      <td>go-out</td>\n",
       "    </tr>\n",
       "    <tr>\n",
       "      <th>1</th>\n",
       "      <td>rainy</td>\n",
       "      <td>broken</td>\n",
       "      <td>go-out</td>\n",
       "      <td>0.02</td>\n",
       "      <td>0.24</td>\n",
       "      <td>stay-home</td>\n",
       "    </tr>\n",
       "    <tr>\n",
       "      <th>2</th>\n",
       "      <td>sunny</td>\n",
       "      <td>working</td>\n",
       "      <td>go-out</td>\n",
       "      <td>0.32</td>\n",
       "      <td>0.04</td>\n",
       "      <td>go-out</td>\n",
       "    </tr>\n",
       "    <tr>\n",
       "      <th>3</th>\n",
       "      <td>sunny</td>\n",
       "      <td>working</td>\n",
       "      <td>go-out</td>\n",
       "      <td>0.32</td>\n",
       "      <td>0.04</td>\n",
       "      <td>go-out</td>\n",
       "    </tr>\n",
       "    <tr>\n",
       "      <th>4</th>\n",
       "      <td>sunny</td>\n",
       "      <td>working</td>\n",
       "      <td>go-out</td>\n",
       "      <td>0.32</td>\n",
       "      <td>0.04</td>\n",
       "      <td>go-out</td>\n",
       "    </tr>\n",
       "  </tbody>\n",
       "</table>\n",
       "</div>"
      ],
      "text/plain": [
       "  Weather      Car   Class   out  home Prediction\n",
       "0   sunny  working  go-out  0.32  0.04     go-out\n",
       "1   rainy   broken  go-out  0.02  0.24  stay-home\n",
       "2   sunny  working  go-out  0.32  0.04     go-out\n",
       "3   sunny  working  go-out  0.32  0.04     go-out\n",
       "4   sunny  working  go-out  0.32  0.04     go-out"
      ]
     },
     "execution_count": 3,
     "metadata": {},
     "output_type": "execute_result"
    }
   ],
   "source": [
    "#Opening my custom dataset\n",
    "mycsvfile=pd.read_csv('nbdataset2.csv')\n",
    "mycsvfile.head() #Checking to make sure if everything is proper or not by displaying the first 5 rows"
   ]
  },
  {
   "cell_type": "code",
   "execution_count": 4,
   "id": "discrete-auditor",
   "metadata": {},
   "outputs": [
    {
     "data": {
      "text/html": [
       "<div>\n",
       "<style scoped>\n",
       "    .dataframe tbody tr th:only-of-type {\n",
       "        vertical-align: middle;\n",
       "    }\n",
       "\n",
       "    .dataframe tbody tr th {\n",
       "        vertical-align: top;\n",
       "    }\n",
       "\n",
       "    .dataframe thead th {\n",
       "        text-align: right;\n",
       "    }\n",
       "</style>\n",
       "<table border=\"1\" class=\"dataframe\">\n",
       "  <thead>\n",
       "    <tr style=\"text-align: right;\">\n",
       "      <th></th>\n",
       "      <th>Weather</th>\n",
       "      <th>Car</th>\n",
       "      <th>Class</th>\n",
       "      <th>out</th>\n",
       "      <th>home</th>\n",
       "      <th>Prediction</th>\n",
       "    </tr>\n",
       "  </thead>\n",
       "  <tbody>\n",
       "    <tr>\n",
       "      <th>5</th>\n",
       "      <td>rainy</td>\n",
       "      <td>broken</td>\n",
       "      <td>stay-home</td>\n",
       "      <td>0.02</td>\n",
       "      <td>0.24</td>\n",
       "      <td>stay-home</td>\n",
       "    </tr>\n",
       "    <tr>\n",
       "      <th>6</th>\n",
       "      <td>rainy</td>\n",
       "      <td>broken</td>\n",
       "      <td>stay-home</td>\n",
       "      <td>0.02</td>\n",
       "      <td>0.24</td>\n",
       "      <td>stay-home</td>\n",
       "    </tr>\n",
       "    <tr>\n",
       "      <th>7</th>\n",
       "      <td>sunny</td>\n",
       "      <td>working</td>\n",
       "      <td>stay-home</td>\n",
       "      <td>0.32</td>\n",
       "      <td>0.04</td>\n",
       "      <td>go-out</td>\n",
       "    </tr>\n",
       "    <tr>\n",
       "      <th>8</th>\n",
       "      <td>sunny</td>\n",
       "      <td>broken</td>\n",
       "      <td>stay-home</td>\n",
       "      <td>0.08</td>\n",
       "      <td>0.16</td>\n",
       "      <td>stay-home</td>\n",
       "    </tr>\n",
       "    <tr>\n",
       "      <th>9</th>\n",
       "      <td>rainy</td>\n",
       "      <td>broken</td>\n",
       "      <td>stay-home</td>\n",
       "      <td>0.02</td>\n",
       "      <td>0.24</td>\n",
       "      <td>stay-home</td>\n",
       "    </tr>\n",
       "  </tbody>\n",
       "</table>\n",
       "</div>"
      ],
      "text/plain": [
       "  Weather      Car      Class   out  home Prediction\n",
       "5   rainy   broken  stay-home  0.02  0.24  stay-home\n",
       "6   rainy   broken  stay-home  0.02  0.24  stay-home\n",
       "7   sunny  working  stay-home  0.32  0.04     go-out\n",
       "8   sunny   broken  stay-home  0.08  0.16  stay-home\n",
       "9   rainy   broken  stay-home  0.02  0.24  stay-home"
      ]
     },
     "execution_count": 4,
     "metadata": {},
     "output_type": "execute_result"
    }
   ],
   "source": [
    "mycsvfile.tail()"
   ]
  },
  {
   "cell_type": "code",
   "execution_count": 5,
   "id": "headed-deadline",
   "metadata": {},
   "outputs": [
    {
     "data": {
      "text/plain": [
       "0       go-out\n",
       "1       go-out\n",
       "2       go-out\n",
       "3       go-out\n",
       "4       go-out\n",
       "5    stay-home\n",
       "6    stay-home\n",
       "7    stay-home\n",
       "8    stay-home\n",
       "9    stay-home\n",
       "Name: Class, dtype: object"
      ]
     },
     "execution_count": 5,
     "metadata": {},
     "output_type": "execute_result"
    }
   ],
   "source": [
    "y=mycsvfile[\"Class\"]\n",
    "y"
   ]
  },
  {
   "cell_type": "code",
   "execution_count": 6,
   "id": "outdoor-straight",
   "metadata": {},
   "outputs": [
    {
     "name": "stdout",
     "output_type": "stream",
     "text": [
      "<class 'pandas.core.frame.DataFrame'>\n",
      "RangeIndex: 10 entries, 0 to 9\n",
      "Data columns (total 6 columns):\n",
      " #   Column      Non-Null Count  Dtype  \n",
      "---  ------      --------------  -----  \n",
      " 0   Weather     10 non-null     object \n",
      " 1   Car         10 non-null     object \n",
      " 2   Class       10 non-null     object \n",
      " 3   out         10 non-null     float64\n",
      " 4   home        10 non-null     float64\n",
      " 5   Prediction  10 non-null     object \n",
      "dtypes: float64(2), object(4)\n",
      "memory usage: 608.0+ bytes\n"
     ]
    }
   ],
   "source": [
    "mycsvfile.info()"
   ]
  },
  {
   "cell_type": "code",
   "execution_count": 7,
   "id": "international-istanbul",
   "metadata": {},
   "outputs": [
    {
     "name": "stdout",
     "output_type": "stream",
     "text": [
      "[[1, 1, 0.32, 0.04], [0, 0, 0.02, 0.24], [1, 1, 0.32, 0.04], [1, 1, 0.32, 0.04], [1, 1, 0.32, 0.04], [0, 0, 0.02, 0.24], [0, 0, 0.02, 0.24], [1, 1, 0.32, 0.04], [1, 0, 0.08, 0.16], [0, 0, 0.02, 0.24]]\n",
      "[1, 1, 1, 1, 1, 0, 0, 0, 0, 0]\n"
     ]
    }
   ],
   "source": [
    "X=[]\n",
    "y=[]\n",
    "for i in range(10):\n",
    "    if(mycsvfile[\"Weather\"][i]=='sunny'):\n",
    "        weather=1\n",
    "    else:\n",
    "        weather=0\n",
    "    \n",
    "    if(mycsvfile[\"Car\"][i]=='working'):\n",
    "        car=1\n",
    "    else:\n",
    "        car=0\n",
    "    \n",
    "    if(mycsvfile[\"Class\"][i]=='go-out'):\n",
    "        label=1\n",
    "    else:\n",
    "        label=0\n",
    "    \n",
    "    row=[weather,car,mycsvfile[\"out\"][i],mycsvfile[\"home\"][i]]\n",
    "    X.append(row)\n",
    "    y.append(label)\n",
    "print(X)\n",
    "print(y)"
   ]
  },
  {
   "cell_type": "code",
   "execution_count": 8,
   "id": "looking-profession",
   "metadata": {},
   "outputs": [],
   "source": [
    "X_train, X_test, y_train, y_test = train_test_split(X, y, test_size=0.2, random_state=1)"
   ]
  },
  {
   "cell_type": "code",
   "execution_count": 9,
   "id": "preliminary-container",
   "metadata": {},
   "outputs": [
    {
     "data": {
      "text/plain": [
       "[[0, 0, 0.02, 0.24],\n",
       " [1, 1, 0.32, 0.04],\n",
       " [1, 1, 0.32, 0.04],\n",
       " [1, 1, 0.32, 0.04],\n",
       " [0, 0, 0.02, 0.24],\n",
       " [1, 1, 0.32, 0.04],\n",
       " [1, 0, 0.08, 0.16],\n",
       " [0, 0, 0.02, 0.24]]"
      ]
     },
     "execution_count": 9,
     "metadata": {},
     "output_type": "execute_result"
    }
   ],
   "source": [
    "X_train"
   ]
  },
  {
   "cell_type": "code",
   "execution_count": 10,
   "id": "skilled-tobacco",
   "metadata": {},
   "outputs": [
    {
     "data": {
      "text/plain": [
       "[[1, 1, 0.32, 0.04], [0, 0, 0.02, 0.24]]"
      ]
     },
     "execution_count": 10,
     "metadata": {},
     "output_type": "execute_result"
    }
   ],
   "source": [
    "X_test"
   ]
  },
  {
   "cell_type": "code",
   "execution_count": 11,
   "id": "suffering-default",
   "metadata": {},
   "outputs": [
    {
     "data": {
      "text/plain": [
       "[0, 1, 1, 1, 1, 0, 0, 0]"
      ]
     },
     "execution_count": 11,
     "metadata": {},
     "output_type": "execute_result"
    }
   ],
   "source": [
    "y_train"
   ]
  },
  {
   "cell_type": "code",
   "execution_count": 12,
   "id": "wireless-touch",
   "metadata": {},
   "outputs": [
    {
     "data": {
      "text/plain": [
       "[1, 0]"
      ]
     },
     "execution_count": 12,
     "metadata": {},
     "output_type": "execute_result"
    }
   ],
   "source": [
    "y_test"
   ]
  },
  {
   "cell_type": "code",
   "execution_count": 13,
   "id": "cross-electron",
   "metadata": {},
   "outputs": [
    {
     "data": {
      "text/plain": [
       "GaussianNB()"
      ]
     },
     "execution_count": 13,
     "metadata": {},
     "output_type": "execute_result"
    }
   ],
   "source": [
    "gnb = GaussianNB()\n",
    "gnb.fit(X_train, y_train)"
   ]
  },
  {
   "cell_type": "code",
   "execution_count": 14,
   "id": "martial-failing",
   "metadata": {},
   "outputs": [
    {
     "data": {
      "text/plain": [
       "array([1, 0])"
      ]
     },
     "execution_count": 14,
     "metadata": {},
     "output_type": "execute_result"
    }
   ],
   "source": [
    "y_pred = gnb.predict(X_test)\n",
    "y_pred"
   ]
  },
  {
   "cell_type": "code",
   "execution_count": 15,
   "id": "guilty-nation",
   "metadata": {},
   "outputs": [
    {
     "name": "stdout",
     "output_type": "stream",
     "text": [
      "Gaussian Naive Bayes model accuracy(in %): 100.0\n"
     ]
    }
   ],
   "source": [
    "print(\"Gaussian Naive Bayes model accuracy(in %):\", metrics.accuracy_score(y_test, y_pred)*100)"
   ]
  },
  {
   "cell_type": "code",
   "execution_count": null,
   "id": "medical-classroom",
   "metadata": {},
   "outputs": [],
   "source": []
  }
 ],
 "metadata": {
  "kernelspec": {
   "display_name": "Python 3",
   "language": "python",
   "name": "python3"
  },
  "language_info": {
   "codemirror_mode": {
    "name": "ipython",
    "version": 3
   },
   "file_extension": ".py",
   "mimetype": "text/x-python",
   "name": "python",
   "nbconvert_exporter": "python",
   "pygments_lexer": "ipython3",
   "version": "3.8.5"
  }
 },
 "nbformat": 4,
 "nbformat_minor": 5
}
