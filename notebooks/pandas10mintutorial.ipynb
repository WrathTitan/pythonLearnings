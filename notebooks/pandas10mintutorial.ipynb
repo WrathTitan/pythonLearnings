{
 "cells": [
  {
   "cell_type": "markdown",
   "id": "permanent-auction",
   "metadata": {},
   "source": [
    "# Pandas Learnings\n",
    "10 mins tutorial content"
   ]
  },
  {
   "cell_type": "code",
   "execution_count": 3,
   "id": "threaded-farming",
   "metadata": {},
   "outputs": [],
   "source": [
    "import pandas as pd\n",
    "import numpy as np"
   ]
  },
  {
   "cell_type": "markdown",
   "id": "announced-nepal",
   "metadata": {},
   "source": [
    "Object creation in Pandas\n",
    "\n",
    "Creating a Series by passing a list of values, letting pandas create a default integer index:"
   ]
  },
  {
   "cell_type": "code",
   "execution_count": 4,
   "id": "vocal-minnesota",
   "metadata": {},
   "outputs": [
    {
     "data": {
      "text/plain": [
       "0    1\n",
       "1    2\n",
       "2    3\n",
       "3    4\n",
       "4    5\n",
       "5    6\n",
       "6    7\n",
       "7    8\n",
       "dtype: int64"
      ]
     },
     "execution_count": 4,
     "metadata": {},
     "output_type": "execute_result"
    }
   ],
   "source": [
    "df=pd.Series([1,2,3,4,5,6,7,8])\n",
    "df"
   ]
  },
  {
   "cell_type": "markdown",
   "id": "executive-breach",
   "metadata": {},
   "source": [
    "Creating a DataFrame by passing a NumPy array, with a datetime index and labeled columns:"
   ]
  },
  {
   "cell_type": "code",
   "execution_count": 5,
   "id": "diagnostic-ending",
   "metadata": {},
   "outputs": [
    {
     "data": {
      "text/plain": [
       "DatetimeIndex(['2020-02-01', '2020-02-02', '2020-02-03', '2020-02-04',\n",
       "               '2020-02-05', '2020-02-06'],\n",
       "              dtype='datetime64[ns]', freq='D')"
      ]
     },
     "execution_count": 5,
     "metadata": {},
     "output_type": "execute_result"
    }
   ],
   "source": [
    "dates=pd.date_range(\"20200201\",periods=6)\n",
    "dates"
   ]
  },
  {
   "cell_type": "code",
   "execution_count": 6,
   "id": "pretty-serum",
   "metadata": {},
   "outputs": [
    {
     "data": {
      "text/html": [
       "<div>\n",
       "<style scoped>\n",
       "    .dataframe tbody tr th:only-of-type {\n",
       "        vertical-align: middle;\n",
       "    }\n",
       "\n",
       "    .dataframe tbody tr th {\n",
       "        vertical-align: top;\n",
       "    }\n",
       "\n",
       "    .dataframe thead th {\n",
       "        text-align: right;\n",
       "    }\n",
       "</style>\n",
       "<table border=\"1\" class=\"dataframe\">\n",
       "  <thead>\n",
       "    <tr style=\"text-align: right;\">\n",
       "      <th></th>\n",
       "      <th>A</th>\n",
       "      <th>B</th>\n",
       "      <th>C</th>\n",
       "      <th>D</th>\n",
       "    </tr>\n",
       "  </thead>\n",
       "  <tbody>\n",
       "    <tr>\n",
       "      <th>2020-02-01</th>\n",
       "      <td>2.212505</td>\n",
       "      <td>0.582702</td>\n",
       "      <td>0.178171</td>\n",
       "      <td>0.789600</td>\n",
       "    </tr>\n",
       "    <tr>\n",
       "      <th>2020-02-02</th>\n",
       "      <td>0.786713</td>\n",
       "      <td>-1.164037</td>\n",
       "      <td>-1.927600</td>\n",
       "      <td>-0.083895</td>\n",
       "    </tr>\n",
       "    <tr>\n",
       "      <th>2020-02-03</th>\n",
       "      <td>0.335310</td>\n",
       "      <td>-0.416886</td>\n",
       "      <td>-0.620040</td>\n",
       "      <td>-0.711484</td>\n",
       "    </tr>\n",
       "    <tr>\n",
       "      <th>2020-02-04</th>\n",
       "      <td>0.479770</td>\n",
       "      <td>-0.523725</td>\n",
       "      <td>1.432016</td>\n",
       "      <td>0.033962</td>\n",
       "    </tr>\n",
       "    <tr>\n",
       "      <th>2020-02-05</th>\n",
       "      <td>-0.614333</td>\n",
       "      <td>0.263739</td>\n",
       "      <td>1.071383</td>\n",
       "      <td>-0.997979</td>\n",
       "    </tr>\n",
       "    <tr>\n",
       "      <th>2020-02-06</th>\n",
       "      <td>-0.171083</td>\n",
       "      <td>-0.240813</td>\n",
       "      <td>-0.637784</td>\n",
       "      <td>-1.211224</td>\n",
       "    </tr>\n",
       "  </tbody>\n",
       "</table>\n",
       "</div>"
      ],
      "text/plain": [
       "                   A         B         C         D\n",
       "2020-02-01  2.212505  0.582702  0.178171  0.789600\n",
       "2020-02-02  0.786713 -1.164037 -1.927600 -0.083895\n",
       "2020-02-03  0.335310 -0.416886 -0.620040 -0.711484\n",
       "2020-02-04  0.479770 -0.523725  1.432016  0.033962\n",
       "2020-02-05 -0.614333  0.263739  1.071383 -0.997979\n",
       "2020-02-06 -0.171083 -0.240813 -0.637784 -1.211224"
      ]
     },
     "execution_count": 6,
     "metadata": {},
     "output_type": "execute_result"
    }
   ],
   "source": [
    "df=pd.DataFrame(np.random.randn(6,4),index=dates,columns=list(\"ABCD\"))\n",
    "df"
   ]
  },
  {
   "cell_type": "code",
   "execution_count": 7,
   "id": "metropolitan-aging",
   "metadata": {},
   "outputs": [
    {
     "data": {
      "text/plain": [
       "array([[ 0.32094135,  0.98309191,  3.09411377, -1.56893925],\n",
       "       [ 1.03163896, -2.22755213,  2.59480045, -0.78332082],\n",
       "       [-0.29258039, -0.67638536,  0.59782434, -0.22405862],\n",
       "       [-1.19912396,  0.21418521, -2.25496601,  0.54300079],\n",
       "       [-0.37757157,  0.08365752, -0.78439234, -2.61975598],\n",
       "       [ 0.08296901, -0.45666072,  0.51848339,  0.39056119]])"
      ]
     },
     "execution_count": 7,
     "metadata": {},
     "output_type": "execute_result"
    }
   ],
   "source": [
    "np.random.randn(6,4)"
   ]
  },
  {
   "cell_type": "code",
   "execution_count": 8,
   "id": "respected-intermediate",
   "metadata": {},
   "outputs": [
    {
     "name": "stdout",
     "output_type": "stream",
     "text": [
      "[[ 0.45908934  2.2628409  -1.41945565  0.31606455]\n",
      " [-0.57155348 -1.35229131 -0.36232962 -0.05118886]\n",
      " [ 0.27909333  0.18211374  0.78909142  0.97358948]\n",
      " [ 1.93018538  2.56794553 -0.63210418  0.39782417]\n",
      " [-1.45310809  1.49022287 -1.80629301  0.94820763]\n",
      " [ 0.78990751  1.07806432  0.01708654  0.02223839]]\n"
     ]
    }
   ],
   "source": [
    "print(np.random.randn(6,4))"
   ]
  },
  {
   "cell_type": "code",
   "execution_count": 9,
   "id": "contained-daily",
   "metadata": {},
   "outputs": [
    {
     "data": {
      "text/html": [
       "<div>\n",
       "<style scoped>\n",
       "    .dataframe tbody tr th:only-of-type {\n",
       "        vertical-align: middle;\n",
       "    }\n",
       "\n",
       "    .dataframe tbody tr th {\n",
       "        vertical-align: top;\n",
       "    }\n",
       "\n",
       "    .dataframe thead th {\n",
       "        text-align: right;\n",
       "    }\n",
       "</style>\n",
       "<table border=\"1\" class=\"dataframe\">\n",
       "  <thead>\n",
       "    <tr style=\"text-align: right;\">\n",
       "      <th></th>\n",
       "      <th>Persons</th>\n",
       "      <th>Subject 1</th>\n",
       "      <th>Subject 2</th>\n",
       "      <th>Subject 3</th>\n",
       "    </tr>\n",
       "  </thead>\n",
       "  <tbody>\n",
       "    <tr>\n",
       "      <th>Person A</th>\n",
       "      <td>0.765830</td>\n",
       "      <td>-0.513229</td>\n",
       "      <td>0.399245</td>\n",
       "      <td>-0.066224</td>\n",
       "    </tr>\n",
       "    <tr>\n",
       "      <th>Person B</th>\n",
       "      <td>1.736127</td>\n",
       "      <td>-0.177190</td>\n",
       "      <td>-0.418288</td>\n",
       "      <td>0.481098</td>\n",
       "    </tr>\n",
       "    <tr>\n",
       "      <th>Person C</th>\n",
       "      <td>-0.548556</td>\n",
       "      <td>0.130764</td>\n",
       "      <td>-0.114324</td>\n",
       "      <td>-0.425738</td>\n",
       "    </tr>\n",
       "    <tr>\n",
       "      <th>Person D</th>\n",
       "      <td>0.346643</td>\n",
       "      <td>-0.621566</td>\n",
       "      <td>1.068353</td>\n",
       "      <td>-0.591244</td>\n",
       "    </tr>\n",
       "    <tr>\n",
       "      <th>Person E</th>\n",
       "      <td>-1.371688</td>\n",
       "      <td>0.391739</td>\n",
       "      <td>-0.892915</td>\n",
       "      <td>2.546680</td>\n",
       "    </tr>\n",
       "  </tbody>\n",
       "</table>\n",
       "</div>"
      ],
      "text/plain": [
       "           Persons  Subject 1  Subject 2  Subject 3\n",
       "Person A  0.765830  -0.513229   0.399245  -0.066224\n",
       "Person B  1.736127  -0.177190  -0.418288   0.481098\n",
       "Person C -0.548556   0.130764  -0.114324  -0.425738\n",
       "Person D  0.346643  -0.621566   1.068353  -0.591244\n",
       "Person E -1.371688   0.391739  -0.892915   2.546680"
      ]
     },
     "execution_count": 9,
     "metadata": {},
     "output_type": "execute_result"
    }
   ],
   "source": [
    "series_index=pd.Series([\"Person A\",\"Person B\",\"Person C\",\"Person D\",\"Person E\"])\n",
    "series_grade=pd.Series([\"A\",\"B\",\"A\",\"A\",\"C\"])\n",
    "df=pd.DataFrame(np.random.randn(5,4),index=series_index,columns=[\"Persons\",\"Subject 1\",\"Subject 2\",\"Subject 3\"])\n",
    "df"
   ]
  },
  {
   "cell_type": "markdown",
   "id": "patent-forwarding",
   "metadata": {},
   "source": [
    "Creating a DataFrame by passing a dict of objects that can be converted to series-like.\n"
   ]
  },
  {
   "cell_type": "code",
   "execution_count": 10,
   "id": "underlying-relevance",
   "metadata": {},
   "outputs": [
    {
     "data": {
      "text/html": [
       "<div>\n",
       "<style scoped>\n",
       "    .dataframe tbody tr th:only-of-type {\n",
       "        vertical-align: middle;\n",
       "    }\n",
       "\n",
       "    .dataframe tbody tr th {\n",
       "        vertical-align: top;\n",
       "    }\n",
       "\n",
       "    .dataframe thead th {\n",
       "        text-align: right;\n",
       "    }\n",
       "</style>\n",
       "<table border=\"1\" class=\"dataframe\">\n",
       "  <thead>\n",
       "    <tr style=\"text-align: right;\">\n",
       "      <th></th>\n",
       "      <th>A</th>\n",
       "      <th>B</th>\n",
       "      <th>C</th>\n",
       "      <th>D</th>\n",
       "      <th>E</th>\n",
       "      <th>F</th>\n",
       "    </tr>\n",
       "  </thead>\n",
       "  <tbody>\n",
       "    <tr>\n",
       "      <th>0</th>\n",
       "      <td>1.0</td>\n",
       "      <td>2013-01-02</td>\n",
       "      <td>1.0</td>\n",
       "      <td>3</td>\n",
       "      <td>test</td>\n",
       "      <td>foo</td>\n",
       "    </tr>\n",
       "    <tr>\n",
       "      <th>1</th>\n",
       "      <td>1.0</td>\n",
       "      <td>2013-01-02</td>\n",
       "      <td>1.0</td>\n",
       "      <td>3</td>\n",
       "      <td>train</td>\n",
       "      <td>foo</td>\n",
       "    </tr>\n",
       "    <tr>\n",
       "      <th>2</th>\n",
       "      <td>1.0</td>\n",
       "      <td>2013-01-02</td>\n",
       "      <td>1.0</td>\n",
       "      <td>3</td>\n",
       "      <td>test</td>\n",
       "      <td>foo</td>\n",
       "    </tr>\n",
       "    <tr>\n",
       "      <th>3</th>\n",
       "      <td>1.0</td>\n",
       "      <td>2013-01-02</td>\n",
       "      <td>1.0</td>\n",
       "      <td>3</td>\n",
       "      <td>train</td>\n",
       "      <td>foo</td>\n",
       "    </tr>\n",
       "  </tbody>\n",
       "</table>\n",
       "</div>"
      ],
      "text/plain": [
       "     A          B    C  D      E    F\n",
       "0  1.0 2013-01-02  1.0  3   test  foo\n",
       "1  1.0 2013-01-02  1.0  3  train  foo\n",
       "2  1.0 2013-01-02  1.0  3   test  foo\n",
       "3  1.0 2013-01-02  1.0  3  train  foo"
      ]
     },
     "execution_count": 10,
     "metadata": {},
     "output_type": "execute_result"
    }
   ],
   "source": [
    "df2 = pd.DataFrame({\n",
    "   ...:         \"A\": 1.0,\n",
    "   ...:         \"B\": pd.Timestamp(\"20130102\"),\n",
    "   ...:         \"C\": pd.Series(1, index=list(range(4)), dtype=\"float32\"),\n",
    "   ...:         \"D\": np.array([3] * 4, dtype=\"int32\"),\n",
    "   ...:         \"E\": pd.Categorical([\"test\", \"train\", \"test\", \"train\"]),\n",
    "   ...:         \"F\": \"foo\",\n",
    "   ...:     }\n",
    "   ...: )\n",
    "df2"
   ]
  },
  {
   "cell_type": "code",
   "execution_count": 11,
   "id": "distributed-village",
   "metadata": {},
   "outputs": [
    {
     "data": {
      "text/plain": [
       "A           float64\n",
       "B    datetime64[ns]\n",
       "C           float32\n",
       "D             int32\n",
       "E          category\n",
       "F            object\n",
       "dtype: object"
      ]
     },
     "execution_count": 11,
     "metadata": {},
     "output_type": "execute_result"
    }
   ],
   "source": [
    "df2.dtypes"
   ]
  },
  {
   "cell_type": "code",
   "execution_count": 12,
   "id": "based-woman",
   "metadata": {},
   "outputs": [
    {
     "data": {
      "text/html": [
       "<div>\n",
       "<style scoped>\n",
       "    .dataframe tbody tr th:only-of-type {\n",
       "        vertical-align: middle;\n",
       "    }\n",
       "\n",
       "    .dataframe tbody tr th {\n",
       "        vertical-align: top;\n",
       "    }\n",
       "\n",
       "    .dataframe thead th {\n",
       "        text-align: right;\n",
       "    }\n",
       "</style>\n",
       "<table border=\"1\" class=\"dataframe\">\n",
       "  <thead>\n",
       "    <tr style=\"text-align: right;\">\n",
       "      <th></th>\n",
       "      <th>Persons</th>\n",
       "      <th>Subject 1</th>\n",
       "      <th>Subject 2</th>\n",
       "      <th>Subject 3</th>\n",
       "    </tr>\n",
       "  </thead>\n",
       "  <tbody>\n",
       "    <tr>\n",
       "      <th>Person A</th>\n",
       "      <td>0.765830</td>\n",
       "      <td>-0.513229</td>\n",
       "      <td>0.399245</td>\n",
       "      <td>-0.066224</td>\n",
       "    </tr>\n",
       "    <tr>\n",
       "      <th>Person B</th>\n",
       "      <td>1.736127</td>\n",
       "      <td>-0.177190</td>\n",
       "      <td>-0.418288</td>\n",
       "      <td>0.481098</td>\n",
       "    </tr>\n",
       "    <tr>\n",
       "      <th>Person C</th>\n",
       "      <td>-0.548556</td>\n",
       "      <td>0.130764</td>\n",
       "      <td>-0.114324</td>\n",
       "      <td>-0.425738</td>\n",
       "    </tr>\n",
       "    <tr>\n",
       "      <th>Person D</th>\n",
       "      <td>0.346643</td>\n",
       "      <td>-0.621566</td>\n",
       "      <td>1.068353</td>\n",
       "      <td>-0.591244</td>\n",
       "    </tr>\n",
       "    <tr>\n",
       "      <th>Person E</th>\n",
       "      <td>-1.371688</td>\n",
       "      <td>0.391739</td>\n",
       "      <td>-0.892915</td>\n",
       "      <td>2.546680</td>\n",
       "    </tr>\n",
       "  </tbody>\n",
       "</table>\n",
       "</div>"
      ],
      "text/plain": [
       "           Persons  Subject 1  Subject 2  Subject 3\n",
       "Person A  0.765830  -0.513229   0.399245  -0.066224\n",
       "Person B  1.736127  -0.177190  -0.418288   0.481098\n",
       "Person C -0.548556   0.130764  -0.114324  -0.425738\n",
       "Person D  0.346643  -0.621566   1.068353  -0.591244\n",
       "Person E -1.371688   0.391739  -0.892915   2.546680"
      ]
     },
     "execution_count": 12,
     "metadata": {},
     "output_type": "execute_result"
    }
   ],
   "source": [
    "df.head()"
   ]
  },
  {
   "cell_type": "code",
   "execution_count": 13,
   "id": "forward-instruction",
   "metadata": {},
   "outputs": [
    {
     "data": {
      "text/html": [
       "<div>\n",
       "<style scoped>\n",
       "    .dataframe tbody tr th:only-of-type {\n",
       "        vertical-align: middle;\n",
       "    }\n",
       "\n",
       "    .dataframe tbody tr th {\n",
       "        vertical-align: top;\n",
       "    }\n",
       "\n",
       "    .dataframe thead th {\n",
       "        text-align: right;\n",
       "    }\n",
       "</style>\n",
       "<table border=\"1\" class=\"dataframe\">\n",
       "  <thead>\n",
       "    <tr style=\"text-align: right;\">\n",
       "      <th></th>\n",
       "      <th>Persons</th>\n",
       "      <th>Subject 1</th>\n",
       "      <th>Subject 2</th>\n",
       "      <th>Subject 3</th>\n",
       "    </tr>\n",
       "  </thead>\n",
       "  <tbody>\n",
       "    <tr>\n",
       "      <th>Person D</th>\n",
       "      <td>0.346643</td>\n",
       "      <td>-0.621566</td>\n",
       "      <td>1.068353</td>\n",
       "      <td>-0.591244</td>\n",
       "    </tr>\n",
       "    <tr>\n",
       "      <th>Person E</th>\n",
       "      <td>-1.371688</td>\n",
       "      <td>0.391739</td>\n",
       "      <td>-0.892915</td>\n",
       "      <td>2.546680</td>\n",
       "    </tr>\n",
       "  </tbody>\n",
       "</table>\n",
       "</div>"
      ],
      "text/plain": [
       "           Persons  Subject 1  Subject 2  Subject 3\n",
       "Person D  0.346643  -0.621566   1.068353  -0.591244\n",
       "Person E -1.371688   0.391739  -0.892915   2.546680"
      ]
     },
     "execution_count": 13,
     "metadata": {},
     "output_type": "execute_result"
    }
   ],
   "source": [
    "df.tail(2)"
   ]
  },
  {
   "cell_type": "code",
   "execution_count": 14,
   "id": "acknowledged-third",
   "metadata": {},
   "outputs": [
    {
     "data": {
      "text/plain": [
       "Index(['Person A', 'Person B', 'Person C', 'Person D', 'Person E'], dtype='object')"
      ]
     },
     "execution_count": 14,
     "metadata": {},
     "output_type": "execute_result"
    }
   ],
   "source": [
    "df.index"
   ]
  },
  {
   "cell_type": "code",
   "execution_count": 15,
   "id": "closing-precipitation",
   "metadata": {},
   "outputs": [
    {
     "data": {
      "text/plain": [
       "Index(['Persons', 'Subject 1', 'Subject 2', 'Subject 3'], dtype='object')"
      ]
     },
     "execution_count": 15,
     "metadata": {},
     "output_type": "execute_result"
    }
   ],
   "source": [
    "df.columns"
   ]
  },
  {
   "cell_type": "markdown",
   "id": "applicable-timeline",
   "metadata": {},
   "source": [
    "DataFrame.to_numpy() gives a NumPy representation of the underlying data.\n",
    "NumPy arrays have one dtype for the entire array, while pandas DataFrames have one dtype per column.\n",
    "When you call DataFrame.to_numpy(), pandas will find the NumPy dtype that can hold all of the dtypes in the DataFrame. This may end up being object, which requires casting every value to a Python object."
   ]
  },
  {
   "cell_type": "code",
   "execution_count": 16,
   "id": "negative-tradition",
   "metadata": {},
   "outputs": [
    {
     "data": {
      "text/plain": [
       "array([[ 0.76582966, -0.51322906,  0.3992449 , -0.06622398],\n",
       "       [ 1.7361272 , -0.17718964, -0.41828819,  0.48109791],\n",
       "       [-0.54855648,  0.13076427, -0.11432365, -0.42573776],\n",
       "       [ 0.34664264, -0.62156635,  1.06835291, -0.5912438 ],\n",
       "       [-1.371688  ,  0.39173942, -0.89291477,  2.5466801 ]])"
      ]
     },
     "execution_count": 16,
     "metadata": {},
     "output_type": "execute_result"
    }
   ],
   "source": [
    "df.to_numpy()"
   ]
  },
  {
   "cell_type": "code",
   "execution_count": 17,
   "id": "encouraging-harrison",
   "metadata": {},
   "outputs": [
    {
     "data": {
      "text/plain": [
       "array([[1.0, Timestamp('2013-01-02 00:00:00'), 1.0, 3, 'test', 'foo'],\n",
       "       [1.0, Timestamp('2013-01-02 00:00:00'), 1.0, 3, 'train', 'foo'],\n",
       "       [1.0, Timestamp('2013-01-02 00:00:00'), 1.0, 3, 'test', 'foo'],\n",
       "       [1.0, Timestamp('2013-01-02 00:00:00'), 1.0, 3, 'train', 'foo']],\n",
       "      dtype=object)"
      ]
     },
     "execution_count": 17,
     "metadata": {},
     "output_type": "execute_result"
    }
   ],
   "source": [
    "df2.to_numpy()"
   ]
  },
  {
   "cell_type": "code",
   "execution_count": 18,
   "id": "hourly-belle",
   "metadata": {},
   "outputs": [
    {
     "data": {
      "text/html": [
       "<div>\n",
       "<style scoped>\n",
       "    .dataframe tbody tr th:only-of-type {\n",
       "        vertical-align: middle;\n",
       "    }\n",
       "\n",
       "    .dataframe tbody tr th {\n",
       "        vertical-align: top;\n",
       "    }\n",
       "\n",
       "    .dataframe thead th {\n",
       "        text-align: right;\n",
       "    }\n",
       "</style>\n",
       "<table border=\"1\" class=\"dataframe\">\n",
       "  <thead>\n",
       "    <tr style=\"text-align: right;\">\n",
       "      <th></th>\n",
       "      <th>Person A</th>\n",
       "      <th>Person B</th>\n",
       "      <th>Person C</th>\n",
       "      <th>Person D</th>\n",
       "      <th>Person E</th>\n",
       "    </tr>\n",
       "  </thead>\n",
       "  <tbody>\n",
       "    <tr>\n",
       "      <th>Persons</th>\n",
       "      <td>0.765830</td>\n",
       "      <td>1.736127</td>\n",
       "      <td>-0.548556</td>\n",
       "      <td>0.346643</td>\n",
       "      <td>-1.371688</td>\n",
       "    </tr>\n",
       "    <tr>\n",
       "      <th>Subject 1</th>\n",
       "      <td>-0.513229</td>\n",
       "      <td>-0.177190</td>\n",
       "      <td>0.130764</td>\n",
       "      <td>-0.621566</td>\n",
       "      <td>0.391739</td>\n",
       "    </tr>\n",
       "    <tr>\n",
       "      <th>Subject 2</th>\n",
       "      <td>0.399245</td>\n",
       "      <td>-0.418288</td>\n",
       "      <td>-0.114324</td>\n",
       "      <td>1.068353</td>\n",
       "      <td>-0.892915</td>\n",
       "    </tr>\n",
       "    <tr>\n",
       "      <th>Subject 3</th>\n",
       "      <td>-0.066224</td>\n",
       "      <td>0.481098</td>\n",
       "      <td>-0.425738</td>\n",
       "      <td>-0.591244</td>\n",
       "      <td>2.546680</td>\n",
       "    </tr>\n",
       "  </tbody>\n",
       "</table>\n",
       "</div>"
      ],
      "text/plain": [
       "           Person A  Person B  Person C  Person D  Person E\n",
       "Persons    0.765830  1.736127 -0.548556  0.346643 -1.371688\n",
       "Subject 1 -0.513229 -0.177190  0.130764 -0.621566  0.391739\n",
       "Subject 2  0.399245 -0.418288 -0.114324  1.068353 -0.892915\n",
       "Subject 3 -0.066224  0.481098 -0.425738 -0.591244  2.546680"
      ]
     },
     "execution_count": 18,
     "metadata": {},
     "output_type": "execute_result"
    }
   ],
   "source": [
    "df.transpose()"
   ]
  },
  {
   "cell_type": "code",
   "execution_count": 19,
   "id": "expanded-north",
   "metadata": {},
   "outputs": [
    {
     "data": {
      "text/html": [
       "<div>\n",
       "<style scoped>\n",
       "    .dataframe tbody tr th:only-of-type {\n",
       "        vertical-align: middle;\n",
       "    }\n",
       "\n",
       "    .dataframe tbody tr th {\n",
       "        vertical-align: top;\n",
       "    }\n",
       "\n",
       "    .dataframe thead th {\n",
       "        text-align: right;\n",
       "    }\n",
       "</style>\n",
       "<table border=\"1\" class=\"dataframe\">\n",
       "  <thead>\n",
       "    <tr style=\"text-align: right;\">\n",
       "      <th></th>\n",
       "      <th>Person A</th>\n",
       "      <th>Person B</th>\n",
       "      <th>Person C</th>\n",
       "      <th>Person D</th>\n",
       "      <th>Person E</th>\n",
       "    </tr>\n",
       "  </thead>\n",
       "  <tbody>\n",
       "    <tr>\n",
       "      <th>Persons</th>\n",
       "      <td>0.765830</td>\n",
       "      <td>1.736127</td>\n",
       "      <td>-0.548556</td>\n",
       "      <td>0.346643</td>\n",
       "      <td>-1.371688</td>\n",
       "    </tr>\n",
       "    <tr>\n",
       "      <th>Subject 1</th>\n",
       "      <td>-0.513229</td>\n",
       "      <td>-0.177190</td>\n",
       "      <td>0.130764</td>\n",
       "      <td>-0.621566</td>\n",
       "      <td>0.391739</td>\n",
       "    </tr>\n",
       "    <tr>\n",
       "      <th>Subject 2</th>\n",
       "      <td>0.399245</td>\n",
       "      <td>-0.418288</td>\n",
       "      <td>-0.114324</td>\n",
       "      <td>1.068353</td>\n",
       "      <td>-0.892915</td>\n",
       "    </tr>\n",
       "    <tr>\n",
       "      <th>Subject 3</th>\n",
       "      <td>-0.066224</td>\n",
       "      <td>0.481098</td>\n",
       "      <td>-0.425738</td>\n",
       "      <td>-0.591244</td>\n",
       "      <td>2.546680</td>\n",
       "    </tr>\n",
       "  </tbody>\n",
       "</table>\n",
       "</div>"
      ],
      "text/plain": [
       "           Person A  Person B  Person C  Person D  Person E\n",
       "Persons    0.765830  1.736127 -0.548556  0.346643 -1.371688\n",
       "Subject 1 -0.513229 -0.177190  0.130764 -0.621566  0.391739\n",
       "Subject 2  0.399245 -0.418288 -0.114324  1.068353 -0.892915\n",
       "Subject 3 -0.066224  0.481098 -0.425738 -0.591244  2.546680"
      ]
     },
     "execution_count": 19,
     "metadata": {},
     "output_type": "execute_result"
    }
   ],
   "source": [
    "df.T"
   ]
  },
  {
   "cell_type": "code",
   "execution_count": 20,
   "id": "hawaiian-notice",
   "metadata": {},
   "outputs": [
    {
     "data": {
      "text/html": [
       "<div>\n",
       "<style scoped>\n",
       "    .dataframe tbody tr th:only-of-type {\n",
       "        vertical-align: middle;\n",
       "    }\n",
       "\n",
       "    .dataframe tbody tr th {\n",
       "        vertical-align: top;\n",
       "    }\n",
       "\n",
       "    .dataframe thead th {\n",
       "        text-align: right;\n",
       "    }\n",
       "</style>\n",
       "<table border=\"1\" class=\"dataframe\">\n",
       "  <thead>\n",
       "    <tr style=\"text-align: right;\">\n",
       "      <th></th>\n",
       "      <th>Persons</th>\n",
       "      <th>Subject 1</th>\n",
       "      <th>Subject 2</th>\n",
       "      <th>Subject 3</th>\n",
       "    </tr>\n",
       "  </thead>\n",
       "  <tbody>\n",
       "    <tr>\n",
       "      <th>Person A</th>\n",
       "      <td>0.765830</td>\n",
       "      <td>-0.513229</td>\n",
       "      <td>0.399245</td>\n",
       "      <td>-0.066224</td>\n",
       "    </tr>\n",
       "    <tr>\n",
       "      <th>Person B</th>\n",
       "      <td>1.736127</td>\n",
       "      <td>-0.177190</td>\n",
       "      <td>-0.418288</td>\n",
       "      <td>0.481098</td>\n",
       "    </tr>\n",
       "    <tr>\n",
       "      <th>Person C</th>\n",
       "      <td>-0.548556</td>\n",
       "      <td>0.130764</td>\n",
       "      <td>-0.114324</td>\n",
       "      <td>-0.425738</td>\n",
       "    </tr>\n",
       "    <tr>\n",
       "      <th>Person D</th>\n",
       "      <td>0.346643</td>\n",
       "      <td>-0.621566</td>\n",
       "      <td>1.068353</td>\n",
       "      <td>-0.591244</td>\n",
       "    </tr>\n",
       "    <tr>\n",
       "      <th>Person E</th>\n",
       "      <td>-1.371688</td>\n",
       "      <td>0.391739</td>\n",
       "      <td>-0.892915</td>\n",
       "      <td>2.546680</td>\n",
       "    </tr>\n",
       "  </tbody>\n",
       "</table>\n",
       "</div>"
      ],
      "text/plain": [
       "           Persons  Subject 1  Subject 2  Subject 3\n",
       "Person A  0.765830  -0.513229   0.399245  -0.066224\n",
       "Person B  1.736127  -0.177190  -0.418288   0.481098\n",
       "Person C -0.548556   0.130764  -0.114324  -0.425738\n",
       "Person D  0.346643  -0.621566   1.068353  -0.591244\n",
       "Person E -1.371688   0.391739  -0.892915   2.546680"
      ]
     },
     "execution_count": 20,
     "metadata": {},
     "output_type": "execute_result"
    }
   ],
   "source": [
    "df"
   ]
  },
  {
   "cell_type": "code",
   "execution_count": 21,
   "id": "endangered-logan",
   "metadata": {},
   "outputs": [
    {
     "data": {
      "text/html": [
       "<div>\n",
       "<style scoped>\n",
       "    .dataframe tbody tr th:only-of-type {\n",
       "        vertical-align: middle;\n",
       "    }\n",
       "\n",
       "    .dataframe tbody tr th {\n",
       "        vertical-align: top;\n",
       "    }\n",
       "\n",
       "    .dataframe thead th {\n",
       "        text-align: right;\n",
       "    }\n",
       "</style>\n",
       "<table border=\"1\" class=\"dataframe\">\n",
       "  <thead>\n",
       "    <tr style=\"text-align: right;\">\n",
       "      <th></th>\n",
       "      <th>Subject 3</th>\n",
       "      <th>Subject 2</th>\n",
       "      <th>Subject 1</th>\n",
       "      <th>Persons</th>\n",
       "    </tr>\n",
       "  </thead>\n",
       "  <tbody>\n",
       "    <tr>\n",
       "      <th>Person A</th>\n",
       "      <td>-0.066224</td>\n",
       "      <td>0.399245</td>\n",
       "      <td>-0.513229</td>\n",
       "      <td>0.765830</td>\n",
       "    </tr>\n",
       "    <tr>\n",
       "      <th>Person B</th>\n",
       "      <td>0.481098</td>\n",
       "      <td>-0.418288</td>\n",
       "      <td>-0.177190</td>\n",
       "      <td>1.736127</td>\n",
       "    </tr>\n",
       "    <tr>\n",
       "      <th>Person C</th>\n",
       "      <td>-0.425738</td>\n",
       "      <td>-0.114324</td>\n",
       "      <td>0.130764</td>\n",
       "      <td>-0.548556</td>\n",
       "    </tr>\n",
       "    <tr>\n",
       "      <th>Person D</th>\n",
       "      <td>-0.591244</td>\n",
       "      <td>1.068353</td>\n",
       "      <td>-0.621566</td>\n",
       "      <td>0.346643</td>\n",
       "    </tr>\n",
       "    <tr>\n",
       "      <th>Person E</th>\n",
       "      <td>2.546680</td>\n",
       "      <td>-0.892915</td>\n",
       "      <td>0.391739</td>\n",
       "      <td>-1.371688</td>\n",
       "    </tr>\n",
       "  </tbody>\n",
       "</table>\n",
       "</div>"
      ],
      "text/plain": [
       "          Subject 3  Subject 2  Subject 1   Persons\n",
       "Person A  -0.066224   0.399245  -0.513229  0.765830\n",
       "Person B   0.481098  -0.418288  -0.177190  1.736127\n",
       "Person C  -0.425738  -0.114324   0.130764 -0.548556\n",
       "Person D  -0.591244   1.068353  -0.621566  0.346643\n",
       "Person E   2.546680  -0.892915   0.391739 -1.371688"
      ]
     },
     "execution_count": 21,
     "metadata": {},
     "output_type": "execute_result"
    }
   ],
   "source": [
    "df.sort_index(axis=1, ascending=False)"
   ]
  },
  {
   "cell_type": "code",
   "execution_count": 22,
   "id": "general-firewall",
   "metadata": {},
   "outputs": [
    {
     "data": {
      "text/html": [
       "<div>\n",
       "<style scoped>\n",
       "    .dataframe tbody tr th:only-of-type {\n",
       "        vertical-align: middle;\n",
       "    }\n",
       "\n",
       "    .dataframe tbody tr th {\n",
       "        vertical-align: top;\n",
       "    }\n",
       "\n",
       "    .dataframe thead th {\n",
       "        text-align: right;\n",
       "    }\n",
       "</style>\n",
       "<table border=\"1\" class=\"dataframe\">\n",
       "  <thead>\n",
       "    <tr style=\"text-align: right;\">\n",
       "      <th></th>\n",
       "      <th>Persons</th>\n",
       "      <th>Subject 1</th>\n",
       "      <th>Subject 2</th>\n",
       "      <th>Subject 3</th>\n",
       "    </tr>\n",
       "  </thead>\n",
       "  <tbody>\n",
       "    <tr>\n",
       "      <th>Person D</th>\n",
       "      <td>0.346643</td>\n",
       "      <td>-0.621566</td>\n",
       "      <td>1.068353</td>\n",
       "      <td>-0.591244</td>\n",
       "    </tr>\n",
       "    <tr>\n",
       "      <th>Person C</th>\n",
       "      <td>-0.548556</td>\n",
       "      <td>0.130764</td>\n",
       "      <td>-0.114324</td>\n",
       "      <td>-0.425738</td>\n",
       "    </tr>\n",
       "    <tr>\n",
       "      <th>Person A</th>\n",
       "      <td>0.765830</td>\n",
       "      <td>-0.513229</td>\n",
       "      <td>0.399245</td>\n",
       "      <td>-0.066224</td>\n",
       "    </tr>\n",
       "    <tr>\n",
       "      <th>Person B</th>\n",
       "      <td>1.736127</td>\n",
       "      <td>-0.177190</td>\n",
       "      <td>-0.418288</td>\n",
       "      <td>0.481098</td>\n",
       "    </tr>\n",
       "    <tr>\n",
       "      <th>Person E</th>\n",
       "      <td>-1.371688</td>\n",
       "      <td>0.391739</td>\n",
       "      <td>-0.892915</td>\n",
       "      <td>2.546680</td>\n",
       "    </tr>\n",
       "  </tbody>\n",
       "</table>\n",
       "</div>"
      ],
      "text/plain": [
       "           Persons  Subject 1  Subject 2  Subject 3\n",
       "Person D  0.346643  -0.621566   1.068353  -0.591244\n",
       "Person C -0.548556   0.130764  -0.114324  -0.425738\n",
       "Person A  0.765830  -0.513229   0.399245  -0.066224\n",
       "Person B  1.736127  -0.177190  -0.418288   0.481098\n",
       "Person E -1.371688   0.391739  -0.892915   2.546680"
      ]
     },
     "execution_count": 22,
     "metadata": {},
     "output_type": "execute_result"
    }
   ],
   "source": [
    "df.sort_values(by=\"Subject 3\")"
   ]
  },
  {
   "cell_type": "markdown",
   "id": "athletic-blanket",
   "metadata": {},
   "source": [
    "Selecting in pandas"
   ]
  },
  {
   "cell_type": "code",
   "execution_count": 23,
   "id": "automatic-scientist",
   "metadata": {},
   "outputs": [
    {
     "data": {
      "text/plain": [
       "Person A    0.765830\n",
       "Person B    1.736127\n",
       "Person C   -0.548556\n",
       "Person D    0.346643\n",
       "Person E   -1.371688\n",
       "Name: Persons, dtype: float64"
      ]
     },
     "execution_count": 23,
     "metadata": {},
     "output_type": "execute_result"
    }
   ],
   "source": [
    "df[\"Persons\"]"
   ]
  },
  {
   "cell_type": "code",
   "execution_count": 24,
   "id": "level-controversy",
   "metadata": {},
   "outputs": [
    {
     "data": {
      "text/html": [
       "<div>\n",
       "<style scoped>\n",
       "    .dataframe tbody tr th:only-of-type {\n",
       "        vertical-align: middle;\n",
       "    }\n",
       "\n",
       "    .dataframe tbody tr th {\n",
       "        vertical-align: top;\n",
       "    }\n",
       "\n",
       "    .dataframe thead th {\n",
       "        text-align: right;\n",
       "    }\n",
       "</style>\n",
       "<table border=\"1\" class=\"dataframe\">\n",
       "  <thead>\n",
       "    <tr style=\"text-align: right;\">\n",
       "      <th></th>\n",
       "      <th>Persons</th>\n",
       "      <th>Subject 1</th>\n",
       "      <th>Subject 2</th>\n",
       "      <th>Subject 3</th>\n",
       "    </tr>\n",
       "  </thead>\n",
       "  <tbody>\n",
       "    <tr>\n",
       "      <th>Person A</th>\n",
       "      <td>0.765830</td>\n",
       "      <td>-0.513229</td>\n",
       "      <td>0.399245</td>\n",
       "      <td>-0.066224</td>\n",
       "    </tr>\n",
       "    <tr>\n",
       "      <th>Person B</th>\n",
       "      <td>1.736127</td>\n",
       "      <td>-0.177190</td>\n",
       "      <td>-0.418288</td>\n",
       "      <td>0.481098</td>\n",
       "    </tr>\n",
       "  </tbody>\n",
       "</table>\n",
       "</div>"
      ],
      "text/plain": [
       "           Persons  Subject 1  Subject 2  Subject 3\n",
       "Person A  0.765830  -0.513229   0.399245  -0.066224\n",
       "Person B  1.736127  -0.177190  -0.418288   0.481098"
      ]
     },
     "execution_count": 24,
     "metadata": {},
     "output_type": "execute_result"
    }
   ],
   "source": [
    "df[0:2]"
   ]
  },
  {
   "cell_type": "code",
   "execution_count": 25,
   "id": "departmental-frederick",
   "metadata": {},
   "outputs": [
    {
     "data": {
      "text/html": [
       "<div>\n",
       "<style scoped>\n",
       "    .dataframe tbody tr th:only-of-type {\n",
       "        vertical-align: middle;\n",
       "    }\n",
       "\n",
       "    .dataframe tbody tr th {\n",
       "        vertical-align: top;\n",
       "    }\n",
       "\n",
       "    .dataframe thead th {\n",
       "        text-align: right;\n",
       "    }\n",
       "</style>\n",
       "<table border=\"1\" class=\"dataframe\">\n",
       "  <thead>\n",
       "    <tr style=\"text-align: right;\">\n",
       "      <th></th>\n",
       "      <th>A</th>\n",
       "      <th>B</th>\n",
       "      <th>C</th>\n",
       "      <th>D</th>\n",
       "      <th>E</th>\n",
       "      <th>F</th>\n",
       "    </tr>\n",
       "  </thead>\n",
       "  <tbody>\n",
       "    <tr>\n",
       "      <th>0</th>\n",
       "      <td>1.0</td>\n",
       "      <td>2013-01-02</td>\n",
       "      <td>1.0</td>\n",
       "      <td>3</td>\n",
       "      <td>test</td>\n",
       "      <td>foo</td>\n",
       "    </tr>\n",
       "    <tr>\n",
       "      <th>1</th>\n",
       "      <td>1.0</td>\n",
       "      <td>2013-01-02</td>\n",
       "      <td>1.0</td>\n",
       "      <td>3</td>\n",
       "      <td>train</td>\n",
       "      <td>foo</td>\n",
       "    </tr>\n",
       "    <tr>\n",
       "      <th>2</th>\n",
       "      <td>1.0</td>\n",
       "      <td>2013-01-02</td>\n",
       "      <td>1.0</td>\n",
       "      <td>3</td>\n",
       "      <td>test</td>\n",
       "      <td>foo</td>\n",
       "    </tr>\n",
       "    <tr>\n",
       "      <th>3</th>\n",
       "      <td>1.0</td>\n",
       "      <td>2013-01-02</td>\n",
       "      <td>1.0</td>\n",
       "      <td>3</td>\n",
       "      <td>train</td>\n",
       "      <td>foo</td>\n",
       "    </tr>\n",
       "  </tbody>\n",
       "</table>\n",
       "</div>"
      ],
      "text/plain": [
       "     A          B    C  D      E    F\n",
       "0  1.0 2013-01-02  1.0  3   test  foo\n",
       "1  1.0 2013-01-02  1.0  3  train  foo\n",
       "2  1.0 2013-01-02  1.0  3   test  foo\n",
       "3  1.0 2013-01-02  1.0  3  train  foo"
      ]
     },
     "execution_count": 25,
     "metadata": {},
     "output_type": "execute_result"
    }
   ],
   "source": [
    "df2"
   ]
  },
  {
   "cell_type": "code",
   "execution_count": 26,
   "id": "separate-snowboard",
   "metadata": {},
   "outputs": [
    {
     "data": {
      "text/html": [
       "<div>\n",
       "<style scoped>\n",
       "    .dataframe tbody tr th:only-of-type {\n",
       "        vertical-align: middle;\n",
       "    }\n",
       "\n",
       "    .dataframe tbody tr th {\n",
       "        vertical-align: top;\n",
       "    }\n",
       "\n",
       "    .dataframe thead th {\n",
       "        text-align: right;\n",
       "    }\n",
       "</style>\n",
       "<table border=\"1\" class=\"dataframe\">\n",
       "  <thead>\n",
       "    <tr style=\"text-align: right;\">\n",
       "      <th></th>\n",
       "      <th>A</th>\n",
       "      <th>B</th>\n",
       "    </tr>\n",
       "  </thead>\n",
       "  <tbody>\n",
       "    <tr>\n",
       "      <th>0</th>\n",
       "      <td>1.0</td>\n",
       "      <td>2013-01-02</td>\n",
       "    </tr>\n",
       "    <tr>\n",
       "      <th>1</th>\n",
       "      <td>1.0</td>\n",
       "      <td>2013-01-02</td>\n",
       "    </tr>\n",
       "    <tr>\n",
       "      <th>2</th>\n",
       "      <td>1.0</td>\n",
       "      <td>2013-01-02</td>\n",
       "    </tr>\n",
       "    <tr>\n",
       "      <th>3</th>\n",
       "      <td>1.0</td>\n",
       "      <td>2013-01-02</td>\n",
       "    </tr>\n",
       "  </tbody>\n",
       "</table>\n",
       "</div>"
      ],
      "text/plain": [
       "     A          B\n",
       "0  1.0 2013-01-02\n",
       "1  1.0 2013-01-02\n",
       "2  1.0 2013-01-02\n",
       "3  1.0 2013-01-02"
      ]
     },
     "execution_count": 26,
     "metadata": {},
     "output_type": "execute_result"
    }
   ],
   "source": [
    "df2.loc[:, [\"A\", \"B\"]]"
   ]
  },
  {
   "cell_type": "code",
   "execution_count": 27,
   "id": "powered-repair",
   "metadata": {},
   "outputs": [
    {
     "data": {
      "text/html": [
       "<div>\n",
       "<style scoped>\n",
       "    .dataframe tbody tr th:only-of-type {\n",
       "        vertical-align: middle;\n",
       "    }\n",
       "\n",
       "    .dataframe tbody tr th {\n",
       "        vertical-align: top;\n",
       "    }\n",
       "\n",
       "    .dataframe thead th {\n",
       "        text-align: right;\n",
       "    }\n",
       "</style>\n",
       "<table border=\"1\" class=\"dataframe\">\n",
       "  <thead>\n",
       "    <tr style=\"text-align: right;\">\n",
       "      <th></th>\n",
       "      <th>A</th>\n",
       "      <th>B</th>\n",
       "    </tr>\n",
       "  </thead>\n",
       "  <tbody>\n",
       "  </tbody>\n",
       "</table>\n",
       "</div>"
      ],
      "text/plain": [
       "Empty DataFrame\n",
       "Columns: [A, B]\n",
       "Index: []"
      ]
     },
     "execution_count": 27,
     "metadata": {},
     "output_type": "execute_result"
    }
   ],
   "source": [
    "df2.loc[\"20130102\":\"20130104\", [\"A\", \"B\"]]"
   ]
  },
  {
   "cell_type": "code",
   "execution_count": 28,
   "id": "falling-faith",
   "metadata": {},
   "outputs": [
    {
     "data": {
      "text/plain": [
       "Persons      1.736127\n",
       "Subject 1   -0.177190\n",
       "Subject 2   -0.418288\n",
       "Subject 3    0.481098\n",
       "Name: Person B, dtype: float64"
      ]
     },
     "execution_count": 28,
     "metadata": {},
     "output_type": "execute_result"
    }
   ],
   "source": [
    "df.iloc[1]"
   ]
  },
  {
   "cell_type": "code",
   "execution_count": 29,
   "id": "banned-addiction",
   "metadata": {},
   "outputs": [
    {
     "data": {
      "text/html": [
       "<div>\n",
       "<style scoped>\n",
       "    .dataframe tbody tr th:only-of-type {\n",
       "        vertical-align: middle;\n",
       "    }\n",
       "\n",
       "    .dataframe tbody tr th {\n",
       "        vertical-align: top;\n",
       "    }\n",
       "\n",
       "    .dataframe thead th {\n",
       "        text-align: right;\n",
       "    }\n",
       "</style>\n",
       "<table border=\"1\" class=\"dataframe\">\n",
       "  <thead>\n",
       "    <tr style=\"text-align: right;\">\n",
       "      <th></th>\n",
       "      <th>Persons</th>\n",
       "      <th>Subject 1</th>\n",
       "    </tr>\n",
       "  </thead>\n",
       "  <tbody>\n",
       "    <tr>\n",
       "      <th>Person D</th>\n",
       "      <td>0.346643</td>\n",
       "      <td>-0.621566</td>\n",
       "    </tr>\n",
       "    <tr>\n",
       "      <th>Person E</th>\n",
       "      <td>-1.371688</td>\n",
       "      <td>0.391739</td>\n",
       "    </tr>\n",
       "  </tbody>\n",
       "</table>\n",
       "</div>"
      ],
      "text/plain": [
       "           Persons  Subject 1\n",
       "Person D  0.346643  -0.621566\n",
       "Person E -1.371688   0.391739"
      ]
     },
     "execution_count": 29,
     "metadata": {},
     "output_type": "execute_result"
    }
   ],
   "source": [
    "df.iloc[3:5, 0:2]"
   ]
  },
  {
   "cell_type": "code",
   "execution_count": 30,
   "id": "capital-enclosure",
   "metadata": {},
   "outputs": [
    {
     "data": {
      "text/html": [
       "<div>\n",
       "<style scoped>\n",
       "    .dataframe tbody tr th:only-of-type {\n",
       "        vertical-align: middle;\n",
       "    }\n",
       "\n",
       "    .dataframe tbody tr th {\n",
       "        vertical-align: top;\n",
       "    }\n",
       "\n",
       "    .dataframe thead th {\n",
       "        text-align: right;\n",
       "    }\n",
       "</style>\n",
       "<table border=\"1\" class=\"dataframe\">\n",
       "  <thead>\n",
       "    <tr style=\"text-align: right;\">\n",
       "      <th></th>\n",
       "      <th>Persons</th>\n",
       "      <th>Subject 2</th>\n",
       "    </tr>\n",
       "  </thead>\n",
       "  <tbody>\n",
       "    <tr>\n",
       "      <th>Person B</th>\n",
       "      <td>1.736127</td>\n",
       "      <td>-0.418288</td>\n",
       "    </tr>\n",
       "    <tr>\n",
       "      <th>Person C</th>\n",
       "      <td>-0.548556</td>\n",
       "      <td>-0.114324</td>\n",
       "    </tr>\n",
       "    <tr>\n",
       "      <th>Person E</th>\n",
       "      <td>-1.371688</td>\n",
       "      <td>-0.892915</td>\n",
       "    </tr>\n",
       "  </tbody>\n",
       "</table>\n",
       "</div>"
      ],
      "text/plain": [
       "           Persons  Subject 2\n",
       "Person B  1.736127  -0.418288\n",
       "Person C -0.548556  -0.114324\n",
       "Person E -1.371688  -0.892915"
      ]
     },
     "execution_count": 30,
     "metadata": {},
     "output_type": "execute_result"
    }
   ],
   "source": [
    "df.iloc[[1, 2, 4], [0, 2]]"
   ]
  },
  {
   "cell_type": "code",
   "execution_count": 31,
   "id": "cooked-force",
   "metadata": {},
   "outputs": [
    {
     "data": {
      "text/html": [
       "<div>\n",
       "<style scoped>\n",
       "    .dataframe tbody tr th:only-of-type {\n",
       "        vertical-align: middle;\n",
       "    }\n",
       "\n",
       "    .dataframe tbody tr th {\n",
       "        vertical-align: top;\n",
       "    }\n",
       "\n",
       "    .dataframe thead th {\n",
       "        text-align: right;\n",
       "    }\n",
       "</style>\n",
       "<table border=\"1\" class=\"dataframe\">\n",
       "  <thead>\n",
       "    <tr style=\"text-align: right;\">\n",
       "      <th></th>\n",
       "      <th>Persons</th>\n",
       "      <th>Subject 1</th>\n",
       "      <th>Subject 2</th>\n",
       "      <th>Subject 3</th>\n",
       "    </tr>\n",
       "  </thead>\n",
       "  <tbody>\n",
       "    <tr>\n",
       "      <th>Person C</th>\n",
       "      <td>-0.548556</td>\n",
       "      <td>0.130764</td>\n",
       "      <td>-0.114324</td>\n",
       "      <td>-0.425738</td>\n",
       "    </tr>\n",
       "    <tr>\n",
       "      <th>Person E</th>\n",
       "      <td>-1.371688</td>\n",
       "      <td>0.391739</td>\n",
       "      <td>-0.892915</td>\n",
       "      <td>2.546680</td>\n",
       "    </tr>\n",
       "  </tbody>\n",
       "</table>\n",
       "</div>"
      ],
      "text/plain": [
       "           Persons  Subject 1  Subject 2  Subject 3\n",
       "Person C -0.548556   0.130764  -0.114324  -0.425738\n",
       "Person E -1.371688   0.391739  -0.892915   2.546680"
      ]
     },
     "execution_count": 31,
     "metadata": {},
     "output_type": "execute_result"
    }
   ],
   "source": [
    "df[df[\"Subject 1\"] > 0]"
   ]
  },
  {
   "cell_type": "code",
   "execution_count": 32,
   "id": "express-relationship",
   "metadata": {},
   "outputs": [
    {
     "data": {
      "text/html": [
       "<div>\n",
       "<style scoped>\n",
       "    .dataframe tbody tr th:only-of-type {\n",
       "        vertical-align: middle;\n",
       "    }\n",
       "\n",
       "    .dataframe tbody tr th {\n",
       "        vertical-align: top;\n",
       "    }\n",
       "\n",
       "    .dataframe thead th {\n",
       "        text-align: right;\n",
       "    }\n",
       "</style>\n",
       "<table border=\"1\" class=\"dataframe\">\n",
       "  <thead>\n",
       "    <tr style=\"text-align: right;\">\n",
       "      <th></th>\n",
       "      <th>Persons</th>\n",
       "      <th>Subject 1</th>\n",
       "      <th>Subject 2</th>\n",
       "      <th>Subject 3</th>\n",
       "    </tr>\n",
       "  </thead>\n",
       "  <tbody>\n",
       "    <tr>\n",
       "      <th>Person A</th>\n",
       "      <td>0.765830</td>\n",
       "      <td>NaN</td>\n",
       "      <td>0.399245</td>\n",
       "      <td>NaN</td>\n",
       "    </tr>\n",
       "    <tr>\n",
       "      <th>Person B</th>\n",
       "      <td>1.736127</td>\n",
       "      <td>NaN</td>\n",
       "      <td>NaN</td>\n",
       "      <td>0.481098</td>\n",
       "    </tr>\n",
       "    <tr>\n",
       "      <th>Person C</th>\n",
       "      <td>NaN</td>\n",
       "      <td>0.130764</td>\n",
       "      <td>NaN</td>\n",
       "      <td>NaN</td>\n",
       "    </tr>\n",
       "    <tr>\n",
       "      <th>Person D</th>\n",
       "      <td>0.346643</td>\n",
       "      <td>NaN</td>\n",
       "      <td>1.068353</td>\n",
       "      <td>NaN</td>\n",
       "    </tr>\n",
       "    <tr>\n",
       "      <th>Person E</th>\n",
       "      <td>NaN</td>\n",
       "      <td>0.391739</td>\n",
       "      <td>NaN</td>\n",
       "      <td>2.546680</td>\n",
       "    </tr>\n",
       "  </tbody>\n",
       "</table>\n",
       "</div>"
      ],
      "text/plain": [
       "           Persons  Subject 1  Subject 2  Subject 3\n",
       "Person A  0.765830        NaN   0.399245        NaN\n",
       "Person B  1.736127        NaN        NaN   0.481098\n",
       "Person C       NaN   0.130764        NaN        NaN\n",
       "Person D  0.346643        NaN   1.068353        NaN\n",
       "Person E       NaN   0.391739        NaN   2.546680"
      ]
     },
     "execution_count": 32,
     "metadata": {},
     "output_type": "execute_result"
    }
   ],
   "source": [
    "df[df > 0]"
   ]
  },
  {
   "cell_type": "code",
   "execution_count": 33,
   "id": "reverse-density",
   "metadata": {},
   "outputs": [
    {
     "data": {
      "text/html": [
       "<div>\n",
       "<style scoped>\n",
       "    .dataframe tbody tr th:only-of-type {\n",
       "        vertical-align: middle;\n",
       "    }\n",
       "\n",
       "    .dataframe tbody tr th {\n",
       "        vertical-align: top;\n",
       "    }\n",
       "\n",
       "    .dataframe thead th {\n",
       "        text-align: right;\n",
       "    }\n",
       "</style>\n",
       "<table border=\"1\" class=\"dataframe\">\n",
       "  <thead>\n",
       "    <tr style=\"text-align: right;\">\n",
       "      <th></th>\n",
       "      <th>A</th>\n",
       "      <th>B</th>\n",
       "      <th>C</th>\n",
       "      <th>D</th>\n",
       "      <th>E</th>\n",
       "      <th>F</th>\n",
       "    </tr>\n",
       "  </thead>\n",
       "  <tbody>\n",
       "  </tbody>\n",
       "</table>\n",
       "</div>"
      ],
      "text/plain": [
       "Empty DataFrame\n",
       "Columns: [A, B, C, D, E, F]\n",
       "Index: []"
      ]
     },
     "execution_count": 33,
     "metadata": {},
     "output_type": "execute_result"
    }
   ],
   "source": [
    "df2[df2[\"E\"].isin([\"two\", \"four\"])]\n"
   ]
  },
  {
   "cell_type": "code",
   "execution_count": 34,
   "id": "spare-segment",
   "metadata": {},
   "outputs": [
    {
     "data": {
      "text/html": [
       "<div>\n",
       "<style scoped>\n",
       "    .dataframe tbody tr th:only-of-type {\n",
       "        vertical-align: middle;\n",
       "    }\n",
       "\n",
       "    .dataframe tbody tr th {\n",
       "        vertical-align: top;\n",
       "    }\n",
       "\n",
       "    .dataframe thead th {\n",
       "        text-align: right;\n",
       "    }\n",
       "</style>\n",
       "<table border=\"1\" class=\"dataframe\">\n",
       "  <thead>\n",
       "    <tr style=\"text-align: right;\">\n",
       "      <th></th>\n",
       "      <th>A</th>\n",
       "      <th>B</th>\n",
       "      <th>C</th>\n",
       "      <th>D</th>\n",
       "      <th>E</th>\n",
       "      <th>F</th>\n",
       "    </tr>\n",
       "  </thead>\n",
       "  <tbody>\n",
       "    <tr>\n",
       "      <th>0</th>\n",
       "      <td>1.0</td>\n",
       "      <td>2013-01-02</td>\n",
       "      <td>1.0</td>\n",
       "      <td>3</td>\n",
       "      <td>test</td>\n",
       "      <td>foo</td>\n",
       "    </tr>\n",
       "    <tr>\n",
       "      <th>1</th>\n",
       "      <td>1.0</td>\n",
       "      <td>2013-01-02</td>\n",
       "      <td>1.0</td>\n",
       "      <td>3</td>\n",
       "      <td>train</td>\n",
       "      <td>foo</td>\n",
       "    </tr>\n",
       "    <tr>\n",
       "      <th>2</th>\n",
       "      <td>1.0</td>\n",
       "      <td>2013-01-02</td>\n",
       "      <td>1.0</td>\n",
       "      <td>3</td>\n",
       "      <td>test</td>\n",
       "      <td>foo</td>\n",
       "    </tr>\n",
       "    <tr>\n",
       "      <th>3</th>\n",
       "      <td>1.0</td>\n",
       "      <td>2013-01-02</td>\n",
       "      <td>1.0</td>\n",
       "      <td>3</td>\n",
       "      <td>train</td>\n",
       "      <td>foo</td>\n",
       "    </tr>\n",
       "  </tbody>\n",
       "</table>\n",
       "</div>"
      ],
      "text/plain": [
       "     A          B    C  D      E    F\n",
       "0  1.0 2013-01-02  1.0  3   test  foo\n",
       "1  1.0 2013-01-02  1.0  3  train  foo\n",
       "2  1.0 2013-01-02  1.0  3   test  foo\n",
       "3  1.0 2013-01-02  1.0  3  train  foo"
      ]
     },
     "execution_count": 34,
     "metadata": {},
     "output_type": "execute_result"
    }
   ],
   "source": [
    "df2"
   ]
  },
  {
   "cell_type": "code",
   "execution_count": 35,
   "id": "internal-russian",
   "metadata": {},
   "outputs": [
    {
     "data": {
      "text/html": [
       "<div>\n",
       "<style scoped>\n",
       "    .dataframe tbody tr th:only-of-type {\n",
       "        vertical-align: middle;\n",
       "    }\n",
       "\n",
       "    .dataframe tbody tr th {\n",
       "        vertical-align: top;\n",
       "    }\n",
       "\n",
       "    .dataframe thead th {\n",
       "        text-align: right;\n",
       "    }\n",
       "</style>\n",
       "<table border=\"1\" class=\"dataframe\">\n",
       "  <thead>\n",
       "    <tr style=\"text-align: right;\">\n",
       "      <th></th>\n",
       "      <th>Persons</th>\n",
       "      <th>Subject 1</th>\n",
       "      <th>Subject 2</th>\n",
       "      <th>Subject 3</th>\n",
       "    </tr>\n",
       "  </thead>\n",
       "  <tbody>\n",
       "    <tr>\n",
       "      <th>Person A</th>\n",
       "      <td>0.765830</td>\n",
       "      <td>-0.513229</td>\n",
       "      <td>0.399245</td>\n",
       "      <td>-0.066224</td>\n",
       "    </tr>\n",
       "    <tr>\n",
       "      <th>Person B</th>\n",
       "      <td>1.736127</td>\n",
       "      <td>-0.177190</td>\n",
       "      <td>-0.418288</td>\n",
       "      <td>0.481098</td>\n",
       "    </tr>\n",
       "    <tr>\n",
       "      <th>Person C</th>\n",
       "      <td>-0.548556</td>\n",
       "      <td>0.130764</td>\n",
       "      <td>-0.114324</td>\n",
       "      <td>-0.425738</td>\n",
       "    </tr>\n",
       "    <tr>\n",
       "      <th>Person D</th>\n",
       "      <td>0.346643</td>\n",
       "      <td>-0.621566</td>\n",
       "      <td>1.068353</td>\n",
       "      <td>-0.591244</td>\n",
       "    </tr>\n",
       "    <tr>\n",
       "      <th>Person E</th>\n",
       "      <td>-1.371688</td>\n",
       "      <td>0.391739</td>\n",
       "      <td>-0.892915</td>\n",
       "      <td>2.546680</td>\n",
       "    </tr>\n",
       "  </tbody>\n",
       "</table>\n",
       "</div>"
      ],
      "text/plain": [
       "           Persons  Subject 1  Subject 2  Subject 3\n",
       "Person A  0.765830  -0.513229   0.399245  -0.066224\n",
       "Person B  1.736127  -0.177190  -0.418288   0.481098\n",
       "Person C -0.548556   0.130764  -0.114324  -0.425738\n",
       "Person D  0.346643  -0.621566   1.068353  -0.591244\n",
       "Person E -1.371688   0.391739  -0.892915   2.546680"
      ]
     },
     "execution_count": 35,
     "metadata": {},
     "output_type": "execute_result"
    }
   ],
   "source": [
    "df"
   ]
  },
  {
   "cell_type": "code",
   "execution_count": 36,
   "id": "elegant-tokyo",
   "metadata": {},
   "outputs": [
    {
     "data": {
      "text/plain": [
       "Person A   -0.066224\n",
       "Person B    0.481098\n",
       "Person C   -0.425738\n",
       "Person D   -0.591244\n",
       "Person E    2.546680\n",
       "Name: Subject 3, dtype: float64"
      ]
     },
     "execution_count": 36,
     "metadata": {},
     "output_type": "execute_result"
    }
   ],
   "source": [
    "df[\"Subject 3\"]"
   ]
  },
  {
   "cell_type": "code",
   "execution_count": 37,
   "id": "accessory-watts",
   "metadata": {},
   "outputs": [
    {
     "data": {
      "text/html": [
       "<div>\n",
       "<style scoped>\n",
       "    .dataframe tbody tr th:only-of-type {\n",
       "        vertical-align: middle;\n",
       "    }\n",
       "\n",
       "    .dataframe tbody tr th {\n",
       "        vertical-align: top;\n",
       "    }\n",
       "\n",
       "    .dataframe thead th {\n",
       "        text-align: right;\n",
       "    }\n",
       "</style>\n",
       "<table border=\"1\" class=\"dataframe\">\n",
       "  <thead>\n",
       "    <tr style=\"text-align: right;\">\n",
       "      <th></th>\n",
       "      <th>Persons</th>\n",
       "      <th>Subject 1</th>\n",
       "      <th>Subject 2</th>\n",
       "      <th>Subject 3</th>\n",
       "      <th>Grade</th>\n",
       "    </tr>\n",
       "  </thead>\n",
       "  <tbody>\n",
       "    <tr>\n",
       "      <th>Person A</th>\n",
       "      <td>0.765830</td>\n",
       "      <td>-0.513229</td>\n",
       "      <td>0.399245</td>\n",
       "      <td>-0.066224</td>\n",
       "      <td>A</td>\n",
       "    </tr>\n",
       "    <tr>\n",
       "      <th>Person B</th>\n",
       "      <td>1.736127</td>\n",
       "      <td>-0.177190</td>\n",
       "      <td>-0.418288</td>\n",
       "      <td>0.481098</td>\n",
       "      <td>B</td>\n",
       "    </tr>\n",
       "    <tr>\n",
       "      <th>Person C</th>\n",
       "      <td>-0.548556</td>\n",
       "      <td>0.130764</td>\n",
       "      <td>-0.114324</td>\n",
       "      <td>-0.425738</td>\n",
       "      <td>A</td>\n",
       "    </tr>\n",
       "    <tr>\n",
       "      <th>Person D</th>\n",
       "      <td>0.346643</td>\n",
       "      <td>-0.621566</td>\n",
       "      <td>1.068353</td>\n",
       "      <td>-0.591244</td>\n",
       "      <td>C</td>\n",
       "    </tr>\n",
       "    <tr>\n",
       "      <th>Person E</th>\n",
       "      <td>-1.371688</td>\n",
       "      <td>0.391739</td>\n",
       "      <td>-0.892915</td>\n",
       "      <td>2.546680</td>\n",
       "      <td>A</td>\n",
       "    </tr>\n",
       "  </tbody>\n",
       "</table>\n",
       "</div>"
      ],
      "text/plain": [
       "           Persons  Subject 1  Subject 2  Subject 3 Grade\n",
       "Person A  0.765830  -0.513229   0.399245  -0.066224     A\n",
       "Person B  1.736127  -0.177190  -0.418288   0.481098     B\n",
       "Person C -0.548556   0.130764  -0.114324  -0.425738     A\n",
       "Person D  0.346643  -0.621566   1.068353  -0.591244     C\n",
       "Person E -1.371688   0.391739  -0.892915   2.546680     A"
      ]
     },
     "execution_count": 37,
     "metadata": {},
     "output_type": "execute_result"
    }
   ],
   "source": [
    "df[\"Grade\"]=[\"A\",\"B\",\"A\",\"C\",\"A\"]\n",
    "df"
   ]
  },
  {
   "cell_type": "markdown",
   "id": "piano-resolution",
   "metadata": {},
   "source": [
    "isin() method used for filtering"
   ]
  },
  {
   "cell_type": "code",
   "execution_count": 38,
   "id": "defensive-network",
   "metadata": {},
   "outputs": [
    {
     "data": {
      "text/html": [
       "<div>\n",
       "<style scoped>\n",
       "    .dataframe tbody tr th:only-of-type {\n",
       "        vertical-align: middle;\n",
       "    }\n",
       "\n",
       "    .dataframe tbody tr th {\n",
       "        vertical-align: top;\n",
       "    }\n",
       "\n",
       "    .dataframe thead th {\n",
       "        text-align: right;\n",
       "    }\n",
       "</style>\n",
       "<table border=\"1\" class=\"dataframe\">\n",
       "  <thead>\n",
       "    <tr style=\"text-align: right;\">\n",
       "      <th></th>\n",
       "      <th>Persons</th>\n",
       "      <th>Subject 1</th>\n",
       "      <th>Subject 2</th>\n",
       "      <th>Subject 3</th>\n",
       "      <th>Grade</th>\n",
       "    </tr>\n",
       "  </thead>\n",
       "  <tbody>\n",
       "    <tr>\n",
       "      <th>Person A</th>\n",
       "      <td>0.765830</td>\n",
       "      <td>-0.513229</td>\n",
       "      <td>0.399245</td>\n",
       "      <td>-0.066224</td>\n",
       "      <td>A</td>\n",
       "    </tr>\n",
       "    <tr>\n",
       "      <th>Person B</th>\n",
       "      <td>1.736127</td>\n",
       "      <td>-0.177190</td>\n",
       "      <td>-0.418288</td>\n",
       "      <td>0.481098</td>\n",
       "      <td>B</td>\n",
       "    </tr>\n",
       "    <tr>\n",
       "      <th>Person C</th>\n",
       "      <td>-0.548556</td>\n",
       "      <td>0.130764</td>\n",
       "      <td>-0.114324</td>\n",
       "      <td>-0.425738</td>\n",
       "      <td>A</td>\n",
       "    </tr>\n",
       "    <tr>\n",
       "      <th>Person E</th>\n",
       "      <td>-1.371688</td>\n",
       "      <td>0.391739</td>\n",
       "      <td>-0.892915</td>\n",
       "      <td>2.546680</td>\n",
       "      <td>A</td>\n",
       "    </tr>\n",
       "  </tbody>\n",
       "</table>\n",
       "</div>"
      ],
      "text/plain": [
       "           Persons  Subject 1  Subject 2  Subject 3 Grade\n",
       "Person A  0.765830  -0.513229   0.399245  -0.066224     A\n",
       "Person B  1.736127  -0.177190  -0.418288   0.481098     B\n",
       "Person C -0.548556   0.130764  -0.114324  -0.425738     A\n",
       "Person E -1.371688   0.391739  -0.892915   2.546680     A"
      ]
     },
     "execution_count": 38,
     "metadata": {},
     "output_type": "execute_result"
    }
   ],
   "source": [
    "df[df[\"Grade\"].isin([\"A\", \"B\"])]"
   ]
  },
  {
   "cell_type": "markdown",
   "id": "moving-exception",
   "metadata": {},
   "source": [
    "Setting values by label"
   ]
  },
  {
   "cell_type": "code",
   "execution_count": 39,
   "id": "indie-geometry",
   "metadata": {},
   "outputs": [],
   "source": [
    " df.at[dates[0], \"A\"] = 0"
   ]
  },
  {
   "cell_type": "code",
   "execution_count": 40,
   "id": "diagnostic-portal",
   "metadata": {},
   "outputs": [
    {
     "data": {
      "text/html": [
       "<div>\n",
       "<style scoped>\n",
       "    .dataframe tbody tr th:only-of-type {\n",
       "        vertical-align: middle;\n",
       "    }\n",
       "\n",
       "    .dataframe tbody tr th {\n",
       "        vertical-align: top;\n",
       "    }\n",
       "\n",
       "    .dataframe thead th {\n",
       "        text-align: right;\n",
       "    }\n",
       "</style>\n",
       "<table border=\"1\" class=\"dataframe\">\n",
       "  <thead>\n",
       "    <tr style=\"text-align: right;\">\n",
       "      <th></th>\n",
       "      <th>Persons</th>\n",
       "      <th>Subject 1</th>\n",
       "      <th>Subject 2</th>\n",
       "      <th>Subject 3</th>\n",
       "      <th>Grade</th>\n",
       "      <th>A</th>\n",
       "    </tr>\n",
       "  </thead>\n",
       "  <tbody>\n",
       "    <tr>\n",
       "      <th>Person A</th>\n",
       "      <td>0.765830</td>\n",
       "      <td>-0.513229</td>\n",
       "      <td>0.399245</td>\n",
       "      <td>-0.066224</td>\n",
       "      <td>A</td>\n",
       "      <td>NaN</td>\n",
       "    </tr>\n",
       "    <tr>\n",
       "      <th>Person B</th>\n",
       "      <td>1.736127</td>\n",
       "      <td>-0.177190</td>\n",
       "      <td>-0.418288</td>\n",
       "      <td>0.481098</td>\n",
       "      <td>B</td>\n",
       "      <td>NaN</td>\n",
       "    </tr>\n",
       "    <tr>\n",
       "      <th>Person C</th>\n",
       "      <td>-0.548556</td>\n",
       "      <td>0.130764</td>\n",
       "      <td>-0.114324</td>\n",
       "      <td>-0.425738</td>\n",
       "      <td>A</td>\n",
       "      <td>NaN</td>\n",
       "    </tr>\n",
       "    <tr>\n",
       "      <th>Person D</th>\n",
       "      <td>0.346643</td>\n",
       "      <td>-0.621566</td>\n",
       "      <td>1.068353</td>\n",
       "      <td>-0.591244</td>\n",
       "      <td>C</td>\n",
       "      <td>NaN</td>\n",
       "    </tr>\n",
       "    <tr>\n",
       "      <th>Person E</th>\n",
       "      <td>-1.371688</td>\n",
       "      <td>0.391739</td>\n",
       "      <td>-0.892915</td>\n",
       "      <td>2.546680</td>\n",
       "      <td>A</td>\n",
       "      <td>NaN</td>\n",
       "    </tr>\n",
       "    <tr>\n",
       "      <th>2020-02-01 00:00:00</th>\n",
       "      <td>NaN</td>\n",
       "      <td>NaN</td>\n",
       "      <td>NaN</td>\n",
       "      <td>NaN</td>\n",
       "      <td>NaN</td>\n",
       "      <td>0.0</td>\n",
       "    </tr>\n",
       "  </tbody>\n",
       "</table>\n",
       "</div>"
      ],
      "text/plain": [
       "                      Persons  Subject 1  Subject 2  Subject 3 Grade    A\n",
       "Person A             0.765830  -0.513229   0.399245  -0.066224     A  NaN\n",
       "Person B             1.736127  -0.177190  -0.418288   0.481098     B  NaN\n",
       "Person C            -0.548556   0.130764  -0.114324  -0.425738     A  NaN\n",
       "Person D             0.346643  -0.621566   1.068353  -0.591244     C  NaN\n",
       "Person E            -1.371688   0.391739  -0.892915   2.546680     A  NaN\n",
       "2020-02-01 00:00:00       NaN        NaN        NaN        NaN   NaN  0.0"
      ]
     },
     "execution_count": 40,
     "metadata": {},
     "output_type": "execute_result"
    }
   ],
   "source": [
    "df"
   ]
  },
  {
   "cell_type": "code",
   "execution_count": 41,
   "id": "entire-portuguese",
   "metadata": {},
   "outputs": [
    {
     "data": {
      "text/html": [
       "<div>\n",
       "<style scoped>\n",
       "    .dataframe tbody tr th:only-of-type {\n",
       "        vertical-align: middle;\n",
       "    }\n",
       "\n",
       "    .dataframe tbody tr th {\n",
       "        vertical-align: top;\n",
       "    }\n",
       "\n",
       "    .dataframe thead th {\n",
       "        text-align: right;\n",
       "    }\n",
       "</style>\n",
       "<table border=\"1\" class=\"dataframe\">\n",
       "  <thead>\n",
       "    <tr style=\"text-align: right;\">\n",
       "      <th></th>\n",
       "      <th>Persons</th>\n",
       "      <th>Subject 1</th>\n",
       "      <th>Subject 2</th>\n",
       "      <th>Subject 3</th>\n",
       "      <th>Grade</th>\n",
       "      <th>A</th>\n",
       "    </tr>\n",
       "  </thead>\n",
       "  <tbody>\n",
       "    <tr>\n",
       "      <th>Person A</th>\n",
       "      <td>0.765830</td>\n",
       "      <td>-0.513229</td>\n",
       "      <td>0.399245</td>\n",
       "      <td>-0.066224</td>\n",
       "      <td>A</td>\n",
       "      <td>NaN</td>\n",
       "    </tr>\n",
       "    <tr>\n",
       "      <th>Person B</th>\n",
       "      <td>1.736127</td>\n",
       "      <td>-0.177190</td>\n",
       "      <td>-0.418288</td>\n",
       "      <td>0.481098</td>\n",
       "      <td>B</td>\n",
       "      <td>NaN</td>\n",
       "    </tr>\n",
       "    <tr>\n",
       "      <th>Person C</th>\n",
       "      <td>-0.548556</td>\n",
       "      <td>0.130764</td>\n",
       "      <td>-0.114324</td>\n",
       "      <td>-0.425738</td>\n",
       "      <td>A</td>\n",
       "      <td>NaN</td>\n",
       "    </tr>\n",
       "    <tr>\n",
       "      <th>Person D</th>\n",
       "      <td>0.346643</td>\n",
       "      <td>-0.621566</td>\n",
       "      <td>1.068353</td>\n",
       "      <td>-0.591244</td>\n",
       "      <td>C</td>\n",
       "      <td>NaN</td>\n",
       "    </tr>\n",
       "    <tr>\n",
       "      <th>Person E</th>\n",
       "      <td>-1.371688</td>\n",
       "      <td>0.391739</td>\n",
       "      <td>-0.892915</td>\n",
       "      <td>2.546680</td>\n",
       "      <td>A</td>\n",
       "      <td>NaN</td>\n",
       "    </tr>\n",
       "    <tr>\n",
       "      <th>2020-02-01 00:00:00</th>\n",
       "      <td>NaN</td>\n",
       "      <td>NaN</td>\n",
       "      <td>NaN</td>\n",
       "      <td>NaN</td>\n",
       "      <td>NaN</td>\n",
       "      <td>0.0</td>\n",
       "    </tr>\n",
       "  </tbody>\n",
       "</table>\n",
       "</div>"
      ],
      "text/plain": [
       "                      Persons  Subject 1  Subject 2  Subject 3 Grade    A\n",
       "Person A             0.765830  -0.513229   0.399245  -0.066224     A  NaN\n",
       "Person B             1.736127  -0.177190  -0.418288   0.481098     B  NaN\n",
       "Person C            -0.548556   0.130764  -0.114324  -0.425738     A  NaN\n",
       "Person D             0.346643  -0.621566   1.068353  -0.591244     C  NaN\n",
       "Person E            -1.371688   0.391739  -0.892915   2.546680     A  NaN\n",
       "2020-02-01 00:00:00       NaN        NaN        NaN        NaN   NaN  0.0"
      ]
     },
     "execution_count": 41,
     "metadata": {},
     "output_type": "execute_result"
    }
   ],
   "source": [
    "df3=df.copy()  #To copy one datafram to another\n",
    "df3"
   ]
  },
  {
   "cell_type": "markdown",
   "id": "empirical-insight",
   "metadata": {},
   "source": [
    "Reindexing allows you to change/add/delete the index on a specified axis. This returns a copy of the data."
   ]
  },
  {
   "cell_type": "code",
   "execution_count": 43,
   "id": "female-nevada",
   "metadata": {},
   "outputs": [
    {
     "data": {
      "text/html": [
       "<div>\n",
       "<style scoped>\n",
       "    .dataframe tbody tr th:only-of-type {\n",
       "        vertical-align: middle;\n",
       "    }\n",
       "\n",
       "    .dataframe tbody tr th {\n",
       "        vertical-align: top;\n",
       "    }\n",
       "\n",
       "    .dataframe thead th {\n",
       "        text-align: right;\n",
       "    }\n",
       "</style>\n",
       "<table border=\"1\" class=\"dataframe\">\n",
       "  <thead>\n",
       "    <tr style=\"text-align: right;\">\n",
       "      <th></th>\n",
       "      <th>Persons</th>\n",
       "      <th>Subject 1</th>\n",
       "      <th>Subject 2</th>\n",
       "      <th>Subject 3</th>\n",
       "      <th>Grade</th>\n",
       "      <th>A</th>\n",
       "      <th>E</th>\n",
       "    </tr>\n",
       "  </thead>\n",
       "  <tbody>\n",
       "    <tr>\n",
       "      <th>2020-02-01</th>\n",
       "      <td>NaN</td>\n",
       "      <td>NaN</td>\n",
       "      <td>NaN</td>\n",
       "      <td>NaN</td>\n",
       "      <td>NaN</td>\n",
       "      <td>0.0</td>\n",
       "      <td>NaN</td>\n",
       "    </tr>\n",
       "    <tr>\n",
       "      <th>2020-02-02</th>\n",
       "      <td>NaN</td>\n",
       "      <td>NaN</td>\n",
       "      <td>NaN</td>\n",
       "      <td>NaN</td>\n",
       "      <td>NaN</td>\n",
       "      <td>NaN</td>\n",
       "      <td>NaN</td>\n",
       "    </tr>\n",
       "    <tr>\n",
       "      <th>2020-02-03</th>\n",
       "      <td>NaN</td>\n",
       "      <td>NaN</td>\n",
       "      <td>NaN</td>\n",
       "      <td>NaN</td>\n",
       "      <td>NaN</td>\n",
       "      <td>NaN</td>\n",
       "      <td>NaN</td>\n",
       "    </tr>\n",
       "    <tr>\n",
       "      <th>2020-02-04</th>\n",
       "      <td>NaN</td>\n",
       "      <td>NaN</td>\n",
       "      <td>NaN</td>\n",
       "      <td>NaN</td>\n",
       "      <td>NaN</td>\n",
       "      <td>NaN</td>\n",
       "      <td>NaN</td>\n",
       "    </tr>\n",
       "  </tbody>\n",
       "</table>\n",
       "</div>"
      ],
      "text/plain": [
       "            Persons  Subject 1  Subject 2  Subject 3 Grade    A   E\n",
       "2020-02-01      NaN        NaN        NaN        NaN   NaN  0.0 NaN\n",
       "2020-02-02      NaN        NaN        NaN        NaN   NaN  NaN NaN\n",
       "2020-02-03      NaN        NaN        NaN        NaN   NaN  NaN NaN\n",
       "2020-02-04      NaN        NaN        NaN        NaN   NaN  NaN NaN"
      ]
     },
     "execution_count": 43,
     "metadata": {},
     "output_type": "execute_result"
    }
   ],
   "source": [
    "df1 = df.reindex(index=dates[0:4], columns=list(df.columns) + [\"E\"])\n",
    "df1"
   ]
  },
  {
   "cell_type": "markdown",
   "id": "pleased-behalf",
   "metadata": {},
   "source": [
    "To drop any rows that have missing data use dropna() method"
   ]
  },
  {
   "cell_type": "code",
   "execution_count": 44,
   "id": "chinese-pension",
   "metadata": {},
   "outputs": [
    {
     "data": {
      "text/html": [
       "<div>\n",
       "<style scoped>\n",
       "    .dataframe tbody tr th:only-of-type {\n",
       "        vertical-align: middle;\n",
       "    }\n",
       "\n",
       "    .dataframe tbody tr th {\n",
       "        vertical-align: top;\n",
       "    }\n",
       "\n",
       "    .dataframe thead th {\n",
       "        text-align: right;\n",
       "    }\n",
       "</style>\n",
       "<table border=\"1\" class=\"dataframe\">\n",
       "  <thead>\n",
       "    <tr style=\"text-align: right;\">\n",
       "      <th></th>\n",
       "      <th>Persons</th>\n",
       "      <th>Subject 1</th>\n",
       "      <th>Subject 2</th>\n",
       "      <th>Subject 3</th>\n",
       "      <th>Grade</th>\n",
       "      <th>A</th>\n",
       "      <th>E</th>\n",
       "    </tr>\n",
       "  </thead>\n",
       "  <tbody>\n",
       "  </tbody>\n",
       "</table>\n",
       "</div>"
      ],
      "text/plain": [
       "Empty DataFrame\n",
       "Columns: [Persons, Subject 1, Subject 2, Subject 3, Grade, A, E]\n",
       "Index: []"
      ]
     },
     "execution_count": 44,
     "metadata": {},
     "output_type": "execute_result"
    }
   ],
   "source": [
    "df1.dropna(how=\"any\")"
   ]
  },
  {
   "cell_type": "markdown",
   "id": "anticipated-chance",
   "metadata": {},
   "source": [
    "To fill missing data use fillna() method"
   ]
  },
  {
   "cell_type": "code",
   "execution_count": 52,
   "id": "chronic-thermal",
   "metadata": {},
   "outputs": [],
   "source": [
    "df1.fillna(value=5)\n",
    "df3=df1.fillna(value=10)"
   ]
  },
  {
   "cell_type": "markdown",
   "id": "advance-finland",
   "metadata": {},
   "source": [
    "To get the boolean mask where values are nan we use the isna() method"
   ]
  },
  {
   "cell_type": "code",
   "execution_count": 53,
   "id": "interim-chocolate",
   "metadata": {},
   "outputs": [
    {
     "data": {
      "text/html": [
       "<div>\n",
       "<style scoped>\n",
       "    .dataframe tbody tr th:only-of-type {\n",
       "        vertical-align: middle;\n",
       "    }\n",
       "\n",
       "    .dataframe tbody tr th {\n",
       "        vertical-align: top;\n",
       "    }\n",
       "\n",
       "    .dataframe thead th {\n",
       "        text-align: right;\n",
       "    }\n",
       "</style>\n",
       "<table border=\"1\" class=\"dataframe\">\n",
       "  <thead>\n",
       "    <tr style=\"text-align: right;\">\n",
       "      <th></th>\n",
       "      <th>Persons</th>\n",
       "      <th>Subject 1</th>\n",
       "      <th>Subject 2</th>\n",
       "      <th>Subject 3</th>\n",
       "      <th>Grade</th>\n",
       "      <th>A</th>\n",
       "      <th>E</th>\n",
       "    </tr>\n",
       "  </thead>\n",
       "  <tbody>\n",
       "    <tr>\n",
       "      <th>2020-02-01</th>\n",
       "      <td>True</td>\n",
       "      <td>True</td>\n",
       "      <td>True</td>\n",
       "      <td>True</td>\n",
       "      <td>True</td>\n",
       "      <td>False</td>\n",
       "      <td>True</td>\n",
       "    </tr>\n",
       "    <tr>\n",
       "      <th>2020-02-02</th>\n",
       "      <td>True</td>\n",
       "      <td>True</td>\n",
       "      <td>True</td>\n",
       "      <td>True</td>\n",
       "      <td>True</td>\n",
       "      <td>True</td>\n",
       "      <td>True</td>\n",
       "    </tr>\n",
       "    <tr>\n",
       "      <th>2020-02-03</th>\n",
       "      <td>True</td>\n",
       "      <td>True</td>\n",
       "      <td>True</td>\n",
       "      <td>True</td>\n",
       "      <td>True</td>\n",
       "      <td>True</td>\n",
       "      <td>True</td>\n",
       "    </tr>\n",
       "    <tr>\n",
       "      <th>2020-02-04</th>\n",
       "      <td>True</td>\n",
       "      <td>True</td>\n",
       "      <td>True</td>\n",
       "      <td>True</td>\n",
       "      <td>True</td>\n",
       "      <td>True</td>\n",
       "      <td>True</td>\n",
       "    </tr>\n",
       "  </tbody>\n",
       "</table>\n",
       "</div>"
      ],
      "text/plain": [
       "            Persons  Subject 1  Subject 2  Subject 3  Grade      A     E\n",
       "2020-02-01     True       True       True       True   True  False  True\n",
       "2020-02-02     True       True       True       True   True   True  True\n",
       "2020-02-03     True       True       True       True   True   True  True\n",
       "2020-02-04     True       True       True       True   True   True  True"
      ]
     },
     "execution_count": 53,
     "metadata": {},
     "output_type": "execute_result"
    }
   ],
   "source": [
    "pd.isna(df1)"
   ]
  },
  {
   "cell_type": "code",
   "execution_count": 54,
   "id": "rational-satin",
   "metadata": {},
   "outputs": [
    {
     "data": {
      "text/html": [
       "<div>\n",
       "<style scoped>\n",
       "    .dataframe tbody tr th:only-of-type {\n",
       "        vertical-align: middle;\n",
       "    }\n",
       "\n",
       "    .dataframe tbody tr th {\n",
       "        vertical-align: top;\n",
       "    }\n",
       "\n",
       "    .dataframe thead th {\n",
       "        text-align: right;\n",
       "    }\n",
       "</style>\n",
       "<table border=\"1\" class=\"dataframe\">\n",
       "  <thead>\n",
       "    <tr style=\"text-align: right;\">\n",
       "      <th></th>\n",
       "      <th>Persons</th>\n",
       "      <th>Subject 1</th>\n",
       "      <th>Subject 2</th>\n",
       "      <th>Subject 3</th>\n",
       "      <th>Grade</th>\n",
       "      <th>A</th>\n",
       "      <th>E</th>\n",
       "    </tr>\n",
       "  </thead>\n",
       "  <tbody>\n",
       "    <tr>\n",
       "      <th>2020-02-01</th>\n",
       "      <td>False</td>\n",
       "      <td>False</td>\n",
       "      <td>False</td>\n",
       "      <td>False</td>\n",
       "      <td>False</td>\n",
       "      <td>False</td>\n",
       "      <td>False</td>\n",
       "    </tr>\n",
       "    <tr>\n",
       "      <th>2020-02-02</th>\n",
       "      <td>False</td>\n",
       "      <td>False</td>\n",
       "      <td>False</td>\n",
       "      <td>False</td>\n",
       "      <td>False</td>\n",
       "      <td>False</td>\n",
       "      <td>False</td>\n",
       "    </tr>\n",
       "    <tr>\n",
       "      <th>2020-02-03</th>\n",
       "      <td>False</td>\n",
       "      <td>False</td>\n",
       "      <td>False</td>\n",
       "      <td>False</td>\n",
       "      <td>False</td>\n",
       "      <td>False</td>\n",
       "      <td>False</td>\n",
       "    </tr>\n",
       "    <tr>\n",
       "      <th>2020-02-04</th>\n",
       "      <td>False</td>\n",
       "      <td>False</td>\n",
       "      <td>False</td>\n",
       "      <td>False</td>\n",
       "      <td>False</td>\n",
       "      <td>False</td>\n",
       "      <td>False</td>\n",
       "    </tr>\n",
       "  </tbody>\n",
       "</table>\n",
       "</div>"
      ],
      "text/plain": [
       "            Persons  Subject 1  Subject 2  Subject 3  Grade      A      E\n",
       "2020-02-01    False      False      False      False  False  False  False\n",
       "2020-02-02    False      False      False      False  False  False  False\n",
       "2020-02-03    False      False      False      False  False  False  False\n",
       "2020-02-04    False      False      False      False  False  False  False"
      ]
     },
     "execution_count": 54,
     "metadata": {},
     "output_type": "execute_result"
    }
   ],
   "source": [
    "pd.isna(df3)"
   ]
  },
  {
   "cell_type": "code",
   "execution_count": 55,
   "id": "damaged-serbia",
   "metadata": {},
   "outputs": [
    {
     "data": {
      "text/html": [
       "<div>\n",
       "<style scoped>\n",
       "    .dataframe tbody tr th:only-of-type {\n",
       "        vertical-align: middle;\n",
       "    }\n",
       "\n",
       "    .dataframe tbody tr th {\n",
       "        vertical-align: top;\n",
       "    }\n",
       "\n",
       "    .dataframe thead th {\n",
       "        text-align: right;\n",
       "    }\n",
       "</style>\n",
       "<table border=\"1\" class=\"dataframe\">\n",
       "  <thead>\n",
       "    <tr style=\"text-align: right;\">\n",
       "      <th></th>\n",
       "      <th>Persons</th>\n",
       "      <th>Subject 1</th>\n",
       "      <th>Subject 2</th>\n",
       "      <th>Subject 3</th>\n",
       "      <th>Grade</th>\n",
       "      <th>A</th>\n",
       "      <th>E</th>\n",
       "    </tr>\n",
       "  </thead>\n",
       "  <tbody>\n",
       "    <tr>\n",
       "      <th>2020-02-01</th>\n",
       "      <td>True</td>\n",
       "      <td>True</td>\n",
       "      <td>True</td>\n",
       "      <td>True</td>\n",
       "      <td>True</td>\n",
       "      <td>False</td>\n",
       "      <td>True</td>\n",
       "    </tr>\n",
       "    <tr>\n",
       "      <th>2020-02-02</th>\n",
       "      <td>True</td>\n",
       "      <td>True</td>\n",
       "      <td>True</td>\n",
       "      <td>True</td>\n",
       "      <td>True</td>\n",
       "      <td>True</td>\n",
       "      <td>True</td>\n",
       "    </tr>\n",
       "    <tr>\n",
       "      <th>2020-02-03</th>\n",
       "      <td>True</td>\n",
       "      <td>True</td>\n",
       "      <td>True</td>\n",
       "      <td>True</td>\n",
       "      <td>True</td>\n",
       "      <td>True</td>\n",
       "      <td>True</td>\n",
       "    </tr>\n",
       "    <tr>\n",
       "      <th>2020-02-04</th>\n",
       "      <td>True</td>\n",
       "      <td>True</td>\n",
       "      <td>True</td>\n",
       "      <td>True</td>\n",
       "      <td>True</td>\n",
       "      <td>True</td>\n",
       "      <td>True</td>\n",
       "    </tr>\n",
       "  </tbody>\n",
       "</table>\n",
       "</div>"
      ],
      "text/plain": [
       "            Persons  Subject 1  Subject 2  Subject 3  Grade      A     E\n",
       "2020-02-01     True       True       True       True   True  False  True\n",
       "2020-02-02     True       True       True       True   True   True  True\n",
       "2020-02-03     True       True       True       True   True   True  True\n",
       "2020-02-04     True       True       True       True   True   True  True"
      ]
     },
     "execution_count": 55,
     "metadata": {},
     "output_type": "execute_result"
    }
   ],
   "source": [
    "df2 = df.reindex(index=dates[0:4], columns=list(df.columns) + [\"E\"])\n",
    "pd.isna(df2)"
   ]
  },
  {
   "cell_type": "code",
   "execution_count": 56,
   "id": "grave-reduction",
   "metadata": {},
   "outputs": [
    {
     "data": {
      "text/html": [
       "<div>\n",
       "<style scoped>\n",
       "    .dataframe tbody tr th:only-of-type {\n",
       "        vertical-align: middle;\n",
       "    }\n",
       "\n",
       "    .dataframe tbody tr th {\n",
       "        vertical-align: top;\n",
       "    }\n",
       "\n",
       "    .dataframe thead th {\n",
       "        text-align: right;\n",
       "    }\n",
       "</style>\n",
       "<table border=\"1\" class=\"dataframe\">\n",
       "  <thead>\n",
       "    <tr style=\"text-align: right;\">\n",
       "      <th></th>\n",
       "      <th>Persons</th>\n",
       "      <th>Subject 1</th>\n",
       "      <th>Subject 2</th>\n",
       "      <th>Subject 3</th>\n",
       "      <th>Grade</th>\n",
       "      <th>A</th>\n",
       "      <th>E</th>\n",
       "    </tr>\n",
       "  </thead>\n",
       "  <tbody>\n",
       "    <tr>\n",
       "      <th>2020-02-01</th>\n",
       "      <td>NaN</td>\n",
       "      <td>NaN</td>\n",
       "      <td>NaN</td>\n",
       "      <td>NaN</td>\n",
       "      <td>NaN</td>\n",
       "      <td>0.0</td>\n",
       "      <td>NaN</td>\n",
       "    </tr>\n",
       "    <tr>\n",
       "      <th>2020-02-02</th>\n",
       "      <td>NaN</td>\n",
       "      <td>NaN</td>\n",
       "      <td>NaN</td>\n",
       "      <td>NaN</td>\n",
       "      <td>NaN</td>\n",
       "      <td>NaN</td>\n",
       "      <td>NaN</td>\n",
       "    </tr>\n",
       "    <tr>\n",
       "      <th>2020-02-03</th>\n",
       "      <td>NaN</td>\n",
       "      <td>NaN</td>\n",
       "      <td>NaN</td>\n",
       "      <td>NaN</td>\n",
       "      <td>NaN</td>\n",
       "      <td>NaN</td>\n",
       "      <td>NaN</td>\n",
       "    </tr>\n",
       "    <tr>\n",
       "      <th>2020-02-04</th>\n",
       "      <td>NaN</td>\n",
       "      <td>NaN</td>\n",
       "      <td>NaN</td>\n",
       "      <td>NaN</td>\n",
       "      <td>NaN</td>\n",
       "      <td>NaN</td>\n",
       "      <td>NaN</td>\n",
       "    </tr>\n",
       "  </tbody>\n",
       "</table>\n",
       "</div>"
      ],
      "text/plain": [
       "            Persons  Subject 1  Subject 2  Subject 3 Grade    A   E\n",
       "2020-02-01      NaN        NaN        NaN        NaN   NaN  0.0 NaN\n",
       "2020-02-02      NaN        NaN        NaN        NaN   NaN  NaN NaN\n",
       "2020-02-03      NaN        NaN        NaN        NaN   NaN  NaN NaN\n",
       "2020-02-04      NaN        NaN        NaN        NaN   NaN  NaN NaN"
      ]
     },
     "execution_count": 56,
     "metadata": {},
     "output_type": "execute_result"
    }
   ],
   "source": [
    "df2"
   ]
  },
  {
   "cell_type": "code",
   "execution_count": 57,
   "id": "extended-humanity",
   "metadata": {},
   "outputs": [
    {
     "data": {
      "text/plain": [
       "Persons      0.185671\n",
       "Subject 1   -0.157896\n",
       "Subject 2    0.008414\n",
       "Subject 3    0.388914\n",
       "A            0.000000\n",
       "dtype: float64"
      ]
     },
     "execution_count": 57,
     "metadata": {},
     "output_type": "execute_result"
    }
   ],
   "source": [
    "df.mean()"
   ]
  },
  {
   "cell_type": "code",
   "execution_count": 58,
   "id": "surprised-narrow",
   "metadata": {},
   "outputs": [
    {
     "data": {
      "text/plain": [
       "Person A               0.146405\n",
       "Person B               0.405437\n",
       "Person C              -0.239463\n",
       "Person D               0.050546\n",
       "Person E               0.168454\n",
       "2020-02-01 00:00:00    0.000000\n",
       "dtype: float64"
      ]
     },
     "execution_count": 58,
     "metadata": {},
     "output_type": "execute_result"
    }
   ],
   "source": [
    "df.mean(1)"
   ]
  },
  {
   "cell_type": "markdown",
   "id": "tutorial-cloud",
   "metadata": {},
   "source": [
    "To apply functions to data we can use the apply() method"
   ]
  },
  {
   "cell_type": "code",
   "execution_count": 63,
   "id": "central-specification",
   "metadata": {},
   "outputs": [
    {
     "data": {
      "text/html": [
       "<div>\n",
       "<style scoped>\n",
       "    .dataframe tbody tr th:only-of-type {\n",
       "        vertical-align: middle;\n",
       "    }\n",
       "\n",
       "    .dataframe tbody tr th {\n",
       "        vertical-align: top;\n",
       "    }\n",
       "\n",
       "    .dataframe thead th {\n",
       "        text-align: right;\n",
       "    }\n",
       "</style>\n",
       "<table border=\"1\" class=\"dataframe\">\n",
       "  <thead>\n",
       "    <tr style=\"text-align: right;\">\n",
       "      <th></th>\n",
       "      <th>Persons</th>\n",
       "      <th>Subject 1</th>\n",
       "      <th>Subject 2</th>\n",
       "      <th>Subject 3</th>\n",
       "      <th>Grade</th>\n",
       "      <th>A</th>\n",
       "      <th>E</th>\n",
       "    </tr>\n",
       "  </thead>\n",
       "  <tbody>\n",
       "    <tr>\n",
       "      <th>2020-02-01</th>\n",
       "      <td>10.0</td>\n",
       "      <td>10.0</td>\n",
       "      <td>10.0</td>\n",
       "      <td>10.0</td>\n",
       "      <td>10</td>\n",
       "      <td>0.0</td>\n",
       "      <td>10.0</td>\n",
       "    </tr>\n",
       "    <tr>\n",
       "      <th>2020-02-02</th>\n",
       "      <td>20.0</td>\n",
       "      <td>20.0</td>\n",
       "      <td>20.0</td>\n",
       "      <td>20.0</td>\n",
       "      <td>20</td>\n",
       "      <td>10.0</td>\n",
       "      <td>20.0</td>\n",
       "    </tr>\n",
       "    <tr>\n",
       "      <th>2020-02-03</th>\n",
       "      <td>30.0</td>\n",
       "      <td>30.0</td>\n",
       "      <td>30.0</td>\n",
       "      <td>30.0</td>\n",
       "      <td>30</td>\n",
       "      <td>20.0</td>\n",
       "      <td>30.0</td>\n",
       "    </tr>\n",
       "    <tr>\n",
       "      <th>2020-02-04</th>\n",
       "      <td>40.0</td>\n",
       "      <td>40.0</td>\n",
       "      <td>40.0</td>\n",
       "      <td>40.0</td>\n",
       "      <td>40</td>\n",
       "      <td>30.0</td>\n",
       "      <td>40.0</td>\n",
       "    </tr>\n",
       "  </tbody>\n",
       "</table>\n",
       "</div>"
      ],
      "text/plain": [
       "            Persons  Subject 1  Subject 2  Subject 3  Grade     A     E\n",
       "2020-02-01     10.0       10.0       10.0       10.0     10   0.0  10.0\n",
       "2020-02-02     20.0       20.0       20.0       20.0     20  10.0  20.0\n",
       "2020-02-03     30.0       30.0       30.0       30.0     30  20.0  30.0\n",
       "2020-02-04     40.0       40.0       40.0       40.0     40  30.0  40.0"
      ]
     },
     "execution_count": 63,
     "metadata": {},
     "output_type": "execute_result"
    }
   ],
   "source": [
    "df3.apply(np.cumsum)"
   ]
  },
  {
   "cell_type": "code",
   "execution_count": 64,
   "id": "pleasant-institute",
   "metadata": {},
   "outputs": [
    {
     "data": {
      "text/plain": [
       "Persons       0.0\n",
       "Subject 1     0.0\n",
       "Subject 2     0.0\n",
       "Subject 3     0.0\n",
       "Grade         0.0\n",
       "A            10.0\n",
       "E             0.0\n",
       "dtype: float64"
      ]
     },
     "execution_count": 64,
     "metadata": {},
     "output_type": "execute_result"
    }
   ],
   "source": [
    "df3.apply(lambda x: x.max()-x.min())"
   ]
  },
  {
   "cell_type": "markdown",
   "id": "confidential-investing",
   "metadata": {},
   "source": [
    "Histogrammings the data in a series"
   ]
  },
  {
   "cell_type": "code",
   "execution_count": 68,
   "id": "challenging-triumph",
   "metadata": {},
   "outputs": [
    {
     "data": {
      "text/plain": [
       "0    0.570466\n",
       "1    0.719091\n",
       "2    0.617654\n",
       "3   -1.318744\n",
       "4   -1.399916\n",
       "5   -0.122030\n",
       "6    0.058727\n",
       "dtype: float64"
      ]
     },
     "execution_count": 68,
     "metadata": {},
     "output_type": "execute_result"
    }
   ],
   "source": [
    "myseris=pd.Series(np.random.randn(7))\n",
    "myseris"
   ]
  },
  {
   "cell_type": "code",
   "execution_count": 69,
   "id": "technical-elevation",
   "metadata": {},
   "outputs": [
    {
     "data": {
      "text/plain": [
       "0    0\n",
       "1    6\n",
       "2    0\n",
       "3    0\n",
       "4    4\n",
       "5    6\n",
       "6    2\n",
       "7    1\n",
       "8    0\n",
       "9    3\n",
       "dtype: int64"
      ]
     },
     "execution_count": 69,
     "metadata": {},
     "output_type": "execute_result"
    }
   ],
   "source": [
    "myseries=pd.Series(np.random.randint(0,7,size=10))\n",
    "myseries"
   ]
  },
  {
   "cell_type": "code",
   "execution_count": 71,
   "id": "personal-syndication",
   "metadata": {},
   "outputs": [
    {
     "data": {
      "text/plain": [
       "0    4\n",
       "6    2\n",
       "1    1\n",
       "2    1\n",
       "3    1\n",
       "4    1\n",
       "dtype: int64"
      ]
     },
     "execution_count": 71,
     "metadata": {},
     "output_type": "execute_result"
    }
   ],
   "source": [
    "myseries.value_counts() #To count the number of times the values occured in the above seies"
   ]
  },
  {
   "cell_type": "markdown",
   "id": "sustainable-astronomy",
   "metadata": {},
   "source": [
    "We can also use string methods"
   ]
  },
  {
   "cell_type": "code",
   "execution_count": 72,
   "id": "initial-communications",
   "metadata": {},
   "outputs": [
    {
     "data": {
      "text/plain": [
       "0       a\n",
       "1       b\n",
       "2       c\n",
       "3    aaba\n",
       "4    baca\n",
       "5     NaN\n",
       "6    caba\n",
       "7     dog\n",
       "8     cat\n",
       "dtype: object"
      ]
     },
     "execution_count": 72,
     "metadata": {},
     "output_type": "execute_result"
    }
   ],
   "source": [
    "s = pd.Series([\"A\", \"B\", \"C\", \"Aaba\", \"Baca\", np.nan, \"CABA\", \"dog\", \"cat\"])\n",
    "s.str.lower()"
   ]
  },
  {
   "cell_type": "markdown",
   "id": "sexual-strain",
   "metadata": {},
   "source": [
    "Merging series in a dataframe"
   ]
  },
  {
   "cell_type": "code",
   "execution_count": 74,
   "id": "suffering-operator",
   "metadata": {},
   "outputs": [
    {
     "data": {
      "text/html": [
       "<div>\n",
       "<style scoped>\n",
       "    .dataframe tbody tr th:only-of-type {\n",
       "        vertical-align: middle;\n",
       "    }\n",
       "\n",
       "    .dataframe tbody tr th {\n",
       "        vertical-align: top;\n",
       "    }\n",
       "\n",
       "    .dataframe thead th {\n",
       "        text-align: right;\n",
       "    }\n",
       "</style>\n",
       "<table border=\"1\" class=\"dataframe\">\n",
       "  <thead>\n",
       "    <tr style=\"text-align: right;\">\n",
       "      <th></th>\n",
       "      <th>0</th>\n",
       "      <th>1</th>\n",
       "      <th>2</th>\n",
       "      <th>3</th>\n",
       "    </tr>\n",
       "  </thead>\n",
       "  <tbody>\n",
       "    <tr>\n",
       "      <th>0</th>\n",
       "      <td>0.543004</td>\n",
       "      <td>1.594798</td>\n",
       "      <td>0.915319</td>\n",
       "      <td>-1.044090</td>\n",
       "    </tr>\n",
       "    <tr>\n",
       "      <th>1</th>\n",
       "      <td>-1.547285</td>\n",
       "      <td>-0.309654</td>\n",
       "      <td>0.460319</td>\n",
       "      <td>-0.481939</td>\n",
       "    </tr>\n",
       "    <tr>\n",
       "      <th>2</th>\n",
       "      <td>-0.555572</td>\n",
       "      <td>-1.283660</td>\n",
       "      <td>1.592139</td>\n",
       "      <td>-1.277425</td>\n",
       "    </tr>\n",
       "    <tr>\n",
       "      <th>3</th>\n",
       "      <td>-1.266490</td>\n",
       "      <td>0.420521</td>\n",
       "      <td>-0.517687</td>\n",
       "      <td>0.844973</td>\n",
       "    </tr>\n",
       "    <tr>\n",
       "      <th>4</th>\n",
       "      <td>0.498860</td>\n",
       "      <td>-1.118942</td>\n",
       "      <td>-0.539914</td>\n",
       "      <td>-1.138289</td>\n",
       "    </tr>\n",
       "    <tr>\n",
       "      <th>5</th>\n",
       "      <td>0.977717</td>\n",
       "      <td>-1.078705</td>\n",
       "      <td>-1.394654</td>\n",
       "      <td>0.156041</td>\n",
       "    </tr>\n",
       "    <tr>\n",
       "      <th>6</th>\n",
       "      <td>-2.005051</td>\n",
       "      <td>1.077914</td>\n",
       "      <td>-1.122144</td>\n",
       "      <td>2.819499</td>\n",
       "    </tr>\n",
       "    <tr>\n",
       "      <th>7</th>\n",
       "      <td>0.296670</td>\n",
       "      <td>0.601179</td>\n",
       "      <td>0.302545</td>\n",
       "      <td>-1.552246</td>\n",
       "    </tr>\n",
       "    <tr>\n",
       "      <th>8</th>\n",
       "      <td>0.601832</td>\n",
       "      <td>0.555346</td>\n",
       "      <td>-0.345776</td>\n",
       "      <td>-0.317246</td>\n",
       "    </tr>\n",
       "    <tr>\n",
       "      <th>9</th>\n",
       "      <td>0.691751</td>\n",
       "      <td>-0.949218</td>\n",
       "      <td>-0.495462</td>\n",
       "      <td>0.484419</td>\n",
       "    </tr>\n",
       "  </tbody>\n",
       "</table>\n",
       "</div>"
      ],
      "text/plain": [
       "          0         1         2         3\n",
       "0  0.543004  1.594798  0.915319 -1.044090\n",
       "1 -1.547285 -0.309654  0.460319 -0.481939\n",
       "2 -0.555572 -1.283660  1.592139 -1.277425\n",
       "3 -1.266490  0.420521 -0.517687  0.844973\n",
       "4  0.498860 -1.118942 -0.539914 -1.138289\n",
       "5  0.977717 -1.078705 -1.394654  0.156041\n",
       "6 -2.005051  1.077914 -1.122144  2.819499\n",
       "7  0.296670  0.601179  0.302545 -1.552246\n",
       "8  0.601832  0.555346 -0.345776 -0.317246\n",
       "9  0.691751 -0.949218 -0.495462  0.484419"
      ]
     },
     "execution_count": 74,
     "metadata": {},
     "output_type": "execute_result"
    }
   ],
   "source": [
    "df = pd.DataFrame(np.random.randn(10, 4))\n",
    "df"
   ]
  },
  {
   "cell_type": "code",
   "execution_count": 77,
   "id": "adjusted-volunteer",
   "metadata": {},
   "outputs": [
    {
     "data": {
      "text/plain": [
       "[          0         1         2         3\n",
       " 0  0.543004  1.594798  0.915319 -1.044090\n",
       " 1 -1.547285 -0.309654  0.460319 -0.481939\n",
       " 2 -0.555572 -1.283660  1.592139 -1.277425,\n",
       "           0         1         2         3\n",
       " 3 -1.266490  0.420521 -0.517687  0.844973\n",
       " 4  0.498860 -1.118942 -0.539914 -1.138289\n",
       " 5  0.977717 -1.078705 -1.394654  0.156041\n",
       " 6 -2.005051  1.077914 -1.122144  2.819499,\n",
       "           0         1         2         3\n",
       " 7  0.296670  0.601179  0.302545 -1.552246\n",
       " 8  0.601832  0.555346 -0.345776 -0.317246\n",
       " 9  0.691751 -0.949218 -0.495462  0.484419]"
      ]
     },
     "execution_count": 77,
     "metadata": {},
     "output_type": "execute_result"
    }
   ],
   "source": [
    "pieces = [df[:3], df[3:7], df[7:]] #Here we are slicing the columns and rows, i.e, breaking the data frame into pieces\n",
    "pieces"
   ]
  },
  {
   "cell_type": "code",
   "execution_count": 78,
   "id": "grateful-arrow",
   "metadata": {},
   "outputs": [
    {
     "data": {
      "text/html": [
       "<div>\n",
       "<style scoped>\n",
       "    .dataframe tbody tr th:only-of-type {\n",
       "        vertical-align: middle;\n",
       "    }\n",
       "\n",
       "    .dataframe tbody tr th {\n",
       "        vertical-align: top;\n",
       "    }\n",
       "\n",
       "    .dataframe thead th {\n",
       "        text-align: right;\n",
       "    }\n",
       "</style>\n",
       "<table border=\"1\" class=\"dataframe\">\n",
       "  <thead>\n",
       "    <tr style=\"text-align: right;\">\n",
       "      <th></th>\n",
       "      <th>0</th>\n",
       "      <th>1</th>\n",
       "      <th>2</th>\n",
       "      <th>3</th>\n",
       "    </tr>\n",
       "  </thead>\n",
       "  <tbody>\n",
       "    <tr>\n",
       "      <th>0</th>\n",
       "      <td>0.543004</td>\n",
       "      <td>1.594798</td>\n",
       "      <td>0.915319</td>\n",
       "      <td>-1.044090</td>\n",
       "    </tr>\n",
       "    <tr>\n",
       "      <th>1</th>\n",
       "      <td>-1.547285</td>\n",
       "      <td>-0.309654</td>\n",
       "      <td>0.460319</td>\n",
       "      <td>-0.481939</td>\n",
       "    </tr>\n",
       "    <tr>\n",
       "      <th>2</th>\n",
       "      <td>-0.555572</td>\n",
       "      <td>-1.283660</td>\n",
       "      <td>1.592139</td>\n",
       "      <td>-1.277425</td>\n",
       "    </tr>\n",
       "    <tr>\n",
       "      <th>3</th>\n",
       "      <td>-1.266490</td>\n",
       "      <td>0.420521</td>\n",
       "      <td>-0.517687</td>\n",
       "      <td>0.844973</td>\n",
       "    </tr>\n",
       "    <tr>\n",
       "      <th>4</th>\n",
       "      <td>0.498860</td>\n",
       "      <td>-1.118942</td>\n",
       "      <td>-0.539914</td>\n",
       "      <td>-1.138289</td>\n",
       "    </tr>\n",
       "    <tr>\n",
       "      <th>5</th>\n",
       "      <td>0.977717</td>\n",
       "      <td>-1.078705</td>\n",
       "      <td>-1.394654</td>\n",
       "      <td>0.156041</td>\n",
       "    </tr>\n",
       "    <tr>\n",
       "      <th>6</th>\n",
       "      <td>-2.005051</td>\n",
       "      <td>1.077914</td>\n",
       "      <td>-1.122144</td>\n",
       "      <td>2.819499</td>\n",
       "    </tr>\n",
       "    <tr>\n",
       "      <th>7</th>\n",
       "      <td>0.296670</td>\n",
       "      <td>0.601179</td>\n",
       "      <td>0.302545</td>\n",
       "      <td>-1.552246</td>\n",
       "    </tr>\n",
       "    <tr>\n",
       "      <th>8</th>\n",
       "      <td>0.601832</td>\n",
       "      <td>0.555346</td>\n",
       "      <td>-0.345776</td>\n",
       "      <td>-0.317246</td>\n",
       "    </tr>\n",
       "    <tr>\n",
       "      <th>9</th>\n",
       "      <td>0.691751</td>\n",
       "      <td>-0.949218</td>\n",
       "      <td>-0.495462</td>\n",
       "      <td>0.484419</td>\n",
       "    </tr>\n",
       "  </tbody>\n",
       "</table>\n",
       "</div>"
      ],
      "text/plain": [
       "          0         1         2         3\n",
       "0  0.543004  1.594798  0.915319 -1.044090\n",
       "1 -1.547285 -0.309654  0.460319 -0.481939\n",
       "2 -0.555572 -1.283660  1.592139 -1.277425\n",
       "3 -1.266490  0.420521 -0.517687  0.844973\n",
       "4  0.498860 -1.118942 -0.539914 -1.138289\n",
       "5  0.977717 -1.078705 -1.394654  0.156041\n",
       "6 -2.005051  1.077914 -1.122144  2.819499\n",
       "7  0.296670  0.601179  0.302545 -1.552246\n",
       "8  0.601832  0.555346 -0.345776 -0.317246\n",
       "9  0.691751 -0.949218 -0.495462  0.484419"
      ]
     },
     "execution_count": 78,
     "metadata": {},
     "output_type": "execute_result"
    }
   ],
   "source": [
    "pd.concat(pieces) #Finally concatinating it all"
   ]
  },
  {
   "cell_type": "markdown",
   "id": "equivalent-arabic",
   "metadata": {},
   "source": [
    "Note: Adding a column to a DataFrame is relatively fast. However, adding a row requires a copy, and may be expensive. It is recommended to pass a pre-built list of records to the DataFrame constructor instead of building a DataFrame by iteratively appending records to it"
   ]
  },
  {
   "cell_type": "markdown",
   "id": "tribal-repair",
   "metadata": {},
   "source": [
    "We can join 2 dataframes using the merge() method"
   ]
  },
  {
   "cell_type": "code",
   "execution_count": 79,
   "id": "magnetic-amber",
   "metadata": {},
   "outputs": [
    {
     "data": {
      "text/html": [
       "<div>\n",
       "<style scoped>\n",
       "    .dataframe tbody tr th:only-of-type {\n",
       "        vertical-align: middle;\n",
       "    }\n",
       "\n",
       "    .dataframe tbody tr th {\n",
       "        vertical-align: top;\n",
       "    }\n",
       "\n",
       "    .dataframe thead th {\n",
       "        text-align: right;\n",
       "    }\n",
       "</style>\n",
       "<table border=\"1\" class=\"dataframe\">\n",
       "  <thead>\n",
       "    <tr style=\"text-align: right;\">\n",
       "      <th></th>\n",
       "      <th>key</th>\n",
       "      <th>lval</th>\n",
       "    </tr>\n",
       "  </thead>\n",
       "  <tbody>\n",
       "    <tr>\n",
       "      <th>0</th>\n",
       "      <td>foo</td>\n",
       "      <td>1</td>\n",
       "    </tr>\n",
       "    <tr>\n",
       "      <th>1</th>\n",
       "      <td>foo</td>\n",
       "      <td>2</td>\n",
       "    </tr>\n",
       "  </tbody>\n",
       "</table>\n",
       "</div>"
      ],
      "text/plain": [
       "   key  lval\n",
       "0  foo     1\n",
       "1  foo     2"
      ]
     },
     "execution_count": 79,
     "metadata": {},
     "output_type": "execute_result"
    }
   ],
   "source": [
    "left = pd.DataFrame({\"key\": [\"foo\", \"foo\"], \"lval\": [1, 2]})\n",
    "left"
   ]
  },
  {
   "cell_type": "code",
   "execution_count": 80,
   "id": "antique-papua",
   "metadata": {},
   "outputs": [
    {
     "data": {
      "text/html": [
       "<div>\n",
       "<style scoped>\n",
       "    .dataframe tbody tr th:only-of-type {\n",
       "        vertical-align: middle;\n",
       "    }\n",
       "\n",
       "    .dataframe tbody tr th {\n",
       "        vertical-align: top;\n",
       "    }\n",
       "\n",
       "    .dataframe thead th {\n",
       "        text-align: right;\n",
       "    }\n",
       "</style>\n",
       "<table border=\"1\" class=\"dataframe\">\n",
       "  <thead>\n",
       "    <tr style=\"text-align: right;\">\n",
       "      <th></th>\n",
       "      <th>key</th>\n",
       "      <th>rval</th>\n",
       "    </tr>\n",
       "  </thead>\n",
       "  <tbody>\n",
       "    <tr>\n",
       "      <th>0</th>\n",
       "      <td>foo</td>\n",
       "      <td>4</td>\n",
       "    </tr>\n",
       "    <tr>\n",
       "      <th>1</th>\n",
       "      <td>foo</td>\n",
       "      <td>5</td>\n",
       "    </tr>\n",
       "  </tbody>\n",
       "</table>\n",
       "</div>"
      ],
      "text/plain": [
       "   key  rval\n",
       "0  foo     4\n",
       "1  foo     5"
      ]
     },
     "execution_count": 80,
     "metadata": {},
     "output_type": "execute_result"
    }
   ],
   "source": [
    "right = pd.DataFrame({\"key\": [\"foo\", \"foo\"], \"rval\": [4, 5]})\n",
    "right"
   ]
  },
  {
   "cell_type": "code",
   "execution_count": 81,
   "id": "operating-tissue",
   "metadata": {},
   "outputs": [
    {
     "data": {
      "text/html": [
       "<div>\n",
       "<style scoped>\n",
       "    .dataframe tbody tr th:only-of-type {\n",
       "        vertical-align: middle;\n",
       "    }\n",
       "\n",
       "    .dataframe tbody tr th {\n",
       "        vertical-align: top;\n",
       "    }\n",
       "\n",
       "    .dataframe thead th {\n",
       "        text-align: right;\n",
       "    }\n",
       "</style>\n",
       "<table border=\"1\" class=\"dataframe\">\n",
       "  <thead>\n",
       "    <tr style=\"text-align: right;\">\n",
       "      <th></th>\n",
       "      <th>key</th>\n",
       "      <th>lval</th>\n",
       "      <th>rval</th>\n",
       "    </tr>\n",
       "  </thead>\n",
       "  <tbody>\n",
       "    <tr>\n",
       "      <th>0</th>\n",
       "      <td>foo</td>\n",
       "      <td>1</td>\n",
       "      <td>4</td>\n",
       "    </tr>\n",
       "    <tr>\n",
       "      <th>1</th>\n",
       "      <td>foo</td>\n",
       "      <td>1</td>\n",
       "      <td>5</td>\n",
       "    </tr>\n",
       "    <tr>\n",
       "      <th>2</th>\n",
       "      <td>foo</td>\n",
       "      <td>2</td>\n",
       "      <td>4</td>\n",
       "    </tr>\n",
       "    <tr>\n",
       "      <th>3</th>\n",
       "      <td>foo</td>\n",
       "      <td>2</td>\n",
       "      <td>5</td>\n",
       "    </tr>\n",
       "  </tbody>\n",
       "</table>\n",
       "</div>"
      ],
      "text/plain": [
       "   key  lval  rval\n",
       "0  foo     1     4\n",
       "1  foo     1     5\n",
       "2  foo     2     4\n",
       "3  foo     2     5"
      ]
     },
     "execution_count": 81,
     "metadata": {},
     "output_type": "execute_result"
    }
   ],
   "source": [
    "pd.merge(left, right, on=\"key\") #merging the 2 dataframes here"
   ]
  },
  {
   "cell_type": "markdown",
   "id": "annoying-flash",
   "metadata": {},
   "source": [
    "Grouping in Padas"
   ]
  },
  {
   "cell_type": "code",
   "execution_count": 82,
   "id": "coupled-present",
   "metadata": {},
   "outputs": [
    {
     "data": {
      "text/html": [
       "<div>\n",
       "<style scoped>\n",
       "    .dataframe tbody tr th:only-of-type {\n",
       "        vertical-align: middle;\n",
       "    }\n",
       "\n",
       "    .dataframe tbody tr th {\n",
       "        vertical-align: top;\n",
       "    }\n",
       "\n",
       "    .dataframe thead th {\n",
       "        text-align: right;\n",
       "    }\n",
       "</style>\n",
       "<table border=\"1\" class=\"dataframe\">\n",
       "  <thead>\n",
       "    <tr style=\"text-align: right;\">\n",
       "      <th></th>\n",
       "      <th>A</th>\n",
       "      <th>B</th>\n",
       "      <th>C</th>\n",
       "      <th>D</th>\n",
       "    </tr>\n",
       "  </thead>\n",
       "  <tbody>\n",
       "    <tr>\n",
       "      <th>0</th>\n",
       "      <td>foo</td>\n",
       "      <td>one</td>\n",
       "      <td>0.329455</td>\n",
       "      <td>-0.907480</td>\n",
       "    </tr>\n",
       "    <tr>\n",
       "      <th>1</th>\n",
       "      <td>bar</td>\n",
       "      <td>one</td>\n",
       "      <td>0.345516</td>\n",
       "      <td>-0.024211</td>\n",
       "    </tr>\n",
       "    <tr>\n",
       "      <th>2</th>\n",
       "      <td>foo</td>\n",
       "      <td>two</td>\n",
       "      <td>-0.399073</td>\n",
       "      <td>-0.325896</td>\n",
       "    </tr>\n",
       "    <tr>\n",
       "      <th>3</th>\n",
       "      <td>bar</td>\n",
       "      <td>three</td>\n",
       "      <td>-0.066323</td>\n",
       "      <td>0.110604</td>\n",
       "    </tr>\n",
       "    <tr>\n",
       "      <th>4</th>\n",
       "      <td>foo</td>\n",
       "      <td>two</td>\n",
       "      <td>-0.449223</td>\n",
       "      <td>-0.528341</td>\n",
       "    </tr>\n",
       "    <tr>\n",
       "      <th>5</th>\n",
       "      <td>bar</td>\n",
       "      <td>two</td>\n",
       "      <td>-0.936228</td>\n",
       "      <td>1.062892</td>\n",
       "    </tr>\n",
       "    <tr>\n",
       "      <th>6</th>\n",
       "      <td>foo</td>\n",
       "      <td>one</td>\n",
       "      <td>0.833170</td>\n",
       "      <td>0.192583</td>\n",
       "    </tr>\n",
       "    <tr>\n",
       "      <th>7</th>\n",
       "      <td>foo</td>\n",
       "      <td>three</td>\n",
       "      <td>-0.635460</td>\n",
       "      <td>0.437250</td>\n",
       "    </tr>\n",
       "  </tbody>\n",
       "</table>\n",
       "</div>"
      ],
      "text/plain": [
       "     A      B         C         D\n",
       "0  foo    one  0.329455 -0.907480\n",
       "1  bar    one  0.345516 -0.024211\n",
       "2  foo    two -0.399073 -0.325896\n",
       "3  bar  three -0.066323  0.110604\n",
       "4  foo    two -0.449223 -0.528341\n",
       "5  bar    two -0.936228  1.062892\n",
       "6  foo    one  0.833170  0.192583\n",
       "7  foo  three -0.635460  0.437250"
      ]
     },
     "execution_count": 82,
     "metadata": {},
     "output_type": "execute_result"
    }
   ],
   "source": [
    "df = pd.DataFrame(\n",
    "   ....:     {\n",
    "   ....:         \"A\": [\"foo\", \"bar\", \"foo\", \"bar\", \"foo\", \"bar\", \"foo\", \"foo\"],\n",
    "   ....:         \"B\": [\"one\", \"one\", \"two\", \"three\", \"two\", \"two\", \"one\", \"three\"],\n",
    "   ....:         \"C\": np.random.randn(8),\n",
    "   ....:         \"D\": np.random.randn(8),\n",
    "   ....:     }\n",
    "   ....: )\n",
    "df"
   ]
  },
  {
   "cell_type": "code",
   "execution_count": 83,
   "id": "south-solution",
   "metadata": {},
   "outputs": [
    {
     "data": {
      "text/html": [
       "<div>\n",
       "<style scoped>\n",
       "    .dataframe tbody tr th:only-of-type {\n",
       "        vertical-align: middle;\n",
       "    }\n",
       "\n",
       "    .dataframe tbody tr th {\n",
       "        vertical-align: top;\n",
       "    }\n",
       "\n",
       "    .dataframe thead th {\n",
       "        text-align: right;\n",
       "    }\n",
       "</style>\n",
       "<table border=\"1\" class=\"dataframe\">\n",
       "  <thead>\n",
       "    <tr style=\"text-align: right;\">\n",
       "      <th></th>\n",
       "      <th>C</th>\n",
       "      <th>D</th>\n",
       "    </tr>\n",
       "    <tr>\n",
       "      <th>A</th>\n",
       "      <th></th>\n",
       "      <th></th>\n",
       "    </tr>\n",
       "  </thead>\n",
       "  <tbody>\n",
       "    <tr>\n",
       "      <th>bar</th>\n",
       "      <td>-0.657034</td>\n",
       "      <td>1.149285</td>\n",
       "    </tr>\n",
       "    <tr>\n",
       "      <th>foo</th>\n",
       "      <td>-0.321131</td>\n",
       "      <td>-1.131885</td>\n",
       "    </tr>\n",
       "  </tbody>\n",
       "</table>\n",
       "</div>"
      ],
      "text/plain": [
       "            C         D\n",
       "A                      \n",
       "bar -0.657034  1.149285\n",
       "foo -0.321131 -1.131885"
      ]
     },
     "execution_count": 83,
     "metadata": {},
     "output_type": "execute_result"
    }
   ],
   "source": [
    "df.groupby(\"A\").sum()"
   ]
  },
  {
   "cell_type": "code",
   "execution_count": 84,
   "id": "julian-thailand",
   "metadata": {},
   "outputs": [
    {
     "data": {
      "text/html": [
       "<div>\n",
       "<style scoped>\n",
       "    .dataframe tbody tr th:only-of-type {\n",
       "        vertical-align: middle;\n",
       "    }\n",
       "\n",
       "    .dataframe tbody tr th {\n",
       "        vertical-align: top;\n",
       "    }\n",
       "\n",
       "    .dataframe thead th {\n",
       "        text-align: right;\n",
       "    }\n",
       "</style>\n",
       "<table border=\"1\" class=\"dataframe\">\n",
       "  <thead>\n",
       "    <tr style=\"text-align: right;\">\n",
       "      <th></th>\n",
       "      <th></th>\n",
       "      <th>C</th>\n",
       "      <th>D</th>\n",
       "    </tr>\n",
       "    <tr>\n",
       "      <th>A</th>\n",
       "      <th>B</th>\n",
       "      <th></th>\n",
       "      <th></th>\n",
       "    </tr>\n",
       "  </thead>\n",
       "  <tbody>\n",
       "    <tr>\n",
       "      <th rowspan=\"3\" valign=\"top\">bar</th>\n",
       "      <th>one</th>\n",
       "      <td>0.345516</td>\n",
       "      <td>-0.024211</td>\n",
       "    </tr>\n",
       "    <tr>\n",
       "      <th>three</th>\n",
       "      <td>-0.066323</td>\n",
       "      <td>0.110604</td>\n",
       "    </tr>\n",
       "    <tr>\n",
       "      <th>two</th>\n",
       "      <td>-0.936228</td>\n",
       "      <td>1.062892</td>\n",
       "    </tr>\n",
       "    <tr>\n",
       "      <th rowspan=\"3\" valign=\"top\">foo</th>\n",
       "      <th>one</th>\n",
       "      <td>1.162626</td>\n",
       "      <td>-0.714898</td>\n",
       "    </tr>\n",
       "    <tr>\n",
       "      <th>three</th>\n",
       "      <td>-0.635460</td>\n",
       "      <td>0.437250</td>\n",
       "    </tr>\n",
       "    <tr>\n",
       "      <th>two</th>\n",
       "      <td>-0.848297</td>\n",
       "      <td>-0.854237</td>\n",
       "    </tr>\n",
       "  </tbody>\n",
       "</table>\n",
       "</div>"
      ],
      "text/plain": [
       "                  C         D\n",
       "A   B                        \n",
       "bar one    0.345516 -0.024211\n",
       "    three -0.066323  0.110604\n",
       "    two   -0.936228  1.062892\n",
       "foo one    1.162626 -0.714898\n",
       "    three -0.635460  0.437250\n",
       "    two   -0.848297 -0.854237"
      ]
     },
     "execution_count": 84,
     "metadata": {},
     "output_type": "execute_result"
    }
   ],
   "source": [
    "df.groupby([\"A\",\"B\"]).sum()"
   ]
  },
  {
   "cell_type": "markdown",
   "id": "connected-framework",
   "metadata": {},
   "source": [
    "Reshaping - Stacking\n",
    "The stack() method “compresses” a level in the DataFrame’s columns."
   ]
  },
  {
   "cell_type": "markdown",
   "id": "nonprofit-ghost",
   "metadata": {},
   "source": [
    "Not related to pandas but in python the zip() function returns a zip object, which is an iterator of tuples where the first item in each passed iterator is paired together, and then the second item in each passed iterator are paired together etc.\n",
    "\n",
    "If the passed iterators have different lengths, the iterator with the least items decides the length of the new iterator."
   ]
  },
  {
   "cell_type": "code",
   "execution_count": 87,
   "id": "fifty-owner",
   "metadata": {},
   "outputs": [
    {
     "data": {
      "text/plain": [
       "[('bar', 'one'),\n",
       " ('bar', 'two'),\n",
       " ('baz', 'one'),\n",
       " ('baz', 'two'),\n",
       " ('foo', 'one'),\n",
       " ('foo', 'two'),\n",
       " ('qux', 'one'),\n",
       " ('qux', 'two')]"
      ]
     },
     "execution_count": 87,
     "metadata": {},
     "output_type": "execute_result"
    }
   ],
   "source": [
    "tuples = list(\n",
    "   ....:     zip(\n",
    "   ....:         *[\n",
    "   ....:             [\"bar\", \"bar\", \"baz\", \"baz\", \"foo\", \"foo\", \"qux\", \"qux\"],\n",
    "   ....:             [\"one\", \"two\", \"one\", \"two\", \"one\", \"two\", \"one\", \"two\"],\n",
    "   ....:         ]\n",
    "   ....:     )\n",
    "   ....: )\n",
    "tuples"
   ]
  },
  {
   "cell_type": "code",
   "execution_count": 88,
   "id": "structured-brooklyn",
   "metadata": {},
   "outputs": [
    {
     "data": {
      "text/plain": [
       "MultiIndex([('bar', 'one'),\n",
       "            ('bar', 'two'),\n",
       "            ('baz', 'one'),\n",
       "            ('baz', 'two'),\n",
       "            ('foo', 'one'),\n",
       "            ('foo', 'two'),\n",
       "            ('qux', 'one'),\n",
       "            ('qux', 'two')],\n",
       "           names=['first', 'second'])"
      ]
     },
     "execution_count": 88,
     "metadata": {},
     "output_type": "execute_result"
    }
   ],
   "source": [
    "index = pd.MultiIndex.from_tuples(tuples, names=[\"first\", \"second\"])\n",
    "index"
   ]
  },
  {
   "cell_type": "code",
   "execution_count": 90,
   "id": "colored-cement",
   "metadata": {},
   "outputs": [
    {
     "data": {
      "text/html": [
       "<div>\n",
       "<style scoped>\n",
       "    .dataframe tbody tr th:only-of-type {\n",
       "        vertical-align: middle;\n",
       "    }\n",
       "\n",
       "    .dataframe tbody tr th {\n",
       "        vertical-align: top;\n",
       "    }\n",
       "\n",
       "    .dataframe thead th {\n",
       "        text-align: right;\n",
       "    }\n",
       "</style>\n",
       "<table border=\"1\" class=\"dataframe\">\n",
       "  <thead>\n",
       "    <tr style=\"text-align: right;\">\n",
       "      <th></th>\n",
       "      <th></th>\n",
       "      <th>A</th>\n",
       "      <th>B</th>\n",
       "    </tr>\n",
       "    <tr>\n",
       "      <th>first</th>\n",
       "      <th>second</th>\n",
       "      <th></th>\n",
       "      <th></th>\n",
       "    </tr>\n",
       "  </thead>\n",
       "  <tbody>\n",
       "    <tr>\n",
       "      <th rowspan=\"2\" valign=\"top\">bar</th>\n",
       "      <th>one</th>\n",
       "      <td>0.322111</td>\n",
       "      <td>-0.071399</td>\n",
       "    </tr>\n",
       "    <tr>\n",
       "      <th>two</th>\n",
       "      <td>1.018823</td>\n",
       "      <td>0.467834</td>\n",
       "    </tr>\n",
       "    <tr>\n",
       "      <th rowspan=\"2\" valign=\"top\">baz</th>\n",
       "      <th>one</th>\n",
       "      <td>-0.189305</td>\n",
       "      <td>-1.385195</td>\n",
       "    </tr>\n",
       "    <tr>\n",
       "      <th>two</th>\n",
       "      <td>-0.527841</td>\n",
       "      <td>0.131758</td>\n",
       "    </tr>\n",
       "    <tr>\n",
       "      <th rowspan=\"2\" valign=\"top\">foo</th>\n",
       "      <th>one</th>\n",
       "      <td>-0.030399</td>\n",
       "      <td>0.928344</td>\n",
       "    </tr>\n",
       "    <tr>\n",
       "      <th>two</th>\n",
       "      <td>0.243422</td>\n",
       "      <td>-0.996022</td>\n",
       "    </tr>\n",
       "    <tr>\n",
       "      <th rowspan=\"2\" valign=\"top\">qux</th>\n",
       "      <th>one</th>\n",
       "      <td>-0.778513</td>\n",
       "      <td>0.493537</td>\n",
       "    </tr>\n",
       "    <tr>\n",
       "      <th>two</th>\n",
       "      <td>-0.554267</td>\n",
       "      <td>0.631438</td>\n",
       "    </tr>\n",
       "  </tbody>\n",
       "</table>\n",
       "</div>"
      ],
      "text/plain": [
       "                     A         B\n",
       "first second                    \n",
       "bar   one     0.322111 -0.071399\n",
       "      two     1.018823  0.467834\n",
       "baz   one    -0.189305 -1.385195\n",
       "      two    -0.527841  0.131758\n",
       "foo   one    -0.030399  0.928344\n",
       "      two     0.243422 -0.996022\n",
       "qux   one    -0.778513  0.493537\n",
       "      two    -0.554267  0.631438"
      ]
     },
     "execution_count": 90,
     "metadata": {},
     "output_type": "execute_result"
    }
   ],
   "source": [
    "df = pd.DataFrame(np.random.randn(8, 2), index=index, columns=[\"A\", \"B\"])\n",
    "df"
   ]
  },
  {
   "cell_type": "code",
   "execution_count": 91,
   "id": "threatened-transsexual",
   "metadata": {},
   "outputs": [
    {
     "data": {
      "text/html": [
       "<div>\n",
       "<style scoped>\n",
       "    .dataframe tbody tr th:only-of-type {\n",
       "        vertical-align: middle;\n",
       "    }\n",
       "\n",
       "    .dataframe tbody tr th {\n",
       "        vertical-align: top;\n",
       "    }\n",
       "\n",
       "    .dataframe thead th {\n",
       "        text-align: right;\n",
       "    }\n",
       "</style>\n",
       "<table border=\"1\" class=\"dataframe\">\n",
       "  <thead>\n",
       "    <tr style=\"text-align: right;\">\n",
       "      <th></th>\n",
       "      <th></th>\n",
       "      <th>A</th>\n",
       "      <th>B</th>\n",
       "    </tr>\n",
       "    <tr>\n",
       "      <th>first</th>\n",
       "      <th>second</th>\n",
       "      <th></th>\n",
       "      <th></th>\n",
       "    </tr>\n",
       "  </thead>\n",
       "  <tbody>\n",
       "    <tr>\n",
       "      <th rowspan=\"2\" valign=\"top\">bar</th>\n",
       "      <th>one</th>\n",
       "      <td>0.322111</td>\n",
       "      <td>-0.071399</td>\n",
       "    </tr>\n",
       "    <tr>\n",
       "      <th>two</th>\n",
       "      <td>1.018823</td>\n",
       "      <td>0.467834</td>\n",
       "    </tr>\n",
       "    <tr>\n",
       "      <th rowspan=\"2\" valign=\"top\">baz</th>\n",
       "      <th>one</th>\n",
       "      <td>-0.189305</td>\n",
       "      <td>-1.385195</td>\n",
       "    </tr>\n",
       "    <tr>\n",
       "      <th>two</th>\n",
       "      <td>-0.527841</td>\n",
       "      <td>0.131758</td>\n",
       "    </tr>\n",
       "  </tbody>\n",
       "</table>\n",
       "</div>"
      ],
      "text/plain": [
       "                     A         B\n",
       "first second                    \n",
       "bar   one     0.322111 -0.071399\n",
       "      two     1.018823  0.467834\n",
       "baz   one    -0.189305 -1.385195\n",
       "      two    -0.527841  0.131758"
      ]
     },
     "execution_count": 91,
     "metadata": {},
     "output_type": "execute_result"
    }
   ],
   "source": [
    "df2 = df[:4]\n",
    "df2"
   ]
  },
  {
   "cell_type": "code",
   "execution_count": 92,
   "id": "august-movement",
   "metadata": {},
   "outputs": [
    {
     "data": {
      "text/plain": [
       "first  second   \n",
       "bar    one     A    0.322111\n",
       "               B   -0.071399\n",
       "       two     A    1.018823\n",
       "               B    0.467834\n",
       "baz    one     A   -0.189305\n",
       "               B   -1.385195\n",
       "       two     A   -0.527841\n",
       "               B    0.131758\n",
       "dtype: float64"
      ]
     },
     "execution_count": 92,
     "metadata": {},
     "output_type": "execute_result"
    }
   ],
   "source": [
    "stacked = df2.stack()\n",
    "stacked"
   ]
  },
  {
   "cell_type": "code",
   "execution_count": 93,
   "id": "seven-rescue",
   "metadata": {},
   "outputs": [
    {
     "data": {
      "text/html": [
       "<div>\n",
       "<style scoped>\n",
       "    .dataframe tbody tr th:only-of-type {\n",
       "        vertical-align: middle;\n",
       "    }\n",
       "\n",
       "    .dataframe tbody tr th {\n",
       "        vertical-align: top;\n",
       "    }\n",
       "\n",
       "    .dataframe thead th {\n",
       "        text-align: right;\n",
       "    }\n",
       "</style>\n",
       "<table border=\"1\" class=\"dataframe\">\n",
       "  <thead>\n",
       "    <tr style=\"text-align: right;\">\n",
       "      <th></th>\n",
       "      <th></th>\n",
       "      <th>A</th>\n",
       "      <th>B</th>\n",
       "    </tr>\n",
       "    <tr>\n",
       "      <th>first</th>\n",
       "      <th>second</th>\n",
       "      <th></th>\n",
       "      <th></th>\n",
       "    </tr>\n",
       "  </thead>\n",
       "  <tbody>\n",
       "    <tr>\n",
       "      <th rowspan=\"2\" valign=\"top\">bar</th>\n",
       "      <th>one</th>\n",
       "      <td>0.322111</td>\n",
       "      <td>-0.071399</td>\n",
       "    </tr>\n",
       "    <tr>\n",
       "      <th>two</th>\n",
       "      <td>1.018823</td>\n",
       "      <td>0.467834</td>\n",
       "    </tr>\n",
       "    <tr>\n",
       "      <th rowspan=\"2\" valign=\"top\">baz</th>\n",
       "      <th>one</th>\n",
       "      <td>-0.189305</td>\n",
       "      <td>-1.385195</td>\n",
       "    </tr>\n",
       "    <tr>\n",
       "      <th>two</th>\n",
       "      <td>-0.527841</td>\n",
       "      <td>0.131758</td>\n",
       "    </tr>\n",
       "  </tbody>\n",
       "</table>\n",
       "</div>"
      ],
      "text/plain": [
       "                     A         B\n",
       "first second                    \n",
       "bar   one     0.322111 -0.071399\n",
       "      two     1.018823  0.467834\n",
       "baz   one    -0.189305 -1.385195\n",
       "      two    -0.527841  0.131758"
      ]
     },
     "execution_count": 93,
     "metadata": {},
     "output_type": "execute_result"
    }
   ],
   "source": [
    "stacked.unstack()"
   ]
  },
  {
   "cell_type": "code",
   "execution_count": 94,
   "id": "clinical-sleep",
   "metadata": {},
   "outputs": [
    {
     "data": {
      "text/html": [
       "<div>\n",
       "<style scoped>\n",
       "    .dataframe tbody tr th:only-of-type {\n",
       "        vertical-align: middle;\n",
       "    }\n",
       "\n",
       "    .dataframe tbody tr th {\n",
       "        vertical-align: top;\n",
       "    }\n",
       "\n",
       "    .dataframe thead th {\n",
       "        text-align: right;\n",
       "    }\n",
       "</style>\n",
       "<table border=\"1\" class=\"dataframe\">\n",
       "  <thead>\n",
       "    <tr style=\"text-align: right;\">\n",
       "      <th></th>\n",
       "      <th>second</th>\n",
       "      <th>one</th>\n",
       "      <th>two</th>\n",
       "    </tr>\n",
       "    <tr>\n",
       "      <th>first</th>\n",
       "      <th></th>\n",
       "      <th></th>\n",
       "      <th></th>\n",
       "    </tr>\n",
       "  </thead>\n",
       "  <tbody>\n",
       "    <tr>\n",
       "      <th rowspan=\"2\" valign=\"top\">bar</th>\n",
       "      <th>A</th>\n",
       "      <td>0.322111</td>\n",
       "      <td>1.018823</td>\n",
       "    </tr>\n",
       "    <tr>\n",
       "      <th>B</th>\n",
       "      <td>-0.071399</td>\n",
       "      <td>0.467834</td>\n",
       "    </tr>\n",
       "    <tr>\n",
       "      <th rowspan=\"2\" valign=\"top\">baz</th>\n",
       "      <th>A</th>\n",
       "      <td>-0.189305</td>\n",
       "      <td>-0.527841</td>\n",
       "    </tr>\n",
       "    <tr>\n",
       "      <th>B</th>\n",
       "      <td>-1.385195</td>\n",
       "      <td>0.131758</td>\n",
       "    </tr>\n",
       "  </tbody>\n",
       "</table>\n",
       "</div>"
      ],
      "text/plain": [
       "second        one       two\n",
       "first                      \n",
       "bar   A  0.322111  1.018823\n",
       "      B -0.071399  0.467834\n",
       "baz   A -0.189305 -0.527841\n",
       "      B -1.385195  0.131758"
      ]
     },
     "execution_count": 94,
     "metadata": {},
     "output_type": "execute_result"
    }
   ],
   "source": [
    "stacked.unstack(1)"
   ]
  },
  {
   "cell_type": "code",
   "execution_count": 95,
   "id": "advance-reverse",
   "metadata": {},
   "outputs": [
    {
     "data": {
      "text/html": [
       "<div>\n",
       "<style scoped>\n",
       "    .dataframe tbody tr th:only-of-type {\n",
       "        vertical-align: middle;\n",
       "    }\n",
       "\n",
       "    .dataframe tbody tr th {\n",
       "        vertical-align: top;\n",
       "    }\n",
       "\n",
       "    .dataframe thead th {\n",
       "        text-align: right;\n",
       "    }\n",
       "</style>\n",
       "<table border=\"1\" class=\"dataframe\">\n",
       "  <thead>\n",
       "    <tr style=\"text-align: right;\">\n",
       "      <th></th>\n",
       "      <th>first</th>\n",
       "      <th>bar</th>\n",
       "      <th>baz</th>\n",
       "    </tr>\n",
       "    <tr>\n",
       "      <th>second</th>\n",
       "      <th></th>\n",
       "      <th></th>\n",
       "      <th></th>\n",
       "    </tr>\n",
       "  </thead>\n",
       "  <tbody>\n",
       "    <tr>\n",
       "      <th rowspan=\"2\" valign=\"top\">one</th>\n",
       "      <th>A</th>\n",
       "      <td>0.322111</td>\n",
       "      <td>-0.189305</td>\n",
       "    </tr>\n",
       "    <tr>\n",
       "      <th>B</th>\n",
       "      <td>-0.071399</td>\n",
       "      <td>-1.385195</td>\n",
       "    </tr>\n",
       "    <tr>\n",
       "      <th rowspan=\"2\" valign=\"top\">two</th>\n",
       "      <th>A</th>\n",
       "      <td>1.018823</td>\n",
       "      <td>-0.527841</td>\n",
       "    </tr>\n",
       "    <tr>\n",
       "      <th>B</th>\n",
       "      <td>0.467834</td>\n",
       "      <td>0.131758</td>\n",
       "    </tr>\n",
       "  </tbody>\n",
       "</table>\n",
       "</div>"
      ],
      "text/plain": [
       "first          bar       baz\n",
       "second                      \n",
       "one    A  0.322111 -0.189305\n",
       "       B -0.071399 -1.385195\n",
       "two    A  1.018823 -0.527841\n",
       "       B  0.467834  0.131758"
      ]
     },
     "execution_count": 95,
     "metadata": {},
     "output_type": "execute_result"
    }
   ],
   "source": [
    "stacked.unstack(0)"
   ]
  },
  {
   "cell_type": "code",
   "execution_count": 96,
   "id": "married-humanity",
   "metadata": {},
   "outputs": [
    {
     "data": {
      "text/html": [
       "<div>\n",
       "<style scoped>\n",
       "    .dataframe tbody tr th:only-of-type {\n",
       "        vertical-align: middle;\n",
       "    }\n",
       "\n",
       "    .dataframe tbody tr th {\n",
       "        vertical-align: top;\n",
       "    }\n",
       "\n",
       "    .dataframe thead th {\n",
       "        text-align: right;\n",
       "    }\n",
       "</style>\n",
       "<table border=\"1\" class=\"dataframe\">\n",
       "  <thead>\n",
       "    <tr style=\"text-align: right;\">\n",
       "      <th></th>\n",
       "      <th>A</th>\n",
       "      <th>B</th>\n",
       "      <th>C</th>\n",
       "      <th>D</th>\n",
       "      <th>E</th>\n",
       "    </tr>\n",
       "  </thead>\n",
       "  <tbody>\n",
       "    <tr>\n",
       "      <th>0</th>\n",
       "      <td>one</td>\n",
       "      <td>A</td>\n",
       "      <td>foo</td>\n",
       "      <td>-0.586301</td>\n",
       "      <td>-0.226364</td>\n",
       "    </tr>\n",
       "    <tr>\n",
       "      <th>1</th>\n",
       "      <td>one</td>\n",
       "      <td>B</td>\n",
       "      <td>foo</td>\n",
       "      <td>1.164230</td>\n",
       "      <td>1.967406</td>\n",
       "    </tr>\n",
       "    <tr>\n",
       "      <th>2</th>\n",
       "      <td>two</td>\n",
       "      <td>C</td>\n",
       "      <td>foo</td>\n",
       "      <td>0.210354</td>\n",
       "      <td>-0.807892</td>\n",
       "    </tr>\n",
       "    <tr>\n",
       "      <th>3</th>\n",
       "      <td>three</td>\n",
       "      <td>A</td>\n",
       "      <td>bar</td>\n",
       "      <td>2.261337</td>\n",
       "      <td>0.499265</td>\n",
       "    </tr>\n",
       "    <tr>\n",
       "      <th>4</th>\n",
       "      <td>one</td>\n",
       "      <td>B</td>\n",
       "      <td>bar</td>\n",
       "      <td>0.592503</td>\n",
       "      <td>-0.678119</td>\n",
       "    </tr>\n",
       "    <tr>\n",
       "      <th>5</th>\n",
       "      <td>one</td>\n",
       "      <td>C</td>\n",
       "      <td>bar</td>\n",
       "      <td>1.192501</td>\n",
       "      <td>-0.074851</td>\n",
       "    </tr>\n",
       "    <tr>\n",
       "      <th>6</th>\n",
       "      <td>two</td>\n",
       "      <td>A</td>\n",
       "      <td>foo</td>\n",
       "      <td>0.102377</td>\n",
       "      <td>-1.235345</td>\n",
       "    </tr>\n",
       "    <tr>\n",
       "      <th>7</th>\n",
       "      <td>three</td>\n",
       "      <td>B</td>\n",
       "      <td>foo</td>\n",
       "      <td>-0.969350</td>\n",
       "      <td>0.935010</td>\n",
       "    </tr>\n",
       "    <tr>\n",
       "      <th>8</th>\n",
       "      <td>one</td>\n",
       "      <td>C</td>\n",
       "      <td>foo</td>\n",
       "      <td>-0.630032</td>\n",
       "      <td>0.797984</td>\n",
       "    </tr>\n",
       "    <tr>\n",
       "      <th>9</th>\n",
       "      <td>one</td>\n",
       "      <td>A</td>\n",
       "      <td>bar</td>\n",
       "      <td>0.835611</td>\n",
       "      <td>-0.076527</td>\n",
       "    </tr>\n",
       "    <tr>\n",
       "      <th>10</th>\n",
       "      <td>two</td>\n",
       "      <td>B</td>\n",
       "      <td>bar</td>\n",
       "      <td>1.554706</td>\n",
       "      <td>-1.037760</td>\n",
       "    </tr>\n",
       "    <tr>\n",
       "      <th>11</th>\n",
       "      <td>three</td>\n",
       "      <td>C</td>\n",
       "      <td>bar</td>\n",
       "      <td>-0.145812</td>\n",
       "      <td>-0.571586</td>\n",
       "    </tr>\n",
       "  </tbody>\n",
       "</table>\n",
       "</div>"
      ],
      "text/plain": [
       "        A  B    C         D         E\n",
       "0     one  A  foo -0.586301 -0.226364\n",
       "1     one  B  foo  1.164230  1.967406\n",
       "2     two  C  foo  0.210354 -0.807892\n",
       "3   three  A  bar  2.261337  0.499265\n",
       "4     one  B  bar  0.592503 -0.678119\n",
       "5     one  C  bar  1.192501 -0.074851\n",
       "6     two  A  foo  0.102377 -1.235345\n",
       "7   three  B  foo -0.969350  0.935010\n",
       "8     one  C  foo -0.630032  0.797984\n",
       "9     one  A  bar  0.835611 -0.076527\n",
       "10    two  B  bar  1.554706 -1.037760\n",
       "11  three  C  bar -0.145812 -0.571586"
      ]
     },
     "execution_count": 96,
     "metadata": {},
     "output_type": "execute_result"
    }
   ],
   "source": [
    "df = pd.DataFrame(\n",
    "   .....:     {\n",
    "   .....:         \"A\": [\"one\", \"one\", \"two\", \"three\"] * 3,\n",
    "   .....:         \"B\": [\"A\", \"B\", \"C\"] * 4,\n",
    "   .....:         \"C\": [\"foo\", \"foo\", \"foo\", \"bar\", \"bar\", \"bar\"] * 2,\n",
    "   .....:         \"D\": np.random.randn(12),\n",
    "   .....:         \"E\": np.random.randn(12),\n",
    "   .....:     }\n",
    "   .....: )\n",
    "df"
   ]
  },
  {
   "cell_type": "markdown",
   "id": "latter-school",
   "metadata": {},
   "source": [
    "Pivot Tables can be produced from this data"
   ]
  },
  {
   "cell_type": "code",
   "execution_count": 97,
   "id": "jewish-facial",
   "metadata": {},
   "outputs": [
    {
     "data": {
      "text/html": [
       "<div>\n",
       "<style scoped>\n",
       "    .dataframe tbody tr th:only-of-type {\n",
       "        vertical-align: middle;\n",
       "    }\n",
       "\n",
       "    .dataframe tbody tr th {\n",
       "        vertical-align: top;\n",
       "    }\n",
       "\n",
       "    .dataframe thead th {\n",
       "        text-align: right;\n",
       "    }\n",
       "</style>\n",
       "<table border=\"1\" class=\"dataframe\">\n",
       "  <thead>\n",
       "    <tr style=\"text-align: right;\">\n",
       "      <th></th>\n",
       "      <th>C</th>\n",
       "      <th>bar</th>\n",
       "      <th>foo</th>\n",
       "    </tr>\n",
       "    <tr>\n",
       "      <th>A</th>\n",
       "      <th>B</th>\n",
       "      <th></th>\n",
       "      <th></th>\n",
       "    </tr>\n",
       "  </thead>\n",
       "  <tbody>\n",
       "    <tr>\n",
       "      <th rowspan=\"3\" valign=\"top\">one</th>\n",
       "      <th>A</th>\n",
       "      <td>0.835611</td>\n",
       "      <td>-0.586301</td>\n",
       "    </tr>\n",
       "    <tr>\n",
       "      <th>B</th>\n",
       "      <td>0.592503</td>\n",
       "      <td>1.164230</td>\n",
       "    </tr>\n",
       "    <tr>\n",
       "      <th>C</th>\n",
       "      <td>1.192501</td>\n",
       "      <td>-0.630032</td>\n",
       "    </tr>\n",
       "    <tr>\n",
       "      <th rowspan=\"3\" valign=\"top\">three</th>\n",
       "      <th>A</th>\n",
       "      <td>2.261337</td>\n",
       "      <td>NaN</td>\n",
       "    </tr>\n",
       "    <tr>\n",
       "      <th>B</th>\n",
       "      <td>NaN</td>\n",
       "      <td>-0.969350</td>\n",
       "    </tr>\n",
       "    <tr>\n",
       "      <th>C</th>\n",
       "      <td>-0.145812</td>\n",
       "      <td>NaN</td>\n",
       "    </tr>\n",
       "    <tr>\n",
       "      <th rowspan=\"3\" valign=\"top\">two</th>\n",
       "      <th>A</th>\n",
       "      <td>NaN</td>\n",
       "      <td>0.102377</td>\n",
       "    </tr>\n",
       "    <tr>\n",
       "      <th>B</th>\n",
       "      <td>1.554706</td>\n",
       "      <td>NaN</td>\n",
       "    </tr>\n",
       "    <tr>\n",
       "      <th>C</th>\n",
       "      <td>NaN</td>\n",
       "      <td>0.210354</td>\n",
       "    </tr>\n",
       "  </tbody>\n",
       "</table>\n",
       "</div>"
      ],
      "text/plain": [
       "C             bar       foo\n",
       "A     B                    \n",
       "one   A  0.835611 -0.586301\n",
       "      B  0.592503  1.164230\n",
       "      C  1.192501 -0.630032\n",
       "three A  2.261337       NaN\n",
       "      B       NaN -0.969350\n",
       "      C -0.145812       NaN\n",
       "two   A       NaN  0.102377\n",
       "      B  1.554706       NaN\n",
       "      C       NaN  0.210354"
      ]
     },
     "execution_count": 97,
     "metadata": {},
     "output_type": "execute_result"
    }
   ],
   "source": [
    "pd.pivot_table(df, values=\"D\", index=[\"A\", \"B\"], columns=[\"C\"])"
   ]
  },
  {
   "cell_type": "markdown",
   "id": "forty-meter",
   "metadata": {},
   "source": [
    "Time Series data\n",
    "Pandas has simple, powerful, and efficient functionality for performing resampling operations during frequency conversion (e.g., converting secondly data into 5-minutely data). This is extremely common in, but not limited to, financial applications"
   ]
  },
  {
   "cell_type": "code",
   "execution_count": 99,
   "id": "experienced-divide",
   "metadata": {},
   "outputs": [
    {
     "data": {
      "text/plain": [
       "DatetimeIndex(['2012-01-01 00:00:00', '2012-01-01 00:00:01',\n",
       "               '2012-01-01 00:00:02', '2012-01-01 00:00:03',\n",
       "               '2012-01-01 00:00:04', '2012-01-01 00:00:05',\n",
       "               '2012-01-01 00:00:06', '2012-01-01 00:00:07',\n",
       "               '2012-01-01 00:00:08', '2012-01-01 00:00:09',\n",
       "               '2012-01-01 00:00:10', '2012-01-01 00:00:11',\n",
       "               '2012-01-01 00:00:12', '2012-01-01 00:00:13',\n",
       "               '2012-01-01 00:00:14', '2012-01-01 00:00:15',\n",
       "               '2012-01-01 00:00:16', '2012-01-01 00:00:17',\n",
       "               '2012-01-01 00:00:18', '2012-01-01 00:00:19',\n",
       "               '2012-01-01 00:00:20', '2012-01-01 00:00:21',\n",
       "               '2012-01-01 00:00:22', '2012-01-01 00:00:23',\n",
       "               '2012-01-01 00:00:24', '2012-01-01 00:00:25',\n",
       "               '2012-01-01 00:00:26', '2012-01-01 00:00:27',\n",
       "               '2012-01-01 00:00:28', '2012-01-01 00:00:29',\n",
       "               '2012-01-01 00:00:30', '2012-01-01 00:00:31',\n",
       "               '2012-01-01 00:00:32', '2012-01-01 00:00:33',\n",
       "               '2012-01-01 00:00:34', '2012-01-01 00:00:35',\n",
       "               '2012-01-01 00:00:36', '2012-01-01 00:00:37',\n",
       "               '2012-01-01 00:00:38', '2012-01-01 00:00:39',\n",
       "               '2012-01-01 00:00:40', '2012-01-01 00:00:41',\n",
       "               '2012-01-01 00:00:42', '2012-01-01 00:00:43',\n",
       "               '2012-01-01 00:00:44', '2012-01-01 00:00:45',\n",
       "               '2012-01-01 00:00:46', '2012-01-01 00:00:47',\n",
       "               '2012-01-01 00:00:48', '2012-01-01 00:00:49',\n",
       "               '2012-01-01 00:00:50', '2012-01-01 00:00:51',\n",
       "               '2012-01-01 00:00:52', '2012-01-01 00:00:53',\n",
       "               '2012-01-01 00:00:54', '2012-01-01 00:00:55',\n",
       "               '2012-01-01 00:00:56', '2012-01-01 00:00:57',\n",
       "               '2012-01-01 00:00:58', '2012-01-01 00:00:59',\n",
       "               '2012-01-01 00:01:00', '2012-01-01 00:01:01',\n",
       "               '2012-01-01 00:01:02', '2012-01-01 00:01:03',\n",
       "               '2012-01-01 00:01:04', '2012-01-01 00:01:05',\n",
       "               '2012-01-01 00:01:06', '2012-01-01 00:01:07',\n",
       "               '2012-01-01 00:01:08', '2012-01-01 00:01:09',\n",
       "               '2012-01-01 00:01:10', '2012-01-01 00:01:11',\n",
       "               '2012-01-01 00:01:12', '2012-01-01 00:01:13',\n",
       "               '2012-01-01 00:01:14', '2012-01-01 00:01:15',\n",
       "               '2012-01-01 00:01:16', '2012-01-01 00:01:17',\n",
       "               '2012-01-01 00:01:18', '2012-01-01 00:01:19',\n",
       "               '2012-01-01 00:01:20', '2012-01-01 00:01:21',\n",
       "               '2012-01-01 00:01:22', '2012-01-01 00:01:23',\n",
       "               '2012-01-01 00:01:24', '2012-01-01 00:01:25',\n",
       "               '2012-01-01 00:01:26', '2012-01-01 00:01:27',\n",
       "               '2012-01-01 00:01:28', '2012-01-01 00:01:29',\n",
       "               '2012-01-01 00:01:30', '2012-01-01 00:01:31',\n",
       "               '2012-01-01 00:01:32', '2012-01-01 00:01:33',\n",
       "               '2012-01-01 00:01:34', '2012-01-01 00:01:35',\n",
       "               '2012-01-01 00:01:36', '2012-01-01 00:01:37',\n",
       "               '2012-01-01 00:01:38', '2012-01-01 00:01:39'],\n",
       "              dtype='datetime64[ns]', freq='S')"
      ]
     },
     "execution_count": 99,
     "metadata": {},
     "output_type": "execute_result"
    }
   ],
   "source": [
    "rng = pd.date_range(\"1/1/2012\", periods=100, freq=\"S\")\n",
    "rng"
   ]
  },
  {
   "cell_type": "code",
   "execution_count": 100,
   "id": "stylish-level",
   "metadata": {},
   "outputs": [
    {
     "data": {
      "text/plain": [
       "2012-01-01 00:00:00    422\n",
       "2012-01-01 00:00:01    152\n",
       "2012-01-01 00:00:02    300\n",
       "2012-01-01 00:00:03     57\n",
       "2012-01-01 00:00:04     66\n",
       "                      ... \n",
       "2012-01-01 00:01:35    202\n",
       "2012-01-01 00:01:36     95\n",
       "2012-01-01 00:01:37    453\n",
       "2012-01-01 00:01:38    141\n",
       "2012-01-01 00:01:39    133\n",
       "Freq: S, Length: 100, dtype: int64"
      ]
     },
     "execution_count": 100,
     "metadata": {},
     "output_type": "execute_result"
    }
   ],
   "source": [
    "ts = pd.Series(np.random.randint(0, 500, len(rng)), index=rng)\n",
    "ts"
   ]
  },
  {
   "cell_type": "code",
   "execution_count": 101,
   "id": "exempt-scholar",
   "metadata": {},
   "outputs": [
    {
     "data": {
      "text/plain": [
       "2012-01-01    22533\n",
       "Freq: 5T, dtype: int64"
      ]
     },
     "execution_count": 101,
     "metadata": {},
     "output_type": "execute_result"
    }
   ],
   "source": [
    "ts.resample(\"5Min\").sum()"
   ]
  },
  {
   "cell_type": "markdown",
   "id": "bronze-poverty",
   "metadata": {},
   "source": [
    "Plotting\n",
    "Plot the data using matplotlib"
   ]
  },
  {
   "cell_type": "code",
   "execution_count": 103,
   "id": "specified-associate",
   "metadata": {},
   "outputs": [
    {
     "name": "stderr",
     "output_type": "stream",
     "text": [
      "Matplotlib is building the font cache; this may take a moment.\n"
     ]
    }
   ],
   "source": [
    "import matplotlib.pyplot as plt\n",
    "plt.close(\"all\")"
   ]
  },
  {
   "cell_type": "code",
   "execution_count": 104,
   "id": "breeding-climb",
   "metadata": {},
   "outputs": [
    {
     "data": {
      "text/plain": [
       "<AxesSubplot:>"
      ]
     },
     "execution_count": 104,
     "metadata": {},
     "output_type": "execute_result"
    },
    {
     "data": {
      "image/png": "[encoded data removed]",
      "text/plain": [
       "<Figure size 432x288 with 1 Axes>"
      ]
     },
     "metadata": {
      "needs_background": "light"
     },
     "output_type": "display_data"
    }
   ],
   "source": [
    "ts = pd.Series(np.random.randn(1000), index=pd.date_range(\"1/1/2000\", periods=1000))\n",
    "ts = ts.cumsum()\n",
    "ts.plot()"
   ]
  },
  {
   "cell_type": "markdown",
   "id": "honest-thumbnail",
   "metadata": {},
   "source": [
    "Reading and writing from files can be done using the methods()\n",
    "df.to_csv(\"foo.csv\")\n",
    "and \n",
    "pd.read_csv(\"foo.csv\")"
   ]
  },
  {
   "cell_type": "code",
   "execution_count": null,
   "id": "random-performance",
   "metadata": {},
   "outputs": [],
   "source": []
  }
 ],
 "metadata": {
  "kernelspec": {
   "display_name": "Python 3",
   "language": "python",
   "name": "python3"
  },
  "language_info": {
   "codemirror_mode": {
    "name": "ipython",
    "version": 3
   },
   "file_extension": ".py",
   "mimetype": "text/x-python",
   "name": "python",
   "nbconvert_exporter": "python",
   "pygments_lexer": "ipython3",
   "version": "3.8.5"
  }
 },
 "nbformat": 4,
 "nbformat_minor": 5
}
