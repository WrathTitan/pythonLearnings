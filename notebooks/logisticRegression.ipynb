{
 "cells": [
  {
   "cell_type": "markdown",
   "id": "26d66538-8708-434e-a2ad-348554c8df73",
   "metadata": {},
   "source": [
    "# Logistic Regression"
   ]
  },
  {
   "cell_type": "code",
   "execution_count": 1,
   "id": "8bd7263e-7ba0-44c4-b90c-500d92a9cfb2",
   "metadata": {},
   "outputs": [],
   "source": [
    "import numpy as np\n",
    "import pandas as pd\n",
    "import matplotlib.pyplot as plt\n",
    "import seaborn as sns\n",
    "import sklearn\n",
    "from sklearn.linear_model import LogisticRegression\n",
    "from sklearn.model_selection import train_test_split\n",
    "from sklearn import metrics"
   ]
  },
  {
   "cell_type": "code",
   "execution_count": 2,
   "id": "83f149d1-57a5-4bdb-b814-a19c1c91aa2f",
   "metadata": {},
   "outputs": [
    {
     "data": {
      "text/html": [
       "<div>\n",
       "<style scoped>\n",
       "    .dataframe tbody tr th:only-of-type {\n",
       "        vertical-align: middle;\n",
       "    }\n",
       "\n",
       "    .dataframe tbody tr th {\n",
       "        vertical-align: top;\n",
       "    }\n",
       "\n",
       "    .dataframe thead th {\n",
       "        text-align: right;\n",
       "    }\n",
       "</style>\n",
       "<table border=\"1\" class=\"dataframe\">\n",
       "  <thead>\n",
       "    <tr style=\"text-align: right;\">\n",
       "      <th></th>\n",
       "      <th>RI</th>\n",
       "      <th>Na</th>\n",
       "      <th>Mg</th>\n",
       "      <th>Al</th>\n",
       "      <th>Si</th>\n",
       "      <th>K</th>\n",
       "      <th>Ca</th>\n",
       "      <th>Ba</th>\n",
       "      <th>Fe</th>\n",
       "      <th>Type</th>\n",
       "    </tr>\n",
       "  </thead>\n",
       "  <tbody>\n",
       "    <tr>\n",
       "      <th>0</th>\n",
       "      <td>1.52101</td>\n",
       "      <td>13.64</td>\n",
       "      <td>4.49</td>\n",
       "      <td>1.10</td>\n",
       "      <td>71.78</td>\n",
       "      <td>0.06</td>\n",
       "      <td>8.75</td>\n",
       "      <td>0.0</td>\n",
       "      <td>0.0</td>\n",
       "      <td>1</td>\n",
       "    </tr>\n",
       "    <tr>\n",
       "      <th>1</th>\n",
       "      <td>1.51761</td>\n",
       "      <td>13.89</td>\n",
       "      <td>3.60</td>\n",
       "      <td>1.36</td>\n",
       "      <td>72.73</td>\n",
       "      <td>0.48</td>\n",
       "      <td>7.83</td>\n",
       "      <td>0.0</td>\n",
       "      <td>0.0</td>\n",
       "      <td>1</td>\n",
       "    </tr>\n",
       "    <tr>\n",
       "      <th>2</th>\n",
       "      <td>1.51618</td>\n",
       "      <td>13.53</td>\n",
       "      <td>3.55</td>\n",
       "      <td>1.54</td>\n",
       "      <td>72.99</td>\n",
       "      <td>0.39</td>\n",
       "      <td>7.78</td>\n",
       "      <td>0.0</td>\n",
       "      <td>0.0</td>\n",
       "      <td>1</td>\n",
       "    </tr>\n",
       "    <tr>\n",
       "      <th>3</th>\n",
       "      <td>1.51766</td>\n",
       "      <td>13.21</td>\n",
       "      <td>3.69</td>\n",
       "      <td>1.29</td>\n",
       "      <td>72.61</td>\n",
       "      <td>0.57</td>\n",
       "      <td>8.22</td>\n",
       "      <td>0.0</td>\n",
       "      <td>0.0</td>\n",
       "      <td>1</td>\n",
       "    </tr>\n",
       "    <tr>\n",
       "      <th>4</th>\n",
       "      <td>1.51742</td>\n",
       "      <td>13.27</td>\n",
       "      <td>3.62</td>\n",
       "      <td>1.24</td>\n",
       "      <td>73.08</td>\n",
       "      <td>0.55</td>\n",
       "      <td>8.07</td>\n",
       "      <td>0.0</td>\n",
       "      <td>0.0</td>\n",
       "      <td>1</td>\n",
       "    </tr>\n",
       "  </tbody>\n",
       "</table>\n",
       "</div>"
      ],
      "text/plain": [
       "        RI     Na    Mg    Al     Si     K    Ca   Ba   Fe  Type\n",
       "0  1.52101  13.64  4.49  1.10  71.78  0.06  8.75  0.0  0.0     1\n",
       "1  1.51761  13.89  3.60  1.36  72.73  0.48  7.83  0.0  0.0     1\n",
       "2  1.51618  13.53  3.55  1.54  72.99  0.39  7.78  0.0  0.0     1\n",
       "3  1.51766  13.21  3.69  1.29  72.61  0.57  8.22  0.0  0.0     1\n",
       "4  1.51742  13.27  3.62  1.24  73.08  0.55  8.07  0.0  0.0     1"
      ]
     },
     "execution_count": 2,
     "metadata": {},
     "output_type": "execute_result"
    }
   ],
   "source": [
    "mycsvfile=pd.read_csv('glass.csv')\n",
    "mycsvfile.head()"
   ]
  },
  {
   "cell_type": "code",
   "execution_count": 3,
   "id": "84c88b89-c7f8-4d39-824c-8c0aee217636",
   "metadata": {},
   "outputs": [
    {
     "name": "stdout",
     "output_type": "stream",
     "text": [
      "<class 'pandas.core.frame.DataFrame'>\n",
      "RangeIndex: 214 entries, 0 to 213\n",
      "Data columns (total 10 columns):\n",
      " #   Column  Non-Null Count  Dtype  \n",
      "---  ------  --------------  -----  \n",
      " 0   RI      214 non-null    float64\n",
      " 1   Na      214 non-null    float64\n",
      " 2   Mg      214 non-null    float64\n",
      " 3   Al      214 non-null    float64\n",
      " 4   Si      214 non-null    float64\n",
      " 5   K       214 non-null    float64\n",
      " 6   Ca      214 non-null    float64\n",
      " 7   Ba      214 non-null    float64\n",
      " 8   Fe      214 non-null    float64\n",
      " 9   Type    214 non-null    int64  \n",
      "dtypes: float64(9), int64(1)\n",
      "memory usage: 16.8 KB\n"
     ]
    }
   ],
   "source": [
    "mycsvfile.info()"
   ]
  },
  {
   "cell_type": "code",
   "execution_count": 4,
   "id": "244e1633-9051-419d-913f-4c5d28ed2865",
   "metadata": {},
   "outputs": [
    {
     "data": {
      "text/html": [
       "<div>\n",
       "<style scoped>\n",
       "    .dataframe tbody tr th:only-of-type {\n",
       "        vertical-align: middle;\n",
       "    }\n",
       "\n",
       "    .dataframe tbody tr th {\n",
       "        vertical-align: top;\n",
       "    }\n",
       "\n",
       "    .dataframe thead th {\n",
       "        text-align: right;\n",
       "    }\n",
       "</style>\n",
       "<table border=\"1\" class=\"dataframe\">\n",
       "  <thead>\n",
       "    <tr style=\"text-align: right;\">\n",
       "      <th></th>\n",
       "      <th>RI</th>\n",
       "      <th>Na</th>\n",
       "      <th>Mg</th>\n",
       "      <th>Al</th>\n",
       "      <th>Si</th>\n",
       "      <th>K</th>\n",
       "      <th>Ca</th>\n",
       "      <th>Ba</th>\n",
       "      <th>Fe</th>\n",
       "    </tr>\n",
       "  </thead>\n",
       "  <tbody>\n",
       "    <tr>\n",
       "      <th>0</th>\n",
       "      <td>1.52101</td>\n",
       "      <td>13.64</td>\n",
       "      <td>4.49</td>\n",
       "      <td>1.10</td>\n",
       "      <td>71.78</td>\n",
       "      <td>0.06</td>\n",
       "      <td>8.75</td>\n",
       "      <td>0.00</td>\n",
       "      <td>0.0</td>\n",
       "    </tr>\n",
       "    <tr>\n",
       "      <th>1</th>\n",
       "      <td>1.51761</td>\n",
       "      <td>13.89</td>\n",
       "      <td>3.60</td>\n",
       "      <td>1.36</td>\n",
       "      <td>72.73</td>\n",
       "      <td>0.48</td>\n",
       "      <td>7.83</td>\n",
       "      <td>0.00</td>\n",
       "      <td>0.0</td>\n",
       "    </tr>\n",
       "    <tr>\n",
       "      <th>2</th>\n",
       "      <td>1.51618</td>\n",
       "      <td>13.53</td>\n",
       "      <td>3.55</td>\n",
       "      <td>1.54</td>\n",
       "      <td>72.99</td>\n",
       "      <td>0.39</td>\n",
       "      <td>7.78</td>\n",
       "      <td>0.00</td>\n",
       "      <td>0.0</td>\n",
       "    </tr>\n",
       "    <tr>\n",
       "      <th>3</th>\n",
       "      <td>1.51766</td>\n",
       "      <td>13.21</td>\n",
       "      <td>3.69</td>\n",
       "      <td>1.29</td>\n",
       "      <td>72.61</td>\n",
       "      <td>0.57</td>\n",
       "      <td>8.22</td>\n",
       "      <td>0.00</td>\n",
       "      <td>0.0</td>\n",
       "    </tr>\n",
       "    <tr>\n",
       "      <th>4</th>\n",
       "      <td>1.51742</td>\n",
       "      <td>13.27</td>\n",
       "      <td>3.62</td>\n",
       "      <td>1.24</td>\n",
       "      <td>73.08</td>\n",
       "      <td>0.55</td>\n",
       "      <td>8.07</td>\n",
       "      <td>0.00</td>\n",
       "      <td>0.0</td>\n",
       "    </tr>\n",
       "    <tr>\n",
       "      <th>...</th>\n",
       "      <td>...</td>\n",
       "      <td>...</td>\n",
       "      <td>...</td>\n",
       "      <td>...</td>\n",
       "      <td>...</td>\n",
       "      <td>...</td>\n",
       "      <td>...</td>\n",
       "      <td>...</td>\n",
       "      <td>...</td>\n",
       "    </tr>\n",
       "    <tr>\n",
       "      <th>209</th>\n",
       "      <td>1.51623</td>\n",
       "      <td>14.14</td>\n",
       "      <td>0.00</td>\n",
       "      <td>2.88</td>\n",
       "      <td>72.61</td>\n",
       "      <td>0.08</td>\n",
       "      <td>9.18</td>\n",
       "      <td>1.06</td>\n",
       "      <td>0.0</td>\n",
       "    </tr>\n",
       "    <tr>\n",
       "      <th>210</th>\n",
       "      <td>1.51685</td>\n",
       "      <td>14.92</td>\n",
       "      <td>0.00</td>\n",
       "      <td>1.99</td>\n",
       "      <td>73.06</td>\n",
       "      <td>0.00</td>\n",
       "      <td>8.40</td>\n",
       "      <td>1.59</td>\n",
       "      <td>0.0</td>\n",
       "    </tr>\n",
       "    <tr>\n",
       "      <th>211</th>\n",
       "      <td>1.52065</td>\n",
       "      <td>14.36</td>\n",
       "      <td>0.00</td>\n",
       "      <td>2.02</td>\n",
       "      <td>73.42</td>\n",
       "      <td>0.00</td>\n",
       "      <td>8.44</td>\n",
       "      <td>1.64</td>\n",
       "      <td>0.0</td>\n",
       "    </tr>\n",
       "    <tr>\n",
       "      <th>212</th>\n",
       "      <td>1.51651</td>\n",
       "      <td>14.38</td>\n",
       "      <td>0.00</td>\n",
       "      <td>1.94</td>\n",
       "      <td>73.61</td>\n",
       "      <td>0.00</td>\n",
       "      <td>8.48</td>\n",
       "      <td>1.57</td>\n",
       "      <td>0.0</td>\n",
       "    </tr>\n",
       "    <tr>\n",
       "      <th>213</th>\n",
       "      <td>1.51711</td>\n",
       "      <td>14.23</td>\n",
       "      <td>0.00</td>\n",
       "      <td>2.08</td>\n",
       "      <td>73.36</td>\n",
       "      <td>0.00</td>\n",
       "      <td>8.62</td>\n",
       "      <td>1.67</td>\n",
       "      <td>0.0</td>\n",
       "    </tr>\n",
       "  </tbody>\n",
       "</table>\n",
       "<p>214 rows × 9 columns</p>\n",
       "</div>"
      ],
      "text/plain": [
       "          RI     Na    Mg    Al     Si     K    Ca    Ba   Fe\n",
       "0    1.52101  13.64  4.49  1.10  71.78  0.06  8.75  0.00  0.0\n",
       "1    1.51761  13.89  3.60  1.36  72.73  0.48  7.83  0.00  0.0\n",
       "2    1.51618  13.53  3.55  1.54  72.99  0.39  7.78  0.00  0.0\n",
       "3    1.51766  13.21  3.69  1.29  72.61  0.57  8.22  0.00  0.0\n",
       "4    1.51742  13.27  3.62  1.24  73.08  0.55  8.07  0.00  0.0\n",
       "..       ...    ...   ...   ...    ...   ...   ...   ...  ...\n",
       "209  1.51623  14.14  0.00  2.88  72.61  0.08  9.18  1.06  0.0\n",
       "210  1.51685  14.92  0.00  1.99  73.06  0.00  8.40  1.59  0.0\n",
       "211  1.52065  14.36  0.00  2.02  73.42  0.00  8.44  1.64  0.0\n",
       "212  1.51651  14.38  0.00  1.94  73.61  0.00  8.48  1.57  0.0\n",
       "213  1.51711  14.23  0.00  2.08  73.36  0.00  8.62  1.67  0.0\n",
       "\n",
       "[214 rows x 9 columns]"
      ]
     },
     "execution_count": 4,
     "metadata": {},
     "output_type": "execute_result"
    }
   ],
   "source": [
    "X=mycsvfile[[\"RI\",\"Na\",\"Mg\",\"Al\",\"Si\",\"K\",\"Ca\",\"Ba\",\"Fe\"]]\n",
    "X"
   ]
  },
  {
   "cell_type": "code",
   "execution_count": 5,
   "id": "7baa9990-f9d7-48ff-9981-eee2ca143086",
   "metadata": {},
   "outputs": [
    {
     "data": {
      "text/plain": [
       "0      1\n",
       "1      1\n",
       "2      1\n",
       "3      1\n",
       "4      1\n",
       "      ..\n",
       "209    7\n",
       "210    7\n",
       "211    7\n",
       "212    7\n",
       "213    7\n",
       "Name: Type, Length: 214, dtype: int64"
      ]
     },
     "execution_count": 5,
     "metadata": {},
     "output_type": "execute_result"
    }
   ],
   "source": [
    "Y=mycsvfile[\"Type\"]\n",
    "Y"
   ]
  },
  {
   "cell_type": "code",
   "execution_count": 6,
   "id": "0a6177b3-bc04-4eea-aad3-bbf8013c4aa5",
   "metadata": {},
   "outputs": [],
   "source": [
    "X_train,X_test,Y_train,Y_test=train_test_split(X,Y,test_size=0.4,random_state=1)"
   ]
  },
  {
   "cell_type": "code",
   "execution_count": 47,
   "id": "a22cf5be-eb66-49fd-8123-7fa2dbe37dfa",
   "metadata": {},
   "outputs": [
    {
     "data": {
      "text/html": [
       "<div>\n",
       "<style scoped>\n",
       "    .dataframe tbody tr th:only-of-type {\n",
       "        vertical-align: middle;\n",
       "    }\n",
       "\n",
       "    .dataframe tbody tr th {\n",
       "        vertical-align: top;\n",
       "    }\n",
       "\n",
       "    .dataframe thead th {\n",
       "        text-align: right;\n",
       "    }\n",
       "</style>\n",
       "<table border=\"1\" class=\"dataframe\">\n",
       "  <thead>\n",
       "    <tr style=\"text-align: right;\">\n",
       "      <th></th>\n",
       "      <th>RI</th>\n",
       "      <th>Na</th>\n",
       "      <th>Mg</th>\n",
       "      <th>Al</th>\n",
       "      <th>Si</th>\n",
       "      <th>K</th>\n",
       "      <th>Ca</th>\n",
       "      <th>Ba</th>\n",
       "      <th>Fe</th>\n",
       "    </tr>\n",
       "  </thead>\n",
       "  <tbody>\n",
       "    <tr>\n",
       "      <th>108</th>\n",
       "      <td>1.52222</td>\n",
       "      <td>14.43</td>\n",
       "      <td>0.00</td>\n",
       "      <td>1.00</td>\n",
       "      <td>72.67</td>\n",
       "      <td>0.10</td>\n",
       "      <td>11.52</td>\n",
       "      <td>0.00</td>\n",
       "      <td>0.08</td>\n",
       "    </tr>\n",
       "    <tr>\n",
       "      <th>206</th>\n",
       "      <td>1.51645</td>\n",
       "      <td>14.94</td>\n",
       "      <td>0.00</td>\n",
       "      <td>1.87</td>\n",
       "      <td>73.11</td>\n",
       "      <td>0.00</td>\n",
       "      <td>8.67</td>\n",
       "      <td>1.38</td>\n",
       "      <td>0.00</td>\n",
       "    </tr>\n",
       "    <tr>\n",
       "      <th>106</th>\n",
       "      <td>1.53125</td>\n",
       "      <td>10.73</td>\n",
       "      <td>0.00</td>\n",
       "      <td>2.10</td>\n",
       "      <td>69.81</td>\n",
       "      <td>0.58</td>\n",
       "      <td>13.30</td>\n",
       "      <td>3.15</td>\n",
       "      <td>0.28</td>\n",
       "    </tr>\n",
       "    <tr>\n",
       "      <th>107</th>\n",
       "      <td>1.53393</td>\n",
       "      <td>12.30</td>\n",
       "      <td>0.00</td>\n",
       "      <td>1.00</td>\n",
       "      <td>70.16</td>\n",
       "      <td>0.12</td>\n",
       "      <td>16.19</td>\n",
       "      <td>0.00</td>\n",
       "      <td>0.24</td>\n",
       "    </tr>\n",
       "    <tr>\n",
       "      <th>51</th>\n",
       "      <td>1.51926</td>\n",
       "      <td>13.20</td>\n",
       "      <td>3.33</td>\n",
       "      <td>1.28</td>\n",
       "      <td>72.36</td>\n",
       "      <td>0.60</td>\n",
       "      <td>9.14</td>\n",
       "      <td>0.00</td>\n",
       "      <td>0.11</td>\n",
       "    </tr>\n",
       "    <tr>\n",
       "      <th>...</th>\n",
       "      <td>...</td>\n",
       "      <td>...</td>\n",
       "      <td>...</td>\n",
       "      <td>...</td>\n",
       "      <td>...</td>\n",
       "      <td>...</td>\n",
       "      <td>...</td>\n",
       "      <td>...</td>\n",
       "      <td>...</td>\n",
       "    </tr>\n",
       "    <tr>\n",
       "      <th>48</th>\n",
       "      <td>1.52223</td>\n",
       "      <td>13.21</td>\n",
       "      <td>3.77</td>\n",
       "      <td>0.79</td>\n",
       "      <td>71.99</td>\n",
       "      <td>0.13</td>\n",
       "      <td>10.02</td>\n",
       "      <td>0.00</td>\n",
       "      <td>0.00</td>\n",
       "    </tr>\n",
       "    <tr>\n",
       "      <th>172</th>\n",
       "      <td>1.51321</td>\n",
       "      <td>13.00</td>\n",
       "      <td>0.00</td>\n",
       "      <td>3.02</td>\n",
       "      <td>70.70</td>\n",
       "      <td>6.21</td>\n",
       "      <td>6.93</td>\n",
       "      <td>0.00</td>\n",
       "      <td>0.00</td>\n",
       "    </tr>\n",
       "    <tr>\n",
       "      <th>66</th>\n",
       "      <td>1.52152</td>\n",
       "      <td>13.05</td>\n",
       "      <td>3.65</td>\n",
       "      <td>0.87</td>\n",
       "      <td>72.22</td>\n",
       "      <td>0.19</td>\n",
       "      <td>9.85</td>\n",
       "      <td>0.00</td>\n",
       "      <td>0.17</td>\n",
       "    </tr>\n",
       "    <tr>\n",
       "      <th>197</th>\n",
       "      <td>1.51727</td>\n",
       "      <td>14.70</td>\n",
       "      <td>0.00</td>\n",
       "      <td>2.34</td>\n",
       "      <td>73.28</td>\n",
       "      <td>0.00</td>\n",
       "      <td>8.95</td>\n",
       "      <td>0.66</td>\n",
       "      <td>0.00</td>\n",
       "    </tr>\n",
       "    <tr>\n",
       "      <th>89</th>\n",
       "      <td>1.51640</td>\n",
       "      <td>12.55</td>\n",
       "      <td>3.48</td>\n",
       "      <td>1.87</td>\n",
       "      <td>73.23</td>\n",
       "      <td>0.63</td>\n",
       "      <td>8.08</td>\n",
       "      <td>0.00</td>\n",
       "      <td>0.09</td>\n",
       "    </tr>\n",
       "  </tbody>\n",
       "</table>\n",
       "<p>86 rows × 9 columns</p>\n",
       "</div>"
      ],
      "text/plain": [
       "          RI     Na    Mg    Al     Si     K     Ca    Ba    Fe\n",
       "108  1.52222  14.43  0.00  1.00  72.67  0.10  11.52  0.00  0.08\n",
       "206  1.51645  14.94  0.00  1.87  73.11  0.00   8.67  1.38  0.00\n",
       "106  1.53125  10.73  0.00  2.10  69.81  0.58  13.30  3.15  0.28\n",
       "107  1.53393  12.30  0.00  1.00  70.16  0.12  16.19  0.00  0.24\n",
       "51   1.51926  13.20  3.33  1.28  72.36  0.60   9.14  0.00  0.11\n",
       "..       ...    ...   ...   ...    ...   ...    ...   ...   ...\n",
       "48   1.52223  13.21  3.77  0.79  71.99  0.13  10.02  0.00  0.00\n",
       "172  1.51321  13.00  0.00  3.02  70.70  6.21   6.93  0.00  0.00\n",
       "66   1.52152  13.05  3.65  0.87  72.22  0.19   9.85  0.00  0.17\n",
       "197  1.51727  14.70  0.00  2.34  73.28  0.00   8.95  0.66  0.00\n",
       "89   1.51640  12.55  3.48  1.87  73.23  0.63   8.08  0.00  0.09\n",
       "\n",
       "[86 rows x 9 columns]"
      ]
     },
     "execution_count": 47,
     "metadata": {},
     "output_type": "execute_result"
    }
   ],
   "source": [
    "X_test"
   ]
  },
  {
   "cell_type": "code",
   "execution_count": 8,
   "id": "0cd41a6d-0958-4dd2-89ed-fc5c93597417",
   "metadata": {},
   "outputs": [
    {
     "data": {
      "text/plain": [
       "108    2\n",
       "206    7\n",
       "106    2\n",
       "107    2\n",
       "51     1\n",
       "      ..\n",
       "48     1\n",
       "172    5\n",
       "66     1\n",
       "197    7\n",
       "89     2\n",
       "Name: Type, Length: 86, dtype: int64"
      ]
     },
     "execution_count": 8,
     "metadata": {},
     "output_type": "execute_result"
    }
   ],
   "source": [
    "Y_test"
   ]
  },
  {
   "cell_type": "code",
   "execution_count": 9,
   "id": "5eb8942b-c5f2-421c-a09a-a785f9ee69a3",
   "metadata": {},
   "outputs": [],
   "source": [
    "def sigmoid(z):\n",
    "    return 1/(1+np.exp(-z))"
   ]
  },
  {
   "cell_type": "code",
   "execution_count": 10,
   "id": "68c1fdbc-09cd-4566-b56c-a1ceead86afa",
   "metadata": {},
   "outputs": [],
   "source": [
    "def predict(features,weights):\n",
    "    z=np.dot(features,weights)\n",
    "    a=sigmoid(z)\n",
    "    return a"
   ]
  },
  {
   "cell_type": "code",
   "execution_count": 11,
   "id": "ff2261d0-595a-4e14-83a6-93decb652889",
   "metadata": {},
   "outputs": [],
   "source": [
    "def costfunction(features,labels,weights):\n",
    "    observations=len(labels)\n",
    "    predictions=predict(features,weights)\n",
    "    class1_cost=-labels*np.log(predictions)\n",
    "    class2_cost=(1-labels)*np.log(1-predictions)\n",
    "    cost=class1_cost-class2_cost\n",
    "    cost=cost.sum()/observations\n",
    "    return cost"
   ]
  },
  {
   "cell_type": "code",
   "execution_count": 12,
   "id": "23748ab0-92fa-457c-bcad-ebfd9a68faa8",
   "metadata": {},
   "outputs": [],
   "source": [
    "def updateweights(features,labels,weights,learningrate):\n",
    "    N=len(features)\n",
    "    predictions=predict(features,weights)\n",
    "    gradient=np.dot(features.T,predictions-labels)\n",
    "    gradient/=N\n",
    "    graient*=learningrate\n",
    "    weights-=gradient\n",
    "    return weights"
   ]
  },
  {
   "cell_type": "code",
   "execution_count": 13,
   "id": "f8e079c7-1131-4e2c-a718-05fa6e1a3034",
   "metadata": {},
   "outputs": [],
   "source": [
    "def decisionboundary(probability):\n",
    "    if probability>=0.5:\n",
    "        return 1\n",
    "    else:\n",
    "        return 0"
   ]
  },
  {
   "cell_type": "code",
   "execution_count": 14,
   "id": "dafa8cfa-2aac-4c7c-85f3-f14563b183e9",
   "metadata": {},
   "outputs": [],
   "source": [
    "def classify(predictions):\n",
    "    decisionboundary=np.vectorise(decisionboundary)\n",
    "    return decisionboundary(predictions).flatten()"
   ]
  },
  {
   "cell_type": "code",
   "execution_count": 15,
   "id": "c9e1e720-0109-4490-a2f2-97f277d32c1e",
   "metadata": {},
   "outputs": [],
   "source": [
    "def train(features,labels,weights,learningrate,iterations):\n",
    "    costhistory=[]\n",
    "    for i in range(iterations):\n",
    "        weights=updateweights(features,labels,weights,learningrate)\n",
    "        cost=costfunction(features,labels,weights)\n",
    "        costhistory.append(cost)\n",
    "        \n",
    "        if i%1000==0:\n",
    "            print(\"Iteration: \"+str(i)+\" Cost: \"+str(cost))  \n",
    "    return weights,costhistory"
   ]
  },
  {
   "cell_type": "code",
   "execution_count": 16,
   "id": "528b907c-c41e-4cd2-8c73-befc891b25f6",
   "metadata": {},
   "outputs": [],
   "source": [
    "def accuracy(predictedlabels,actuallabels):\n",
    "    difference=predictedlabels-actuallabels\n",
    "    return 1-float((np.count_nonzero(diff))/len(difference))"
   ]
  },
  {
   "cell_type": "code",
   "execution_count": 17,
   "id": "0910e82e-fc2a-421a-8a69-7ea00960d95b",
   "metadata": {},
   "outputs": [],
   "source": [
    "def plotdecisionboundary(trues,falses):\n",
    "    fig=plt.figure()\n",
    "    ax=fig.subplot(111)\n",
    "    noofpredictions=len(trues)+len(falses)\n",
    "    ax.scatter([i for i in range(len(trues))],trues,s=25,c='b',marker=\"o\",label='Trues')\n",
    "    ax.scatter([i for i in range(len(falses))],falses,s=25,c='r',marker=\"s\",label='Falses')\n",
    "    plt.legend(loc=\"upper right\")\n",
    "    ax.set_title(\"Decision boundary\")\n",
    "    ax.set_xlabel(\"N/2\")\n",
    "    ax.set_ylabel(\"Predicted Probability\")\n",
    "    plt.axhline(0.5,color=\"black\")\n",
    "    plt.show()"
   ]
  },
  {
   "cell_type": "markdown",
   "id": "f37278a1-972e-4847-a68f-c3a0b62f37e2",
   "metadata": {},
   "source": [
    "### Scikit learn example"
   ]
  },
  {
   "cell_type": "code",
   "execution_count": 18,
   "id": "b6f09cb7-06f0-43bf-9928-23d5e9ca270f",
   "metadata": {},
   "outputs": [
    {
     "name": "stdout",
     "output_type": "stream",
     "text": [
      "Logistic Regression model accuracy(in %): 63.95348837209303\n"
     ]
    }
   ],
   "source": [
    "myclassifier=LogisticRegression(max_iter=1000)\n",
    "myclassifier.fit(X_train,Y_train)\n",
    "Y_pred=myclassifier.predict(X_test)\n",
    "print(\"Logistic Regression model accuracy(in %):\", metrics.accuracy_score(Y_test, Y_pred)*100)"
   ]
  },
  {
   "cell_type": "markdown",
   "id": "7a495793-6fa3-4c6e-96c9-57619223792d",
   "metadata": {},
   "source": [
    "#### Model Importance\n",
    "Feature importance refers to a class of techniques for assigning scores to input features to a predictive model that indicates the relative importance of each feature when making a prediction."
   ]
  },
  {
   "cell_type": "code",
   "execution_count": 45,
   "id": "eacc017f-5229-4ce1-a885-3860d54d7ded",
   "metadata": {},
   "outputs": [
    {
     "name": "stdout",
     "output_type": "stream",
     "text": [
      "Feature: 0, Score: -0.01520\n",
      "Feature: 1, Score: -0.43241\n",
      "Feature: 2, Score: 1.19249\n",
      "Feature: 3, Score: -1.60139\n",
      "Feature: 4, Score: 0.05899\n",
      "Feature: 5, Score: -0.03283\n",
      "Feature: 6, Score: 0.17520\n",
      "Feature: 7, Score: 0.24119\n",
      "Feature: 8, Score: -0.16576\n"
     ]
    },
    {
     "data": {
      "image/png": "[encoded data removed]",
      "text/plain": [
       "<Figure size 432x288 with 1 Axes>"
      ]
     },
     "metadata": {
      "needs_background": "light"
     },
     "output_type": "display_data"
    }
   ],
   "source": [
    "model_importance=myclassifier.coef_[0]\n",
    "model_importance\n",
    "for i,v in enumerate(model_importance):\n",
    "    print('Feature: %0d, Score: %.5f' % (i,v))\n",
    "    \n",
    "plt.bar([x for x in range(len(model_importance))], model_importance)\n",
    "plt.show()"
   ]
  },
  {
   "cell_type": "code",
   "execution_count": 19,
   "id": "b00e15ac-958b-42cb-b605-c91b5af04185",
   "metadata": {},
   "outputs": [
    {
     "data": {
      "text/html": [
       "<div>\n",
       "<style scoped>\n",
       "    .dataframe tbody tr th:only-of-type {\n",
       "        vertical-align: middle;\n",
       "    }\n",
       "\n",
       "    .dataframe tbody tr th {\n",
       "        vertical-align: top;\n",
       "    }\n",
       "\n",
       "    .dataframe thead th {\n",
       "        text-align: right;\n",
       "    }\n",
       "</style>\n",
       "<table border=\"1\" class=\"dataframe\">\n",
       "  <thead>\n",
       "    <tr style=\"text-align: right;\">\n",
       "      <th></th>\n",
       "      <th>RI</th>\n",
       "      <th>Na</th>\n",
       "      <th>Mg</th>\n",
       "      <th>Al</th>\n",
       "      <th>Si</th>\n",
       "      <th>K</th>\n",
       "      <th>Ca</th>\n",
       "      <th>Ba</th>\n",
       "      <th>Fe</th>\n",
       "    </tr>\n",
       "  </thead>\n",
       "  <tbody>\n",
       "    <tr>\n",
       "      <th>54</th>\n",
       "      <td>1.51778</td>\n",
       "      <td>13.21</td>\n",
       "      <td>2.81</td>\n",
       "      <td>1.29</td>\n",
       "      <td>72.98</td>\n",
       "      <td>0.51</td>\n",
       "      <td>9.02</td>\n",
       "      <td>0.00</td>\n",
       "      <td>0.09</td>\n",
       "    </tr>\n",
       "    <tr>\n",
       "      <th>102</th>\n",
       "      <td>1.51820</td>\n",
       "      <td>12.62</td>\n",
       "      <td>2.76</td>\n",
       "      <td>0.83</td>\n",
       "      <td>73.81</td>\n",
       "      <td>0.35</td>\n",
       "      <td>9.42</td>\n",
       "      <td>0.00</td>\n",
       "      <td>0.20</td>\n",
       "    </tr>\n",
       "    <tr>\n",
       "      <th>124</th>\n",
       "      <td>1.52177</td>\n",
       "      <td>13.20</td>\n",
       "      <td>3.68</td>\n",
       "      <td>1.15</td>\n",
       "      <td>72.75</td>\n",
       "      <td>0.54</td>\n",
       "      <td>8.52</td>\n",
       "      <td>0.00</td>\n",
       "      <td>0.00</td>\n",
       "    </tr>\n",
       "    <tr>\n",
       "      <th>105</th>\n",
       "      <td>1.52475</td>\n",
       "      <td>11.45</td>\n",
       "      <td>0.00</td>\n",
       "      <td>1.88</td>\n",
       "      <td>72.19</td>\n",
       "      <td>0.81</td>\n",
       "      <td>13.24</td>\n",
       "      <td>0.00</td>\n",
       "      <td>0.34</td>\n",
       "    </tr>\n",
       "    <tr>\n",
       "      <th>98</th>\n",
       "      <td>1.51689</td>\n",
       "      <td>12.67</td>\n",
       "      <td>2.88</td>\n",
       "      <td>1.71</td>\n",
       "      <td>73.21</td>\n",
       "      <td>0.73</td>\n",
       "      <td>8.54</td>\n",
       "      <td>0.00</td>\n",
       "      <td>0.00</td>\n",
       "    </tr>\n",
       "    <tr>\n",
       "      <th>...</th>\n",
       "      <td>...</td>\n",
       "      <td>...</td>\n",
       "      <td>...</td>\n",
       "      <td>...</td>\n",
       "      <td>...</td>\n",
       "      <td>...</td>\n",
       "      <td>...</td>\n",
       "      <td>...</td>\n",
       "      <td>...</td>\n",
       "    </tr>\n",
       "    <tr>\n",
       "      <th>203</th>\n",
       "      <td>1.51658</td>\n",
       "      <td>14.80</td>\n",
       "      <td>0.00</td>\n",
       "      <td>1.99</td>\n",
       "      <td>73.11</td>\n",
       "      <td>0.00</td>\n",
       "      <td>8.28</td>\n",
       "      <td>1.71</td>\n",
       "      <td>0.00</td>\n",
       "    </tr>\n",
       "    <tr>\n",
       "      <th>137</th>\n",
       "      <td>1.51711</td>\n",
       "      <td>12.89</td>\n",
       "      <td>3.62</td>\n",
       "      <td>1.57</td>\n",
       "      <td>72.96</td>\n",
       "      <td>0.61</td>\n",
       "      <td>8.11</td>\n",
       "      <td>0.00</td>\n",
       "      <td>0.00</td>\n",
       "    </tr>\n",
       "    <tr>\n",
       "      <th>72</th>\n",
       "      <td>1.51593</td>\n",
       "      <td>13.09</td>\n",
       "      <td>3.59</td>\n",
       "      <td>1.52</td>\n",
       "      <td>73.10</td>\n",
       "      <td>0.67</td>\n",
       "      <td>7.83</td>\n",
       "      <td>0.00</td>\n",
       "      <td>0.00</td>\n",
       "    </tr>\n",
       "    <tr>\n",
       "      <th>140</th>\n",
       "      <td>1.51690</td>\n",
       "      <td>13.33</td>\n",
       "      <td>3.54</td>\n",
       "      <td>1.61</td>\n",
       "      <td>72.54</td>\n",
       "      <td>0.68</td>\n",
       "      <td>8.11</td>\n",
       "      <td>0.00</td>\n",
       "      <td>0.00</td>\n",
       "    </tr>\n",
       "    <tr>\n",
       "      <th>37</th>\n",
       "      <td>1.51797</td>\n",
       "      <td>12.74</td>\n",
       "      <td>3.48</td>\n",
       "      <td>1.35</td>\n",
       "      <td>72.96</td>\n",
       "      <td>0.64</td>\n",
       "      <td>8.68</td>\n",
       "      <td>0.00</td>\n",
       "      <td>0.00</td>\n",
       "    </tr>\n",
       "  </tbody>\n",
       "</table>\n",
       "<p>128 rows × 9 columns</p>\n",
       "</div>"
      ],
      "text/plain": [
       "          RI     Na    Mg    Al     Si     K     Ca    Ba    Fe\n",
       "54   1.51778  13.21  2.81  1.29  72.98  0.51   9.02  0.00  0.09\n",
       "102  1.51820  12.62  2.76  0.83  73.81  0.35   9.42  0.00  0.20\n",
       "124  1.52177  13.20  3.68  1.15  72.75  0.54   8.52  0.00  0.00\n",
       "105  1.52475  11.45  0.00  1.88  72.19  0.81  13.24  0.00  0.34\n",
       "98   1.51689  12.67  2.88  1.71  73.21  0.73   8.54  0.00  0.00\n",
       "..       ...    ...   ...   ...    ...   ...    ...   ...   ...\n",
       "203  1.51658  14.80  0.00  1.99  73.11  0.00   8.28  1.71  0.00\n",
       "137  1.51711  12.89  3.62  1.57  72.96  0.61   8.11  0.00  0.00\n",
       "72   1.51593  13.09  3.59  1.52  73.10  0.67   7.83  0.00  0.00\n",
       "140  1.51690  13.33  3.54  1.61  72.54  0.68   8.11  0.00  0.00\n",
       "37   1.51797  12.74  3.48  1.35  72.96  0.64   8.68  0.00  0.00\n",
       "\n",
       "[128 rows x 9 columns]"
      ]
     },
     "execution_count": 19,
     "metadata": {},
     "output_type": "execute_result"
    }
   ],
   "source": [
    "X_train"
   ]
  },
  {
   "cell_type": "code",
   "execution_count": null,
   "id": "6199d9de-1ef2-443f-84ab-4405c599178e",
   "metadata": {},
   "outputs": [],
   "source": []
  },
  {
   "cell_type": "code",
   "execution_count": 20,
   "id": "7a0d957d-6787-402b-8b1b-47e669803612",
   "metadata": {},
   "outputs": [
    {
     "data": {
      "text/plain": [
       "54     1\n",
       "102    2\n",
       "124    2\n",
       "105    2\n",
       "98     2\n",
       "      ..\n",
       "203    7\n",
       "137    2\n",
       "72     2\n",
       "140    2\n",
       "37     1\n",
       "Name: Type, Length: 128, dtype: int64"
      ]
     },
     "execution_count": 20,
     "metadata": {},
     "output_type": "execute_result"
    }
   ],
   "source": [
    "Y_train"
   ]
  },
  {
   "cell_type": "code",
   "execution_count": 21,
   "id": "753d5675-61c8-4489-9d0f-ed7991533263",
   "metadata": {},
   "outputs": [
    {
     "data": {
      "text/plain": [
       "108    2\n",
       "206    7\n",
       "106    2\n",
       "107    2\n",
       "51     1\n",
       "      ..\n",
       "48     1\n",
       "172    5\n",
       "66     1\n",
       "197    7\n",
       "89     2\n",
       "Name: Type, Length: 86, dtype: int64"
      ]
     },
     "execution_count": 21,
     "metadata": {},
     "output_type": "execute_result"
    }
   ],
   "source": [
    "Y_test"
   ]
  },
  {
   "cell_type": "code",
   "execution_count": 22,
   "id": "bf251562-872a-49f3-8987-29627630f630",
   "metadata": {},
   "outputs": [
    {
     "name": "stdout",
     "output_type": "stream",
     "text": [
      "<class 'pandas.core.frame.DataFrame'>\n",
      "Int64Index: 86 entries, 108 to 89\n",
      "Data columns (total 9 columns):\n",
      " #   Column  Non-Null Count  Dtype  \n",
      "---  ------  --------------  -----  \n",
      " 0   RI      86 non-null     float64\n",
      " 1   Na      86 non-null     float64\n",
      " 2   Mg      86 non-null     float64\n",
      " 3   Al      86 non-null     float64\n",
      " 4   Si      86 non-null     float64\n",
      " 5   K       86 non-null     float64\n",
      " 6   Ca      86 non-null     float64\n",
      " 7   Ba      86 non-null     float64\n",
      " 8   Fe      86 non-null     float64\n",
      "dtypes: float64(9)\n",
      "memory usage: 6.7 KB\n"
     ]
    }
   ],
   "source": [
    "X_test.info()"
   ]
  },
  {
   "cell_type": "code",
   "execution_count": 23,
   "id": "9adf3d32-b3f5-4454-9d4a-3cc998f8a65e",
   "metadata": {},
   "outputs": [
    {
     "data": {
      "text/plain": [
       "86"
      ]
     },
     "execution_count": 23,
     "metadata": {},
     "output_type": "execute_result"
    }
   ],
   "source": [
    "len(X_test)"
   ]
  },
  {
   "cell_type": "code",
   "execution_count": 24,
   "id": "61e69ec2-30b9-4659-8449-c63b5f7e62ff",
   "metadata": {},
   "outputs": [
    {
     "name": "stderr",
     "output_type": "stream",
     "text": [
      "/home/rishabh/myfiles/venv/lib/python3.8/site-packages/seaborn/_decorators.py:36: FutureWarning: Pass the following variable as a keyword arg: x. From version 0.12, the only valid positional argument will be `data`, and passing other arguments without an explicit keyword will result in an error or misinterpretation.\n",
      "  warnings.warn(\n"
     ]
    },
    {
     "data": {
      "text/plain": [
       "<AxesSubplot:title={'center':'Classes Count'}, xlabel='Type', ylabel='count'>"
      ]
     },
     "execution_count": 24,
     "metadata": {},
     "output_type": "execute_result"
    },
    {
     "data": {
      "image/png": "[encoded data removed]",
      "text/plain": [
       "<Figure size 432x288 with 1 Axes>"
      ]
     },
     "metadata": {
      "needs_background": "light"
     },
     "output_type": "display_data"
    }
   ],
   "source": [
    "plt.title('Classes Count')\n",
    "sns.countplot(mycsvfile['Type'])"
   ]
  },
  {
   "cell_type": "code",
   "execution_count": 31,
   "id": "2ba39220-478c-42e4-8952-39d6b8c96a19",
   "metadata": {},
   "outputs": [
    {
     "name": "stderr",
     "output_type": "stream",
     "text": [
      "/home/rishabh/myfiles/venv/lib/python3.8/site-packages/seaborn/_decorators.py:36: FutureWarning: Pass the following variables as keyword args: x, y. From version 0.12, the only valid positional argument will be `data`, and passing other arguments without an explicit keyword will result in an error or misinterpretation.\n",
      "  warnings.warn(\n"
     ]
    },
    {
     "data": {
      "image/png": "[encoded data removed]",
      "text/plain": [
       "<Figure size 504x504 with 1 Axes>"
      ]
     },
     "metadata": {
      "needs_background": "light"
     },
     "output_type": "display_data"
    }
   ],
   "source": [
    "plt.figure(figsize=(7,7))\n",
    "plt.title('Comparison between different classes present in the dataset')\n",
    "sns.scatterplot(mycsvfile['Type'], mycsvfile['RI'], hue = mycsvfile['Type'], s= 50);"
   ]
  },
  {
   "cell_type": "code",
   "execution_count": 30,
   "id": "9ff2c6be-ad4d-4db1-9a77-1ad4df8870b6",
   "metadata": {},
   "outputs": [
    {
     "name": "stderr",
     "output_type": "stream",
     "text": [
      "/home/rishabh/myfiles/venv/lib/python3.8/site-packages/seaborn/_decorators.py:36: FutureWarning: Pass the following variables as keyword args: x, y. From version 0.12, the only valid positional argument will be `data`, and passing other arguments without an explicit keyword will result in an error or misinterpretation.\n",
      "  warnings.warn(\n"
     ]
    },
    {
     "data": {
      "image/png": "[encoded data removed]",
      "text/plain": [
       "<Figure size 504x504 with 1 Axes>"
      ]
     },
     "metadata": {
      "needs_background": "light"
     },
     "output_type": "display_data"
    }
   ],
   "source": [
    "plt.figure(figsize=(7,7))\n",
    "plt.title('Comparison between different classes present in the dataset')\n",
    "sns.scatterplot(mycsvfile['Type'], mycsvfile['Na'], hue = mycsvfile['Type'], s= 50);"
   ]
  },
  {
   "cell_type": "code",
   "execution_count": 32,
   "id": "f19cb0c6-0675-43ae-a8ac-bef8af266edd",
   "metadata": {},
   "outputs": [
    {
     "name": "stderr",
     "output_type": "stream",
     "text": [
      "/home/rishabh/myfiles/venv/lib/python3.8/site-packages/seaborn/_decorators.py:36: FutureWarning: Pass the following variables as keyword args: x, y. From version 0.12, the only valid positional argument will be `data`, and passing other arguments without an explicit keyword will result in an error or misinterpretation.\n",
      "  warnings.warn(\n"
     ]
    },
    {
     "data": {
      "image/png": "[encoded data removed]",
      "text/plain": [
       "<Figure size 504x504 with 1 Axes>"
      ]
     },
     "metadata": {
      "needs_background": "light"
     },
     "output_type": "display_data"
    }
   ],
   "source": [
    "plt.figure(figsize=(7,7))\n",
    "plt.title('Comparison between different classes present in the dataset')\n",
    "sns.scatterplot(mycsvfile['Type'], mycsvfile['Mg'], hue = mycsvfile['Type'], s= 50);"
   ]
  },
  {
   "cell_type": "code",
   "execution_count": 33,
   "id": "dd4f9598-f37e-4bca-bb42-5f1d5dcfc15d",
   "metadata": {},
   "outputs": [
    {
     "name": "stderr",
     "output_type": "stream",
     "text": [
      "/home/rishabh/myfiles/venv/lib/python3.8/site-packages/seaborn/_decorators.py:36: FutureWarning: Pass the following variables as keyword args: x, y. From version 0.12, the only valid positional argument will be `data`, and passing other arguments without an explicit keyword will result in an error or misinterpretation.\n",
      "  warnings.warn(\n"
     ]
    },
    {
     "data": {
      "image/png": "[encoded data removed]",
      "text/plain": [
       "<Figure size 504x504 with 1 Axes>"
      ]
     },
     "metadata": {
      "needs_background": "light"
     },
     "output_type": "display_data"
    }
   ],
   "source": [
    "plt.figure(figsize=(7,7))\n",
    "plt.title('Comparison between different classes present in the dataset')\n",
    "sns.scatterplot(mycsvfile['Type'], mycsvfile['Al'], hue = mycsvfile['Type'], s= 50);"
   ]
  },
  {
   "cell_type": "code",
   "execution_count": 34,
   "id": "6b6f7cee-ee7b-421d-a89d-09ac929697c1",
   "metadata": {},
   "outputs": [
    {
     "name": "stderr",
     "output_type": "stream",
     "text": [
      "/home/rishabh/myfiles/venv/lib/python3.8/site-packages/seaborn/_decorators.py:36: FutureWarning: Pass the following variables as keyword args: x, y. From version 0.12, the only valid positional argument will be `data`, and passing other arguments without an explicit keyword will result in an error or misinterpretation.\n",
      "  warnings.warn(\n"
     ]
    },
    {
     "data": {
      "text/plain": [
       "<AxesSubplot:title={'center':'Comparison between different classes present in the dataset'}, xlabel='Type', ylabel='Si'>"
      ]
     },
     "execution_count": 34,
     "metadata": {},
     "output_type": "execute_result"
    },
    {
     "data": {
      "image/png": "[encoded data removed]",
      "text/plain": [
       "<Figure size 504x504 with 1 Axes>"
      ]
     },
     "metadata": {
      "needs_background": "light"
     },
     "output_type": "display_data"
    }
   ],
   "source": [
    "plt.figure(figsize=(7,7))\n",
    "plt.title('Comparison between different classes present in the dataset')\n",
    "sns.scatterplot(mycsvfile['Type'], mycsvfile['Si'], hue = mycsvfile['Type'], s= 50)"
   ]
  },
  {
   "cell_type": "code",
   "execution_count": 35,
   "id": "3970d52e-1999-446a-b1ef-1bc756493e99",
   "metadata": {},
   "outputs": [
    {
     "name": "stderr",
     "output_type": "stream",
     "text": [
      "/home/rishabh/myfiles/venv/lib/python3.8/site-packages/seaborn/_decorators.py:36: FutureWarning: Pass the following variables as keyword args: x, y. From version 0.12, the only valid positional argument will be `data`, and passing other arguments without an explicit keyword will result in an error or misinterpretation.\n",
      "  warnings.warn(\n"
     ]
    },
    {
     "data": {
      "image/png": "[encoded data removed]",
      "text/plain": [
       "<Figure size 504x504 with 1 Axes>"
      ]
     },
     "metadata": {
      "needs_background": "light"
     },
     "output_type": "display_data"
    }
   ],
   "source": [
    "plt.figure(figsize=(7,7))\n",
    "plt.title('Comparison between different classes present in the dataset')\n",
    "sns.scatterplot(mycsvfile['Type'], mycsvfile['K'], hue = mycsvfile['Type'], s= 50);"
   ]
  },
  {
   "cell_type": "code",
   "execution_count": 36,
   "id": "95165ca5-190a-48d1-addf-c9f594ffa103",
   "metadata": {},
   "outputs": [
    {
     "name": "stderr",
     "output_type": "stream",
     "text": [
      "/home/rishabh/myfiles/venv/lib/python3.8/site-packages/seaborn/_decorators.py:36: FutureWarning: Pass the following variables as keyword args: x, y. From version 0.12, the only valid positional argument will be `data`, and passing other arguments without an explicit keyword will result in an error or misinterpretation.\n",
      "  warnings.warn(\n"
     ]
    },
    {
     "data": {
      "image/png": "[encoded data removed]",
      "text/plain": [
       "<Figure size 504x504 with 1 Axes>"
      ]
     },
     "metadata": {
      "needs_background": "light"
     },
     "output_type": "display_data"
    }
   ],
   "source": [
    "plt.figure(figsize=(7,7))\n",
    "plt.title('Comparison between different classes present in the dataset')\n",
    "sns.scatterplot(mycsvfile['Type'], mycsvfile['Ca'], hue = mycsvfile['Type'], s= 50);"
   ]
  },
  {
   "cell_type": "code",
   "execution_count": 37,
   "id": "685c959f-b1c1-44f2-a39a-01d697130d51",
   "metadata": {},
   "outputs": [
    {
     "name": "stderr",
     "output_type": "stream",
     "text": [
      "/home/rishabh/myfiles/venv/lib/python3.8/site-packages/seaborn/_decorators.py:36: FutureWarning: Pass the following variables as keyword args: x, y. From version 0.12, the only valid positional argument will be `data`, and passing other arguments without an explicit keyword will result in an error or misinterpretation.\n",
      "  warnings.warn(\n"
     ]
    },
    {
     "data": {
      "image/png": "[encoded data removed]",
      "text/plain": [
       "<Figure size 504x504 with 1 Axes>"
      ]
     },
     "metadata": {
      "needs_background": "light"
     },
     "output_type": "display_data"
    }
   ],
   "source": [
    "plt.figure(figsize=(7,7))\n",
    "plt.title('Comparison between different classes present in the dataset')\n",
    "sns.scatterplot(mycsvfile['Type'], mycsvfile['Ba'], hue = mycsvfile['Type'], s= 50);"
   ]
  },
  {
   "cell_type": "code",
   "execution_count": 38,
   "id": "41d0189c-a63c-465a-819e-b9efa0bc10e2",
   "metadata": {},
   "outputs": [
    {
     "name": "stderr",
     "output_type": "stream",
     "text": [
      "/home/rishabh/myfiles/venv/lib/python3.8/site-packages/seaborn/_decorators.py:36: FutureWarning: Pass the following variables as keyword args: x, y. From version 0.12, the only valid positional argument will be `data`, and passing other arguments without an explicit keyword will result in an error or misinterpretation.\n",
      "  warnings.warn(\n"
     ]
    },
    {
     "data": {
      "image/png": "[encoded data removed]",
      "text/plain": [
       "<Figure size 504x504 with 1 Axes>"
      ]
     },
     "metadata": {
      "needs_background": "light"
     },
     "output_type": "display_data"
    }
   ],
   "source": [
    "plt.figure(figsize=(7,7))\n",
    "plt.title('Comparison between different classes present in the dataset')\n",
    "sns.scatterplot(mycsvfile['Type'], mycsvfile['Fe'], hue = mycsvfile['Type'], s= 50);"
   ]
  },
  {
   "cell_type": "code",
   "execution_count": null,
   "id": "78162a3a-7ba6-4cad-a1b9-733a54b18448",
   "metadata": {},
   "outputs": [],
   "source": []
  }
 ],
 "metadata": {
  "kernelspec": {
   "display_name": "Python 3",
   "language": "python",
   "name": "python3"
  },
  "language_info": {
   "codemirror_mode": {
    "name": "ipython",
    "version": 3
   },
   "file_extension": ".py",
   "mimetype": "text/x-python",
   "name": "python",
   "nbconvert_exporter": "python",
   "pygments_lexer": "ipython3",
   "version": "3.8.5"
  }
 },
 "nbformat": 4,
 "nbformat_minor": 5
}
