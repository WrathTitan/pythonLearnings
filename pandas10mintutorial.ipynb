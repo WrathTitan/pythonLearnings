{
 "cells": [
  {
   "cell_type": "markdown",
   "id": "capable-respect",
   "metadata": {},
   "source": [
    "# Pandas Learnings\n",
    "10 mins tutorial content"
   ]
  },
  {
   "cell_type": "code",
   "execution_count": 1,
   "id": "declared-fight",
   "metadata": {},
   "outputs": [],
   "source": [
    "import pandas as pd\n",
    "import numpy as np"
   ]
  },
  {
   "cell_type": "markdown",
   "id": "accompanied-energy",
   "metadata": {},
   "source": [
    "Object creation in Pandas\n",
    "\n",
    "Creating a Series by passing a list of values, letting pandas create a default integer index:"
   ]
  },
  {
   "cell_type": "code",
   "execution_count": 4,
   "id": "protective-africa",
   "metadata": {},
   "outputs": [
    {
     "data": {
      "text/plain": [
       "0    1\n",
       "1    2\n",
       "2    3\n",
       "3    4\n",
       "4    5\n",
       "5    6\n",
       "6    7\n",
       "7    8\n",
       "dtype: int64"
      ]
     },
     "execution_count": 4,
     "metadata": {},
     "output_type": "execute_result"
    }
   ],
   "source": [
    "df=pd.Series([1,2,3,4,5,6,7,8])\n",
    "df"
   ]
  },
  {
   "cell_type": "markdown",
   "id": "crucial-reggae",
   "metadata": {},
   "source": [
    "Creating a DataFrame by passing a NumPy array, with a datetime index and labeled columns:"
   ]
  },
  {
   "cell_type": "code",
   "execution_count": 9,
   "id": "competent-barcelona",
   "metadata": {},
   "outputs": [
    {
     "data": {
      "text/plain": [
       "DatetimeIndex(['2020-02-01', '2020-02-02', '2020-02-03', '2020-02-04',\n",
       "               '2020-02-05', '2020-02-06'],\n",
       "              dtype='datetime64[ns]', freq='D')"
      ]
     },
     "execution_count": 9,
     "metadata": {},
     "output_type": "execute_result"
    }
   ],
   "source": [
    "dates=pd.date_range(\"20200201\",periods=6)\n",
    "dates"
   ]
  },
  {
   "cell_type": "code",
   "execution_count": 10,
   "id": "compatible-league",
   "metadata": {},
   "outputs": [
    {
     "data": {
      "text/html": [
       "<div>\n",
       "<style scoped>\n",
       "    .dataframe tbody tr th:only-of-type {\n",
       "        vertical-align: middle;\n",
       "    }\n",
       "\n",
       "    .dataframe tbody tr th {\n",
       "        vertical-align: top;\n",
       "    }\n",
       "\n",
       "    .dataframe thead th {\n",
       "        text-align: right;\n",
       "    }\n",
       "</style>\n",
       "<table border=\"1\" class=\"dataframe\">\n",
       "  <thead>\n",
       "    <tr style=\"text-align: right;\">\n",
       "      <th></th>\n",
       "      <th>A</th>\n",
       "      <th>B</th>\n",
       "      <th>C</th>\n",
       "      <th>D</th>\n",
       "    </tr>\n",
       "  </thead>\n",
       "  <tbody>\n",
       "    <tr>\n",
       "      <th>2020-02-01</th>\n",
       "      <td>0.423310</td>\n",
       "      <td>-0.288351</td>\n",
       "      <td>1.028279</td>\n",
       "      <td>1.348678</td>\n",
       "    </tr>\n",
       "    <tr>\n",
       "      <th>2020-02-02</th>\n",
       "      <td>0.998878</td>\n",
       "      <td>0.529870</td>\n",
       "      <td>0.413705</td>\n",
       "      <td>0.857294</td>\n",
       "    </tr>\n",
       "    <tr>\n",
       "      <th>2020-02-03</th>\n",
       "      <td>-3.284321</td>\n",
       "      <td>1.461194</td>\n",
       "      <td>-0.877865</td>\n",
       "      <td>-1.049186</td>\n",
       "    </tr>\n",
       "    <tr>\n",
       "      <th>2020-02-04</th>\n",
       "      <td>0.810973</td>\n",
       "      <td>-2.043113</td>\n",
       "      <td>1.846365</td>\n",
       "      <td>0.706133</td>\n",
       "    </tr>\n",
       "    <tr>\n",
       "      <th>2020-02-05</th>\n",
       "      <td>-2.694451</td>\n",
       "      <td>0.809791</td>\n",
       "      <td>0.080530</td>\n",
       "      <td>-0.580295</td>\n",
       "    </tr>\n",
       "    <tr>\n",
       "      <th>2020-02-06</th>\n",
       "      <td>0.848766</td>\n",
       "      <td>0.223243</td>\n",
       "      <td>-0.467514</td>\n",
       "      <td>-1.099651</td>\n",
       "    </tr>\n",
       "  </tbody>\n",
       "</table>\n",
       "</div>"
      ],
      "text/plain": [
       "                   A         B         C         D\n",
       "2020-02-01  0.423310 -0.288351  1.028279  1.348678\n",
       "2020-02-02  0.998878  0.529870  0.413705  0.857294\n",
       "2020-02-03 -3.284321  1.461194 -0.877865 -1.049186\n",
       "2020-02-04  0.810973 -2.043113  1.846365  0.706133\n",
       "2020-02-05 -2.694451  0.809791  0.080530 -0.580295\n",
       "2020-02-06  0.848766  0.223243 -0.467514 -1.099651"
      ]
     },
     "execution_count": 10,
     "metadata": {},
     "output_type": "execute_result"
    }
   ],
   "source": [
    "df=pd.DataFrame(np.random.randn(6,4),index=dates,columns=list(\"ABCD\"))\n",
    "df"
   ]
  },
  {
   "cell_type": "code",
   "execution_count": 11,
   "id": "potential-gross",
   "metadata": {},
   "outputs": [
    {
     "data": {
      "text/plain": [
       "array([[ 0.10742472, -0.48976563, -0.30115047, -0.03843415],\n",
       "       [-0.70506519, -0.64818457, -0.44649299, -2.04172419],\n",
       "       [-0.11511407, -1.7451738 , -0.76810902, -0.715306  ],\n",
       "       [-0.41464584,  0.30196483,  0.24450917,  2.24782252],\n",
       "       [-0.88469162, -0.09074655,  0.25100061,  1.36169719],\n",
       "       [ 0.23394469, -1.56932078, -1.35175771,  0.16844538]])"
      ]
     },
     "execution_count": 11,
     "metadata": {},
     "output_type": "execute_result"
    }
   ],
   "source": [
    "np.random.randn(6,4)"
   ]
  },
  {
   "cell_type": "code",
   "execution_count": 12,
   "id": "established-desktop",
   "metadata": {},
   "outputs": [
    {
     "name": "stdout",
     "output_type": "stream",
     "text": [
      "[[-0.07434855 -1.65418126 -0.06339442  1.56485277]\n",
      " [-0.69291203  0.28520556 -0.38565272 -0.10142109]\n",
      " [ 1.27843448 -0.71280135  0.47129415 -1.35953395]\n",
      " [-1.16347874 -1.07821787  1.19431253  0.36557265]\n",
      " [ 0.32569915  1.05712443 -1.43330618 -0.17684916]\n",
      " [-1.11692609  0.0952217  -0.79233388  1.41194543]]\n"
     ]
    }
   ],
   "source": [
    "print(np.random.randn(6,4))"
   ]
  },
  {
   "cell_type": "code",
   "execution_count": 14,
   "id": "textile-manufacturer",
   "metadata": {},
   "outputs": [
    {
     "data": {
      "text/html": [
       "<div>\n",
       "<style scoped>\n",
       "    .dataframe tbody tr th:only-of-type {\n",
       "        vertical-align: middle;\n",
       "    }\n",
       "\n",
       "    .dataframe tbody tr th {\n",
       "        vertical-align: top;\n",
       "    }\n",
       "\n",
       "    .dataframe thead th {\n",
       "        text-align: right;\n",
       "    }\n",
       "</style>\n",
       "<table border=\"1\" class=\"dataframe\">\n",
       "  <thead>\n",
       "    <tr style=\"text-align: right;\">\n",
       "      <th></th>\n",
       "      <th>Persons</th>\n",
       "      <th>Subject 1</th>\n",
       "      <th>Subject 2</th>\n",
       "      <th>Subject 3</th>\n",
       "    </tr>\n",
       "  </thead>\n",
       "  <tbody>\n",
       "    <tr>\n",
       "      <th>Person A</th>\n",
       "      <td>-0.616611</td>\n",
       "      <td>0.218280</td>\n",
       "      <td>0.760031</td>\n",
       "      <td>0.780423</td>\n",
       "    </tr>\n",
       "    <tr>\n",
       "      <th>Person B</th>\n",
       "      <td>-1.078677</td>\n",
       "      <td>-0.839531</td>\n",
       "      <td>-0.291024</td>\n",
       "      <td>-0.967472</td>\n",
       "    </tr>\n",
       "    <tr>\n",
       "      <th>Person C</th>\n",
       "      <td>-0.864177</td>\n",
       "      <td>-0.878428</td>\n",
       "      <td>1.180083</td>\n",
       "      <td>-1.072881</td>\n",
       "    </tr>\n",
       "    <tr>\n",
       "      <th>Person D</th>\n",
       "      <td>-1.849804</td>\n",
       "      <td>-0.119028</td>\n",
       "      <td>-0.530153</td>\n",
       "      <td>-0.369607</td>\n",
       "    </tr>\n",
       "    <tr>\n",
       "      <th>Person E</th>\n",
       "      <td>-1.595798</td>\n",
       "      <td>0.181604</td>\n",
       "      <td>0.106823</td>\n",
       "      <td>0.647071</td>\n",
       "    </tr>\n",
       "  </tbody>\n",
       "</table>\n",
       "</div>"
      ],
      "text/plain": [
       "           Persons  Subject 1  Subject 2  Subject 3\n",
       "Person A -0.616611   0.218280   0.760031   0.780423\n",
       "Person B -1.078677  -0.839531  -0.291024  -0.967472\n",
       "Person C -0.864177  -0.878428   1.180083  -1.072881\n",
       "Person D -1.849804  -0.119028  -0.530153  -0.369607\n",
       "Person E -1.595798   0.181604   0.106823   0.647071"
      ]
     },
     "execution_count": 14,
     "metadata": {},
     "output_type": "execute_result"
    }
   ],
   "source": [
    "series_index=pd.Series([\"Person A\",\"Person B\",\"Person C\",\"Person D\",\"Person E\"])\n",
    "series_grade=pd.Series([\"A\",\"B\",\"A\",\"A\",\"C\"])\n",
    "df=pd.DataFrame(np.random.randn(5,4),index=series_index,columns=[\"Persons\",\"Subject 1\",\"Subject 2\",\"Subject 3\"])\n",
    "df"
   ]
  },
  {
   "cell_type": "markdown",
   "id": "removable-champagne",
   "metadata": {},
   "source": [
    "Creating a DataFrame by passing a dict of objects that can be converted to series-like.\n"
   ]
  },
  {
   "cell_type": "code",
   "execution_count": 16,
   "id": "synthetic-frontier",
   "metadata": {},
   "outputs": [
    {
     "data": {
      "text/html": [
       "<div>\n",
       "<style scoped>\n",
       "    .dataframe tbody tr th:only-of-type {\n",
       "        vertical-align: middle;\n",
       "    }\n",
       "\n",
       "    .dataframe tbody tr th {\n",
       "        vertical-align: top;\n",
       "    }\n",
       "\n",
       "    .dataframe thead th {\n",
       "        text-align: right;\n",
       "    }\n",
       "</style>\n",
       "<table border=\"1\" class=\"dataframe\">\n",
       "  <thead>\n",
       "    <tr style=\"text-align: right;\">\n",
       "      <th></th>\n",
       "      <th>A</th>\n",
       "      <th>B</th>\n",
       "      <th>C</th>\n",
       "      <th>D</th>\n",
       "      <th>E</th>\n",
       "      <th>F</th>\n",
       "    </tr>\n",
       "  </thead>\n",
       "  <tbody>\n",
       "    <tr>\n",
       "      <th>0</th>\n",
       "      <td>1.0</td>\n",
       "      <td>2013-01-02</td>\n",
       "      <td>1.0</td>\n",
       "      <td>3</td>\n",
       "      <td>test</td>\n",
       "      <td>foo</td>\n",
       "    </tr>\n",
       "    <tr>\n",
       "      <th>1</th>\n",
       "      <td>1.0</td>\n",
       "      <td>2013-01-02</td>\n",
       "      <td>1.0</td>\n",
       "      <td>3</td>\n",
       "      <td>train</td>\n",
       "      <td>foo</td>\n",
       "    </tr>\n",
       "    <tr>\n",
       "      <th>2</th>\n",
       "      <td>1.0</td>\n",
       "      <td>2013-01-02</td>\n",
       "      <td>1.0</td>\n",
       "      <td>3</td>\n",
       "      <td>test</td>\n",
       "      <td>foo</td>\n",
       "    </tr>\n",
       "    <tr>\n",
       "      <th>3</th>\n",
       "      <td>1.0</td>\n",
       "      <td>2013-01-02</td>\n",
       "      <td>1.0</td>\n",
       "      <td>3</td>\n",
       "      <td>train</td>\n",
       "      <td>foo</td>\n",
       "    </tr>\n",
       "  </tbody>\n",
       "</table>\n",
       "</div>"
      ],
      "text/plain": [
       "     A          B    C  D      E    F\n",
       "0  1.0 2013-01-02  1.0  3   test  foo\n",
       "1  1.0 2013-01-02  1.0  3  train  foo\n",
       "2  1.0 2013-01-02  1.0  3   test  foo\n",
       "3  1.0 2013-01-02  1.0  3  train  foo"
      ]
     },
     "execution_count": 16,
     "metadata": {},
     "output_type": "execute_result"
    }
   ],
   "source": [
    "df2 = pd.DataFrame({\n",
    "   ...:         \"A\": 1.0,\n",
    "   ...:         \"B\": pd.Timestamp(\"20130102\"),\n",
    "   ...:         \"C\": pd.Series(1, index=list(range(4)), dtype=\"float32\"),\n",
    "   ...:         \"D\": np.array([3] * 4, dtype=\"int32\"),\n",
    "   ...:         \"E\": pd.Categorical([\"test\", \"train\", \"test\", \"train\"]),\n",
    "   ...:         \"F\": \"foo\",\n",
    "   ...:     }\n",
    "   ...: )\n",
    "df2"
   ]
  },
  {
   "cell_type": "code",
   "execution_count": 19,
   "id": "frozen-annex",
   "metadata": {},
   "outputs": [
    {
     "data": {
      "text/plain": [
       "A           float64\n",
       "B    datetime64[ns]\n",
       "C           float32\n",
       "D             int32\n",
       "E          category\n",
       "F            object\n",
       "dtype: object"
      ]
     },
     "execution_count": 19,
     "metadata": {},
     "output_type": "execute_result"
    }
   ],
   "source": [
    "df2.dtypes"
   ]
  },
  {
   "cell_type": "code",
   "execution_count": 20,
   "id": "trying-candle",
   "metadata": {},
   "outputs": [
    {
     "data": {
      "text/html": [
       "<div>\n",
       "<style scoped>\n",
       "    .dataframe tbody tr th:only-of-type {\n",
       "        vertical-align: middle;\n",
       "    }\n",
       "\n",
       "    .dataframe tbody tr th {\n",
       "        vertical-align: top;\n",
       "    }\n",
       "\n",
       "    .dataframe thead th {\n",
       "        text-align: right;\n",
       "    }\n",
       "</style>\n",
       "<table border=\"1\" class=\"dataframe\">\n",
       "  <thead>\n",
       "    <tr style=\"text-align: right;\">\n",
       "      <th></th>\n",
       "      <th>Persons</th>\n",
       "      <th>Subject 1</th>\n",
       "      <th>Subject 2</th>\n",
       "      <th>Subject 3</th>\n",
       "    </tr>\n",
       "  </thead>\n",
       "  <tbody>\n",
       "    <tr>\n",
       "      <th>Person A</th>\n",
       "      <td>-0.616611</td>\n",
       "      <td>0.218280</td>\n",
       "      <td>0.760031</td>\n",
       "      <td>0.780423</td>\n",
       "    </tr>\n",
       "    <tr>\n",
       "      <th>Person B</th>\n",
       "      <td>-1.078677</td>\n",
       "      <td>-0.839531</td>\n",
       "      <td>-0.291024</td>\n",
       "      <td>-0.967472</td>\n",
       "    </tr>\n",
       "    <tr>\n",
       "      <th>Person C</th>\n",
       "      <td>-0.864177</td>\n",
       "      <td>-0.878428</td>\n",
       "      <td>1.180083</td>\n",
       "      <td>-1.072881</td>\n",
       "    </tr>\n",
       "    <tr>\n",
       "      <th>Person D</th>\n",
       "      <td>-1.849804</td>\n",
       "      <td>-0.119028</td>\n",
       "      <td>-0.530153</td>\n",
       "      <td>-0.369607</td>\n",
       "    </tr>\n",
       "    <tr>\n",
       "      <th>Person E</th>\n",
       "      <td>-1.595798</td>\n",
       "      <td>0.181604</td>\n",
       "      <td>0.106823</td>\n",
       "      <td>0.647071</td>\n",
       "    </tr>\n",
       "  </tbody>\n",
       "</table>\n",
       "</div>"
      ],
      "text/plain": [
       "           Persons  Subject 1  Subject 2  Subject 3\n",
       "Person A -0.616611   0.218280   0.760031   0.780423\n",
       "Person B -1.078677  -0.839531  -0.291024  -0.967472\n",
       "Person C -0.864177  -0.878428   1.180083  -1.072881\n",
       "Person D -1.849804  -0.119028  -0.530153  -0.369607\n",
       "Person E -1.595798   0.181604   0.106823   0.647071"
      ]
     },
     "execution_count": 20,
     "metadata": {},
     "output_type": "execute_result"
    }
   ],
   "source": [
    "df.head()"
   ]
  },
  {
   "cell_type": "code",
   "execution_count": 21,
   "id": "patent-treat",
   "metadata": {},
   "outputs": [
    {
     "data": {
      "text/html": [
       "<div>\n",
       "<style scoped>\n",
       "    .dataframe tbody tr th:only-of-type {\n",
       "        vertical-align: middle;\n",
       "    }\n",
       "\n",
       "    .dataframe tbody tr th {\n",
       "        vertical-align: top;\n",
       "    }\n",
       "\n",
       "    .dataframe thead th {\n",
       "        text-align: right;\n",
       "    }\n",
       "</style>\n",
       "<table border=\"1\" class=\"dataframe\">\n",
       "  <thead>\n",
       "    <tr style=\"text-align: right;\">\n",
       "      <th></th>\n",
       "      <th>Persons</th>\n",
       "      <th>Subject 1</th>\n",
       "      <th>Subject 2</th>\n",
       "      <th>Subject 3</th>\n",
       "    </tr>\n",
       "  </thead>\n",
       "  <tbody>\n",
       "    <tr>\n",
       "      <th>Person D</th>\n",
       "      <td>-1.849804</td>\n",
       "      <td>-0.119028</td>\n",
       "      <td>-0.530153</td>\n",
       "      <td>-0.369607</td>\n",
       "    </tr>\n",
       "    <tr>\n",
       "      <th>Person E</th>\n",
       "      <td>-1.595798</td>\n",
       "      <td>0.181604</td>\n",
       "      <td>0.106823</td>\n",
       "      <td>0.647071</td>\n",
       "    </tr>\n",
       "  </tbody>\n",
       "</table>\n",
       "</div>"
      ],
      "text/plain": [
       "           Persons  Subject 1  Subject 2  Subject 3\n",
       "Person D -1.849804  -0.119028  -0.530153  -0.369607\n",
       "Person E -1.595798   0.181604   0.106823   0.647071"
      ]
     },
     "execution_count": 21,
     "metadata": {},
     "output_type": "execute_result"
    }
   ],
   "source": [
    "df.tail(2)"
   ]
  },
  {
   "cell_type": "code",
   "execution_count": 22,
   "id": "rural-example",
   "metadata": {},
   "outputs": [
    {
     "data": {
      "text/plain": [
       "Index(['Person A', 'Person B', 'Person C', 'Person D', 'Person E'], dtype='object')"
      ]
     },
     "execution_count": 22,
     "metadata": {},
     "output_type": "execute_result"
    }
   ],
   "source": [
    "df.index"
   ]
  },
  {
   "cell_type": "code",
   "execution_count": 23,
   "id": "unknown-ribbon",
   "metadata": {},
   "outputs": [
    {
     "data": {
      "text/plain": [
       "Index(['Persons', 'Subject 1', 'Subject 2', 'Subject 3'], dtype='object')"
      ]
     },
     "execution_count": 23,
     "metadata": {},
     "output_type": "execute_result"
    }
   ],
   "source": [
    "df.columns"
   ]
  },
  {
   "cell_type": "markdown",
   "id": "lonely-trade",
   "metadata": {},
   "source": [
    "DataFrame.to_numpy() gives a NumPy representation of the underlying data.\n",
    "NumPy arrays have one dtype for the entire array, while pandas DataFrames have one dtype per column.\n",
    "When you call DataFrame.to_numpy(), pandas will find the NumPy dtype that can hold all of the dtypes in the DataFrame. This may end up being object, which requires casting every value to a Python object."
   ]
  },
  {
   "cell_type": "code",
   "execution_count": 24,
   "id": "passing-opportunity",
   "metadata": {},
   "outputs": [
    {
     "data": {
      "text/plain": [
       "array([[-0.61661067,  0.21827992,  0.76003056,  0.78042268],\n",
       "       [-1.07867693, -0.83953136, -0.29102357, -0.96747193],\n",
       "       [-0.86417719, -0.87842816,  1.18008292, -1.07288121],\n",
       "       [-1.84980443, -0.11902821, -0.53015291, -0.36960661],\n",
       "       [-1.59579835,  0.18160367,  0.10682344,  0.64707067]])"
      ]
     },
     "execution_count": 24,
     "metadata": {},
     "output_type": "execute_result"
    }
   ],
   "source": [
    "df.to_numpy()"
   ]
  },
  {
   "cell_type": "code",
   "execution_count": 26,
   "id": "attractive-tourist",
   "metadata": {},
   "outputs": [
    {
     "data": {
      "text/plain": [
       "array([[1.0, Timestamp('2013-01-02 00:00:00'), 1.0, 3, 'test', 'foo'],\n",
       "       [1.0, Timestamp('2013-01-02 00:00:00'), 1.0, 3, 'train', 'foo'],\n",
       "       [1.0, Timestamp('2013-01-02 00:00:00'), 1.0, 3, 'test', 'foo'],\n",
       "       [1.0, Timestamp('2013-01-02 00:00:00'), 1.0, 3, 'train', 'foo']],\n",
       "      dtype=object)"
      ]
     },
     "execution_count": 26,
     "metadata": {},
     "output_type": "execute_result"
    }
   ],
   "source": [
    "df2.to_numpy()"
   ]
  },
  {
   "cell_type": "code",
   "execution_count": 27,
   "id": "fossil-tracker",
   "metadata": {},
   "outputs": [
    {
     "data": {
      "text/html": [
       "<div>\n",
       "<style scoped>\n",
       "    .dataframe tbody tr th:only-of-type {\n",
       "        vertical-align: middle;\n",
       "    }\n",
       "\n",
       "    .dataframe tbody tr th {\n",
       "        vertical-align: top;\n",
       "    }\n",
       "\n",
       "    .dataframe thead th {\n",
       "        text-align: right;\n",
       "    }\n",
       "</style>\n",
       "<table border=\"1\" class=\"dataframe\">\n",
       "  <thead>\n",
       "    <tr style=\"text-align: right;\">\n",
       "      <th></th>\n",
       "      <th>Person A</th>\n",
       "      <th>Person B</th>\n",
       "      <th>Person C</th>\n",
       "      <th>Person D</th>\n",
       "      <th>Person E</th>\n",
       "    </tr>\n",
       "  </thead>\n",
       "  <tbody>\n",
       "    <tr>\n",
       "      <th>Persons</th>\n",
       "      <td>-0.616611</td>\n",
       "      <td>-1.078677</td>\n",
       "      <td>-0.864177</td>\n",
       "      <td>-1.849804</td>\n",
       "      <td>-1.595798</td>\n",
       "    </tr>\n",
       "    <tr>\n",
       "      <th>Subject 1</th>\n",
       "      <td>0.218280</td>\n",
       "      <td>-0.839531</td>\n",
       "      <td>-0.878428</td>\n",
       "      <td>-0.119028</td>\n",
       "      <td>0.181604</td>\n",
       "    </tr>\n",
       "    <tr>\n",
       "      <th>Subject 2</th>\n",
       "      <td>0.760031</td>\n",
       "      <td>-0.291024</td>\n",
       "      <td>1.180083</td>\n",
       "      <td>-0.530153</td>\n",
       "      <td>0.106823</td>\n",
       "    </tr>\n",
       "    <tr>\n",
       "      <th>Subject 3</th>\n",
       "      <td>0.780423</td>\n",
       "      <td>-0.967472</td>\n",
       "      <td>-1.072881</td>\n",
       "      <td>-0.369607</td>\n",
       "      <td>0.647071</td>\n",
       "    </tr>\n",
       "  </tbody>\n",
       "</table>\n",
       "</div>"
      ],
      "text/plain": [
       "           Person A  Person B  Person C  Person D  Person E\n",
       "Persons   -0.616611 -1.078677 -0.864177 -1.849804 -1.595798\n",
       "Subject 1  0.218280 -0.839531 -0.878428 -0.119028  0.181604\n",
       "Subject 2  0.760031 -0.291024  1.180083 -0.530153  0.106823\n",
       "Subject 3  0.780423 -0.967472 -1.072881 -0.369607  0.647071"
      ]
     },
     "execution_count": 27,
     "metadata": {},
     "output_type": "execute_result"
    }
   ],
   "source": [
    "df.transpose()"
   ]
  },
  {
   "cell_type": "code",
   "execution_count": 28,
   "id": "educational-intersection",
   "metadata": {},
   "outputs": [
    {
     "data": {
      "text/html": [
       "<div>\n",
       "<style scoped>\n",
       "    .dataframe tbody tr th:only-of-type {\n",
       "        vertical-align: middle;\n",
       "    }\n",
       "\n",
       "    .dataframe tbody tr th {\n",
       "        vertical-align: top;\n",
       "    }\n",
       "\n",
       "    .dataframe thead th {\n",
       "        text-align: right;\n",
       "    }\n",
       "</style>\n",
       "<table border=\"1\" class=\"dataframe\">\n",
       "  <thead>\n",
       "    <tr style=\"text-align: right;\">\n",
       "      <th></th>\n",
       "      <th>Person A</th>\n",
       "      <th>Person B</th>\n",
       "      <th>Person C</th>\n",
       "      <th>Person D</th>\n",
       "      <th>Person E</th>\n",
       "    </tr>\n",
       "  </thead>\n",
       "  <tbody>\n",
       "    <tr>\n",
       "      <th>Persons</th>\n",
       "      <td>-0.616611</td>\n",
       "      <td>-1.078677</td>\n",
       "      <td>-0.864177</td>\n",
       "      <td>-1.849804</td>\n",
       "      <td>-1.595798</td>\n",
       "    </tr>\n",
       "    <tr>\n",
       "      <th>Subject 1</th>\n",
       "      <td>0.218280</td>\n",
       "      <td>-0.839531</td>\n",
       "      <td>-0.878428</td>\n",
       "      <td>-0.119028</td>\n",
       "      <td>0.181604</td>\n",
       "    </tr>\n",
       "    <tr>\n",
       "      <th>Subject 2</th>\n",
       "      <td>0.760031</td>\n",
       "      <td>-0.291024</td>\n",
       "      <td>1.180083</td>\n",
       "      <td>-0.530153</td>\n",
       "      <td>0.106823</td>\n",
       "    </tr>\n",
       "    <tr>\n",
       "      <th>Subject 3</th>\n",
       "      <td>0.780423</td>\n",
       "      <td>-0.967472</td>\n",
       "      <td>-1.072881</td>\n",
       "      <td>-0.369607</td>\n",
       "      <td>0.647071</td>\n",
       "    </tr>\n",
       "  </tbody>\n",
       "</table>\n",
       "</div>"
      ],
      "text/plain": [
       "           Person A  Person B  Person C  Person D  Person E\n",
       "Persons   -0.616611 -1.078677 -0.864177 -1.849804 -1.595798\n",
       "Subject 1  0.218280 -0.839531 -0.878428 -0.119028  0.181604\n",
       "Subject 2  0.760031 -0.291024  1.180083 -0.530153  0.106823\n",
       "Subject 3  0.780423 -0.967472 -1.072881 -0.369607  0.647071"
      ]
     },
     "execution_count": 28,
     "metadata": {},
     "output_type": "execute_result"
    }
   ],
   "source": [
    "df.T"
   ]
  },
  {
   "cell_type": "code",
   "execution_count": 30,
   "id": "relative-helena",
   "metadata": {},
   "outputs": [
    {
     "data": {
      "text/html": [
       "<div>\n",
       "<style scoped>\n",
       "    .dataframe tbody tr th:only-of-type {\n",
       "        vertical-align: middle;\n",
       "    }\n",
       "\n",
       "    .dataframe tbody tr th {\n",
       "        vertical-align: top;\n",
       "    }\n",
       "\n",
       "    .dataframe thead th {\n",
       "        text-align: right;\n",
       "    }\n",
       "</style>\n",
       "<table border=\"1\" class=\"dataframe\">\n",
       "  <thead>\n",
       "    <tr style=\"text-align: right;\">\n",
       "      <th></th>\n",
       "      <th>Persons</th>\n",
       "      <th>Subject 1</th>\n",
       "      <th>Subject 2</th>\n",
       "      <th>Subject 3</th>\n",
       "    </tr>\n",
       "  </thead>\n",
       "  <tbody>\n",
       "    <tr>\n",
       "      <th>Person A</th>\n",
       "      <td>-0.616611</td>\n",
       "      <td>0.218280</td>\n",
       "      <td>0.760031</td>\n",
       "      <td>0.780423</td>\n",
       "    </tr>\n",
       "    <tr>\n",
       "      <th>Person B</th>\n",
       "      <td>-1.078677</td>\n",
       "      <td>-0.839531</td>\n",
       "      <td>-0.291024</td>\n",
       "      <td>-0.967472</td>\n",
       "    </tr>\n",
       "    <tr>\n",
       "      <th>Person C</th>\n",
       "      <td>-0.864177</td>\n",
       "      <td>-0.878428</td>\n",
       "      <td>1.180083</td>\n",
       "      <td>-1.072881</td>\n",
       "    </tr>\n",
       "    <tr>\n",
       "      <th>Person D</th>\n",
       "      <td>-1.849804</td>\n",
       "      <td>-0.119028</td>\n",
       "      <td>-0.530153</td>\n",
       "      <td>-0.369607</td>\n",
       "    </tr>\n",
       "    <tr>\n",
       "      <th>Person E</th>\n",
       "      <td>-1.595798</td>\n",
       "      <td>0.181604</td>\n",
       "      <td>0.106823</td>\n",
       "      <td>0.647071</td>\n",
       "    </tr>\n",
       "  </tbody>\n",
       "</table>\n",
       "</div>"
      ],
      "text/plain": [
       "           Persons  Subject 1  Subject 2  Subject 3\n",
       "Person A -0.616611   0.218280   0.760031   0.780423\n",
       "Person B -1.078677  -0.839531  -0.291024  -0.967472\n",
       "Person C -0.864177  -0.878428   1.180083  -1.072881\n",
       "Person D -1.849804  -0.119028  -0.530153  -0.369607\n",
       "Person E -1.595798   0.181604   0.106823   0.647071"
      ]
     },
     "execution_count": 30,
     "metadata": {},
     "output_type": "execute_result"
    }
   ],
   "source": [
    "df"
   ]
  },
  {
   "cell_type": "code",
   "execution_count": 31,
   "id": "organic-fabric",
   "metadata": {},
   "outputs": [
    {
     "data": {
      "text/html": [
       "<div>\n",
       "<style scoped>\n",
       "    .dataframe tbody tr th:only-of-type {\n",
       "        vertical-align: middle;\n",
       "    }\n",
       "\n",
       "    .dataframe tbody tr th {\n",
       "        vertical-align: top;\n",
       "    }\n",
       "\n",
       "    .dataframe thead th {\n",
       "        text-align: right;\n",
       "    }\n",
       "</style>\n",
       "<table border=\"1\" class=\"dataframe\">\n",
       "  <thead>\n",
       "    <tr style=\"text-align: right;\">\n",
       "      <th></th>\n",
       "      <th>Subject 3</th>\n",
       "      <th>Subject 2</th>\n",
       "      <th>Subject 1</th>\n",
       "      <th>Persons</th>\n",
       "    </tr>\n",
       "  </thead>\n",
       "  <tbody>\n",
       "    <tr>\n",
       "      <th>Person A</th>\n",
       "      <td>0.780423</td>\n",
       "      <td>0.760031</td>\n",
       "      <td>0.218280</td>\n",
       "      <td>-0.616611</td>\n",
       "    </tr>\n",
       "    <tr>\n",
       "      <th>Person B</th>\n",
       "      <td>-0.967472</td>\n",
       "      <td>-0.291024</td>\n",
       "      <td>-0.839531</td>\n",
       "      <td>-1.078677</td>\n",
       "    </tr>\n",
       "    <tr>\n",
       "      <th>Person C</th>\n",
       "      <td>-1.072881</td>\n",
       "      <td>1.180083</td>\n",
       "      <td>-0.878428</td>\n",
       "      <td>-0.864177</td>\n",
       "    </tr>\n",
       "    <tr>\n",
       "      <th>Person D</th>\n",
       "      <td>-0.369607</td>\n",
       "      <td>-0.530153</td>\n",
       "      <td>-0.119028</td>\n",
       "      <td>-1.849804</td>\n",
       "    </tr>\n",
       "    <tr>\n",
       "      <th>Person E</th>\n",
       "      <td>0.647071</td>\n",
       "      <td>0.106823</td>\n",
       "      <td>0.181604</td>\n",
       "      <td>-1.595798</td>\n",
       "    </tr>\n",
       "  </tbody>\n",
       "</table>\n",
       "</div>"
      ],
      "text/plain": [
       "          Subject 3  Subject 2  Subject 1   Persons\n",
       "Person A   0.780423   0.760031   0.218280 -0.616611\n",
       "Person B  -0.967472  -0.291024  -0.839531 -1.078677\n",
       "Person C  -1.072881   1.180083  -0.878428 -0.864177\n",
       "Person D  -0.369607  -0.530153  -0.119028 -1.849804\n",
       "Person E   0.647071   0.106823   0.181604 -1.595798"
      ]
     },
     "execution_count": 31,
     "metadata": {},
     "output_type": "execute_result"
    }
   ],
   "source": [
    "df.sort_index(axis=1, ascending=False)"
   ]
  },
  {
   "cell_type": "code",
   "execution_count": 33,
   "id": "swiss-child",
   "metadata": {},
   "outputs": [
    {
     "data": {
      "text/html": [
       "<div>\n",
       "<style scoped>\n",
       "    .dataframe tbody tr th:only-of-type {\n",
       "        vertical-align: middle;\n",
       "    }\n",
       "\n",
       "    .dataframe tbody tr th {\n",
       "        vertical-align: top;\n",
       "    }\n",
       "\n",
       "    .dataframe thead th {\n",
       "        text-align: right;\n",
       "    }\n",
       "</style>\n",
       "<table border=\"1\" class=\"dataframe\">\n",
       "  <thead>\n",
       "    <tr style=\"text-align: right;\">\n",
       "      <th></th>\n",
       "      <th>Persons</th>\n",
       "      <th>Subject 1</th>\n",
       "      <th>Subject 2</th>\n",
       "      <th>Subject 3</th>\n",
       "    </tr>\n",
       "  </thead>\n",
       "  <tbody>\n",
       "    <tr>\n",
       "      <th>Person C</th>\n",
       "      <td>-0.864177</td>\n",
       "      <td>-0.878428</td>\n",
       "      <td>1.180083</td>\n",
       "      <td>-1.072881</td>\n",
       "    </tr>\n",
       "    <tr>\n",
       "      <th>Person B</th>\n",
       "      <td>-1.078677</td>\n",
       "      <td>-0.839531</td>\n",
       "      <td>-0.291024</td>\n",
       "      <td>-0.967472</td>\n",
       "    </tr>\n",
       "    <tr>\n",
       "      <th>Person D</th>\n",
       "      <td>-1.849804</td>\n",
       "      <td>-0.119028</td>\n",
       "      <td>-0.530153</td>\n",
       "      <td>-0.369607</td>\n",
       "    </tr>\n",
       "    <tr>\n",
       "      <th>Person E</th>\n",
       "      <td>-1.595798</td>\n",
       "      <td>0.181604</td>\n",
       "      <td>0.106823</td>\n",
       "      <td>0.647071</td>\n",
       "    </tr>\n",
       "    <tr>\n",
       "      <th>Person A</th>\n",
       "      <td>-0.616611</td>\n",
       "      <td>0.218280</td>\n",
       "      <td>0.760031</td>\n",
       "      <td>0.780423</td>\n",
       "    </tr>\n",
       "  </tbody>\n",
       "</table>\n",
       "</div>"
      ],
      "text/plain": [
       "           Persons  Subject 1  Subject 2  Subject 3\n",
       "Person C -0.864177  -0.878428   1.180083  -1.072881\n",
       "Person B -1.078677  -0.839531  -0.291024  -0.967472\n",
       "Person D -1.849804  -0.119028  -0.530153  -0.369607\n",
       "Person E -1.595798   0.181604   0.106823   0.647071\n",
       "Person A -0.616611   0.218280   0.760031   0.780423"
      ]
     },
     "execution_count": 33,
     "metadata": {},
     "output_type": "execute_result"
    }
   ],
   "source": [
    "df.sort_values(by=\"Subject 3\")"
   ]
  },
  {
   "cell_type": "markdown",
   "id": "actual-porcelain",
   "metadata": {},
   "source": [
    "Selecting in pandas"
   ]
  },
  {
   "cell_type": "code",
   "execution_count": 36,
   "id": "democratic-coverage",
   "metadata": {},
   "outputs": [
    {
     "data": {
      "text/plain": [
       "Person A   -0.616611\n",
       "Person B   -1.078677\n",
       "Person C   -0.864177\n",
       "Person D   -1.849804\n",
       "Person E   -1.595798\n",
       "Name: Persons, dtype: float64"
      ]
     },
     "execution_count": 36,
     "metadata": {},
     "output_type": "execute_result"
    }
   ],
   "source": [
    "df[\"Persons\"]"
   ]
  },
  {
   "cell_type": "code",
   "execution_count": 38,
   "id": "prescription-pantyhose",
   "metadata": {},
   "outputs": [
    {
     "data": {
      "text/html": [
       "<div>\n",
       "<style scoped>\n",
       "    .dataframe tbody tr th:only-of-type {\n",
       "        vertical-align: middle;\n",
       "    }\n",
       "\n",
       "    .dataframe tbody tr th {\n",
       "        vertical-align: top;\n",
       "    }\n",
       "\n",
       "    .dataframe thead th {\n",
       "        text-align: right;\n",
       "    }\n",
       "</style>\n",
       "<table border=\"1\" class=\"dataframe\">\n",
       "  <thead>\n",
       "    <tr style=\"text-align: right;\">\n",
       "      <th></th>\n",
       "      <th>Persons</th>\n",
       "      <th>Subject 1</th>\n",
       "      <th>Subject 2</th>\n",
       "      <th>Subject 3</th>\n",
       "    </tr>\n",
       "  </thead>\n",
       "  <tbody>\n",
       "    <tr>\n",
       "      <th>Person A</th>\n",
       "      <td>-0.616611</td>\n",
       "      <td>0.218280</td>\n",
       "      <td>0.760031</td>\n",
       "      <td>0.780423</td>\n",
       "    </tr>\n",
       "    <tr>\n",
       "      <th>Person B</th>\n",
       "      <td>-1.078677</td>\n",
       "      <td>-0.839531</td>\n",
       "      <td>-0.291024</td>\n",
       "      <td>-0.967472</td>\n",
       "    </tr>\n",
       "  </tbody>\n",
       "</table>\n",
       "</div>"
      ],
      "text/plain": [
       "           Persons  Subject 1  Subject 2  Subject 3\n",
       "Person A -0.616611   0.218280   0.760031   0.780423\n",
       "Person B -1.078677  -0.839531  -0.291024  -0.967472"
      ]
     },
     "execution_count": 38,
     "metadata": {},
     "output_type": "execute_result"
    }
   ],
   "source": [
    "df[0:2]"
   ]
  },
  {
   "cell_type": "code",
   "execution_count": 40,
   "id": "cubic-hello",
   "metadata": {},
   "outputs": [
    {
     "data": {
      "text/html": [
       "<div>\n",
       "<style scoped>\n",
       "    .dataframe tbody tr th:only-of-type {\n",
       "        vertical-align: middle;\n",
       "    }\n",
       "\n",
       "    .dataframe tbody tr th {\n",
       "        vertical-align: top;\n",
       "    }\n",
       "\n",
       "    .dataframe thead th {\n",
       "        text-align: right;\n",
       "    }\n",
       "</style>\n",
       "<table border=\"1\" class=\"dataframe\">\n",
       "  <thead>\n",
       "    <tr style=\"text-align: right;\">\n",
       "      <th></th>\n",
       "      <th>A</th>\n",
       "      <th>B</th>\n",
       "      <th>C</th>\n",
       "      <th>D</th>\n",
       "      <th>E</th>\n",
       "      <th>F</th>\n",
       "    </tr>\n",
       "  </thead>\n",
       "  <tbody>\n",
       "    <tr>\n",
       "      <th>0</th>\n",
       "      <td>1.0</td>\n",
       "      <td>2013-01-02</td>\n",
       "      <td>1.0</td>\n",
       "      <td>3</td>\n",
       "      <td>test</td>\n",
       "      <td>foo</td>\n",
       "    </tr>\n",
       "    <tr>\n",
       "      <th>1</th>\n",
       "      <td>1.0</td>\n",
       "      <td>2013-01-02</td>\n",
       "      <td>1.0</td>\n",
       "      <td>3</td>\n",
       "      <td>train</td>\n",
       "      <td>foo</td>\n",
       "    </tr>\n",
       "    <tr>\n",
       "      <th>2</th>\n",
       "      <td>1.0</td>\n",
       "      <td>2013-01-02</td>\n",
       "      <td>1.0</td>\n",
       "      <td>3</td>\n",
       "      <td>test</td>\n",
       "      <td>foo</td>\n",
       "    </tr>\n",
       "    <tr>\n",
       "      <th>3</th>\n",
       "      <td>1.0</td>\n",
       "      <td>2013-01-02</td>\n",
       "      <td>1.0</td>\n",
       "      <td>3</td>\n",
       "      <td>train</td>\n",
       "      <td>foo</td>\n",
       "    </tr>\n",
       "  </tbody>\n",
       "</table>\n",
       "</div>"
      ],
      "text/plain": [
       "     A          B    C  D      E    F\n",
       "0  1.0 2013-01-02  1.0  3   test  foo\n",
       "1  1.0 2013-01-02  1.0  3  train  foo\n",
       "2  1.0 2013-01-02  1.0  3   test  foo\n",
       "3  1.0 2013-01-02  1.0  3  train  foo"
      ]
     },
     "execution_count": 40,
     "metadata": {},
     "output_type": "execute_result"
    }
   ],
   "source": [
    "df2"
   ]
  },
  {
   "cell_type": "code",
   "execution_count": 42,
   "id": "decent-finger",
   "metadata": {},
   "outputs": [
    {
     "data": {
      "text/html": [
       "<div>\n",
       "<style scoped>\n",
       "    .dataframe tbody tr th:only-of-type {\n",
       "        vertical-align: middle;\n",
       "    }\n",
       "\n",
       "    .dataframe tbody tr th {\n",
       "        vertical-align: top;\n",
       "    }\n",
       "\n",
       "    .dataframe thead th {\n",
       "        text-align: right;\n",
       "    }\n",
       "</style>\n",
       "<table border=\"1\" class=\"dataframe\">\n",
       "  <thead>\n",
       "    <tr style=\"text-align: right;\">\n",
       "      <th></th>\n",
       "      <th>A</th>\n",
       "      <th>B</th>\n",
       "    </tr>\n",
       "  </thead>\n",
       "  <tbody>\n",
       "    <tr>\n",
       "      <th>0</th>\n",
       "      <td>1.0</td>\n",
       "      <td>2013-01-02</td>\n",
       "    </tr>\n",
       "    <tr>\n",
       "      <th>1</th>\n",
       "      <td>1.0</td>\n",
       "      <td>2013-01-02</td>\n",
       "    </tr>\n",
       "    <tr>\n",
       "      <th>2</th>\n",
       "      <td>1.0</td>\n",
       "      <td>2013-01-02</td>\n",
       "    </tr>\n",
       "    <tr>\n",
       "      <th>3</th>\n",
       "      <td>1.0</td>\n",
       "      <td>2013-01-02</td>\n",
       "    </tr>\n",
       "  </tbody>\n",
       "</table>\n",
       "</div>"
      ],
      "text/plain": [
       "     A          B\n",
       "0  1.0 2013-01-02\n",
       "1  1.0 2013-01-02\n",
       "2  1.0 2013-01-02\n",
       "3  1.0 2013-01-02"
      ]
     },
     "execution_count": 42,
     "metadata": {},
     "output_type": "execute_result"
    }
   ],
   "source": [
    "df2.loc[:, [\"A\", \"B\"]]"
   ]
  },
  {
   "cell_type": "code",
   "execution_count": 43,
   "id": "eleven-event",
   "metadata": {},
   "outputs": [
    {
     "data": {
      "text/html": [
       "<div>\n",
       "<style scoped>\n",
       "    .dataframe tbody tr th:only-of-type {\n",
       "        vertical-align: middle;\n",
       "    }\n",
       "\n",
       "    .dataframe tbody tr th {\n",
       "        vertical-align: top;\n",
       "    }\n",
       "\n",
       "    .dataframe thead th {\n",
       "        text-align: right;\n",
       "    }\n",
       "</style>\n",
       "<table border=\"1\" class=\"dataframe\">\n",
       "  <thead>\n",
       "    <tr style=\"text-align: right;\">\n",
       "      <th></th>\n",
       "      <th>A</th>\n",
       "      <th>B</th>\n",
       "    </tr>\n",
       "  </thead>\n",
       "  <tbody>\n",
       "  </tbody>\n",
       "</table>\n",
       "</div>"
      ],
      "text/plain": [
       "Empty DataFrame\n",
       "Columns: [A, B]\n",
       "Index: []"
      ]
     },
     "execution_count": 43,
     "metadata": {},
     "output_type": "execute_result"
    }
   ],
   "source": [
    "df2.loc[\"20130102\":\"20130104\", [\"A\", \"B\"]]"
   ]
  },
  {
   "cell_type": "code",
   "execution_count": 45,
   "id": "yellow-honor",
   "metadata": {},
   "outputs": [
    {
     "data": {
      "text/plain": [
       "Persons     -1.078677\n",
       "Subject 1   -0.839531\n",
       "Subject 2   -0.291024\n",
       "Subject 3   -0.967472\n",
       "Name: Person B, dtype: float64"
      ]
     },
     "execution_count": 45,
     "metadata": {},
     "output_type": "execute_result"
    }
   ],
   "source": [
    "df.iloc[1]"
   ]
  },
  {
   "cell_type": "code",
   "execution_count": 46,
   "id": "expensive-japanese",
   "metadata": {},
   "outputs": [
    {
     "data": {
      "text/html": [
       "<div>\n",
       "<style scoped>\n",
       "    .dataframe tbody tr th:only-of-type {\n",
       "        vertical-align: middle;\n",
       "    }\n",
       "\n",
       "    .dataframe tbody tr th {\n",
       "        vertical-align: top;\n",
       "    }\n",
       "\n",
       "    .dataframe thead th {\n",
       "        text-align: right;\n",
       "    }\n",
       "</style>\n",
       "<table border=\"1\" class=\"dataframe\">\n",
       "  <thead>\n",
       "    <tr style=\"text-align: right;\">\n",
       "      <th></th>\n",
       "      <th>Persons</th>\n",
       "      <th>Subject 1</th>\n",
       "    </tr>\n",
       "  </thead>\n",
       "  <tbody>\n",
       "    <tr>\n",
       "      <th>Person D</th>\n",
       "      <td>-1.849804</td>\n",
       "      <td>-0.119028</td>\n",
       "    </tr>\n",
       "    <tr>\n",
       "      <th>Person E</th>\n",
       "      <td>-1.595798</td>\n",
       "      <td>0.181604</td>\n",
       "    </tr>\n",
       "  </tbody>\n",
       "</table>\n",
       "</div>"
      ],
      "text/plain": [
       "           Persons  Subject 1\n",
       "Person D -1.849804  -0.119028\n",
       "Person E -1.595798   0.181604"
      ]
     },
     "execution_count": 46,
     "metadata": {},
     "output_type": "execute_result"
    }
   ],
   "source": [
    "df.iloc[3:5, 0:2]"
   ]
  },
  {
   "cell_type": "code",
   "execution_count": 47,
   "id": "gothic-owner",
   "metadata": {},
   "outputs": [
    {
     "data": {
      "text/html": [
       "<div>\n",
       "<style scoped>\n",
       "    .dataframe tbody tr th:only-of-type {\n",
       "        vertical-align: middle;\n",
       "    }\n",
       "\n",
       "    .dataframe tbody tr th {\n",
       "        vertical-align: top;\n",
       "    }\n",
       "\n",
       "    .dataframe thead th {\n",
       "        text-align: right;\n",
       "    }\n",
       "</style>\n",
       "<table border=\"1\" class=\"dataframe\">\n",
       "  <thead>\n",
       "    <tr style=\"text-align: right;\">\n",
       "      <th></th>\n",
       "      <th>Persons</th>\n",
       "      <th>Subject 2</th>\n",
       "    </tr>\n",
       "  </thead>\n",
       "  <tbody>\n",
       "    <tr>\n",
       "      <th>Person B</th>\n",
       "      <td>-1.078677</td>\n",
       "      <td>-0.291024</td>\n",
       "    </tr>\n",
       "    <tr>\n",
       "      <th>Person C</th>\n",
       "      <td>-0.864177</td>\n",
       "      <td>1.180083</td>\n",
       "    </tr>\n",
       "    <tr>\n",
       "      <th>Person E</th>\n",
       "      <td>-1.595798</td>\n",
       "      <td>0.106823</td>\n",
       "    </tr>\n",
       "  </tbody>\n",
       "</table>\n",
       "</div>"
      ],
      "text/plain": [
       "           Persons  Subject 2\n",
       "Person B -1.078677  -0.291024\n",
       "Person C -0.864177   1.180083\n",
       "Person E -1.595798   0.106823"
      ]
     },
     "execution_count": 47,
     "metadata": {},
     "output_type": "execute_result"
    }
   ],
   "source": [
    "df.iloc[[1, 2, 4], [0, 2]]"
   ]
  },
  {
   "cell_type": "code",
   "execution_count": 50,
   "id": "undefined-robinson",
   "metadata": {},
   "outputs": [
    {
     "data": {
      "text/html": [
       "<div>\n",
       "<style scoped>\n",
       "    .dataframe tbody tr th:only-of-type {\n",
       "        vertical-align: middle;\n",
       "    }\n",
       "\n",
       "    .dataframe tbody tr th {\n",
       "        vertical-align: top;\n",
       "    }\n",
       "\n",
       "    .dataframe thead th {\n",
       "        text-align: right;\n",
       "    }\n",
       "</style>\n",
       "<table border=\"1\" class=\"dataframe\">\n",
       "  <thead>\n",
       "    <tr style=\"text-align: right;\">\n",
       "      <th></th>\n",
       "      <th>Persons</th>\n",
       "      <th>Subject 1</th>\n",
       "      <th>Subject 2</th>\n",
       "      <th>Subject 3</th>\n",
       "    </tr>\n",
       "  </thead>\n",
       "  <tbody>\n",
       "    <tr>\n",
       "      <th>Person A</th>\n",
       "      <td>-0.616611</td>\n",
       "      <td>0.218280</td>\n",
       "      <td>0.760031</td>\n",
       "      <td>0.780423</td>\n",
       "    </tr>\n",
       "    <tr>\n",
       "      <th>Person E</th>\n",
       "      <td>-1.595798</td>\n",
       "      <td>0.181604</td>\n",
       "      <td>0.106823</td>\n",
       "      <td>0.647071</td>\n",
       "    </tr>\n",
       "  </tbody>\n",
       "</table>\n",
       "</div>"
      ],
      "text/plain": [
       "           Persons  Subject 1  Subject 2  Subject 3\n",
       "Person A -0.616611   0.218280   0.760031   0.780423\n",
       "Person E -1.595798   0.181604   0.106823   0.647071"
      ]
     },
     "execution_count": 50,
     "metadata": {},
     "output_type": "execute_result"
    }
   ],
   "source": [
    "df[df[\"Subject 1\"] > 0]"
   ]
  },
  {
   "cell_type": "code",
   "execution_count": 51,
   "id": "better-namibia",
   "metadata": {},
   "outputs": [
    {
     "data": {
      "text/html": [
       "<div>\n",
       "<style scoped>\n",
       "    .dataframe tbody tr th:only-of-type {\n",
       "        vertical-align: middle;\n",
       "    }\n",
       "\n",
       "    .dataframe tbody tr th {\n",
       "        vertical-align: top;\n",
       "    }\n",
       "\n",
       "    .dataframe thead th {\n",
       "        text-align: right;\n",
       "    }\n",
       "</style>\n",
       "<table border=\"1\" class=\"dataframe\">\n",
       "  <thead>\n",
       "    <tr style=\"text-align: right;\">\n",
       "      <th></th>\n",
       "      <th>Persons</th>\n",
       "      <th>Subject 1</th>\n",
       "      <th>Subject 2</th>\n",
       "      <th>Subject 3</th>\n",
       "    </tr>\n",
       "  </thead>\n",
       "  <tbody>\n",
       "    <tr>\n",
       "      <th>Person A</th>\n",
       "      <td>NaN</td>\n",
       "      <td>0.218280</td>\n",
       "      <td>0.760031</td>\n",
       "      <td>0.780423</td>\n",
       "    </tr>\n",
       "    <tr>\n",
       "      <th>Person B</th>\n",
       "      <td>NaN</td>\n",
       "      <td>NaN</td>\n",
       "      <td>NaN</td>\n",
       "      <td>NaN</td>\n",
       "    </tr>\n",
       "    <tr>\n",
       "      <th>Person C</th>\n",
       "      <td>NaN</td>\n",
       "      <td>NaN</td>\n",
       "      <td>1.180083</td>\n",
       "      <td>NaN</td>\n",
       "    </tr>\n",
       "    <tr>\n",
       "      <th>Person D</th>\n",
       "      <td>NaN</td>\n",
       "      <td>NaN</td>\n",
       "      <td>NaN</td>\n",
       "      <td>NaN</td>\n",
       "    </tr>\n",
       "    <tr>\n",
       "      <th>Person E</th>\n",
       "      <td>NaN</td>\n",
       "      <td>0.181604</td>\n",
       "      <td>0.106823</td>\n",
       "      <td>0.647071</td>\n",
       "    </tr>\n",
       "  </tbody>\n",
       "</table>\n",
       "</div>"
      ],
      "text/plain": [
       "          Persons  Subject 1  Subject 2  Subject 3\n",
       "Person A      NaN   0.218280   0.760031   0.780423\n",
       "Person B      NaN        NaN        NaN        NaN\n",
       "Person C      NaN        NaN   1.180083        NaN\n",
       "Person D      NaN        NaN        NaN        NaN\n",
       "Person E      NaN   0.181604   0.106823   0.647071"
      ]
     },
     "execution_count": 51,
     "metadata": {},
     "output_type": "execute_result"
    }
   ],
   "source": [
    "df[df > 0]"
   ]
  },
  {
   "cell_type": "code",
   "execution_count": 52,
   "id": "indirect-halloween",
   "metadata": {},
   "outputs": [
    {
     "data": {
      "text/html": [
       "<div>\n",
       "<style scoped>\n",
       "    .dataframe tbody tr th:only-of-type {\n",
       "        vertical-align: middle;\n",
       "    }\n",
       "\n",
       "    .dataframe tbody tr th {\n",
       "        vertical-align: top;\n",
       "    }\n",
       "\n",
       "    .dataframe thead th {\n",
       "        text-align: right;\n",
       "    }\n",
       "</style>\n",
       "<table border=\"1\" class=\"dataframe\">\n",
       "  <thead>\n",
       "    <tr style=\"text-align: right;\">\n",
       "      <th></th>\n",
       "      <th>A</th>\n",
       "      <th>B</th>\n",
       "      <th>C</th>\n",
       "      <th>D</th>\n",
       "      <th>E</th>\n",
       "      <th>F</th>\n",
       "    </tr>\n",
       "  </thead>\n",
       "  <tbody>\n",
       "  </tbody>\n",
       "</table>\n",
       "</div>"
      ],
      "text/plain": [
       "Empty DataFrame\n",
       "Columns: [A, B, C, D, E, F]\n",
       "Index: []"
      ]
     },
     "execution_count": 52,
     "metadata": {},
     "output_type": "execute_result"
    }
   ],
   "source": [
    "df2[df2[\"E\"].isin([\"two\", \"four\"])]\n"
   ]
  },
  {
   "cell_type": "code",
   "execution_count": 53,
   "id": "female-catalog",
   "metadata": {},
   "outputs": [
    {
     "data": {
      "text/html": [
       "<div>\n",
       "<style scoped>\n",
       "    .dataframe tbody tr th:only-of-type {\n",
       "        vertical-align: middle;\n",
       "    }\n",
       "\n",
       "    .dataframe tbody tr th {\n",
       "        vertical-align: top;\n",
       "    }\n",
       "\n",
       "    .dataframe thead th {\n",
       "        text-align: right;\n",
       "    }\n",
       "</style>\n",
       "<table border=\"1\" class=\"dataframe\">\n",
       "  <thead>\n",
       "    <tr style=\"text-align: right;\">\n",
       "      <th></th>\n",
       "      <th>A</th>\n",
       "      <th>B</th>\n",
       "      <th>C</th>\n",
       "      <th>D</th>\n",
       "      <th>E</th>\n",
       "      <th>F</th>\n",
       "    </tr>\n",
       "  </thead>\n",
       "  <tbody>\n",
       "    <tr>\n",
       "      <th>0</th>\n",
       "      <td>1.0</td>\n",
       "      <td>2013-01-02</td>\n",
       "      <td>1.0</td>\n",
       "      <td>3</td>\n",
       "      <td>test</td>\n",
       "      <td>foo</td>\n",
       "    </tr>\n",
       "    <tr>\n",
       "      <th>1</th>\n",
       "      <td>1.0</td>\n",
       "      <td>2013-01-02</td>\n",
       "      <td>1.0</td>\n",
       "      <td>3</td>\n",
       "      <td>train</td>\n",
       "      <td>foo</td>\n",
       "    </tr>\n",
       "    <tr>\n",
       "      <th>2</th>\n",
       "      <td>1.0</td>\n",
       "      <td>2013-01-02</td>\n",
       "      <td>1.0</td>\n",
       "      <td>3</td>\n",
       "      <td>test</td>\n",
       "      <td>foo</td>\n",
       "    </tr>\n",
       "    <tr>\n",
       "      <th>3</th>\n",
       "      <td>1.0</td>\n",
       "      <td>2013-01-02</td>\n",
       "      <td>1.0</td>\n",
       "      <td>3</td>\n",
       "      <td>train</td>\n",
       "      <td>foo</td>\n",
       "    </tr>\n",
       "  </tbody>\n",
       "</table>\n",
       "</div>"
      ],
      "text/plain": [
       "     A          B    C  D      E    F\n",
       "0  1.0 2013-01-02  1.0  3   test  foo\n",
       "1  1.0 2013-01-02  1.0  3  train  foo\n",
       "2  1.0 2013-01-02  1.0  3   test  foo\n",
       "3  1.0 2013-01-02  1.0  3  train  foo"
      ]
     },
     "execution_count": 53,
     "metadata": {},
     "output_type": "execute_result"
    }
   ],
   "source": [
    "df2"
   ]
  },
  {
   "cell_type": "code",
   "execution_count": 54,
   "id": "loved-conjunction",
   "metadata": {},
   "outputs": [
    {
     "data": {
      "text/html": [
       "<div>\n",
       "<style scoped>\n",
       "    .dataframe tbody tr th:only-of-type {\n",
       "        vertical-align: middle;\n",
       "    }\n",
       "\n",
       "    .dataframe tbody tr th {\n",
       "        vertical-align: top;\n",
       "    }\n",
       "\n",
       "    .dataframe thead th {\n",
       "        text-align: right;\n",
       "    }\n",
       "</style>\n",
       "<table border=\"1\" class=\"dataframe\">\n",
       "  <thead>\n",
       "    <tr style=\"text-align: right;\">\n",
       "      <th></th>\n",
       "      <th>Persons</th>\n",
       "      <th>Subject 1</th>\n",
       "      <th>Subject 2</th>\n",
       "      <th>Subject 3</th>\n",
       "    </tr>\n",
       "  </thead>\n",
       "  <tbody>\n",
       "    <tr>\n",
       "      <th>Person A</th>\n",
       "      <td>-0.616611</td>\n",
       "      <td>0.218280</td>\n",
       "      <td>0.760031</td>\n",
       "      <td>0.780423</td>\n",
       "    </tr>\n",
       "    <tr>\n",
       "      <th>Person B</th>\n",
       "      <td>-1.078677</td>\n",
       "      <td>-0.839531</td>\n",
       "      <td>-0.291024</td>\n",
       "      <td>-0.967472</td>\n",
       "    </tr>\n",
       "    <tr>\n",
       "      <th>Person C</th>\n",
       "      <td>-0.864177</td>\n",
       "      <td>-0.878428</td>\n",
       "      <td>1.180083</td>\n",
       "      <td>-1.072881</td>\n",
       "    </tr>\n",
       "    <tr>\n",
       "      <th>Person D</th>\n",
       "      <td>-1.849804</td>\n",
       "      <td>-0.119028</td>\n",
       "      <td>-0.530153</td>\n",
       "      <td>-0.369607</td>\n",
       "    </tr>\n",
       "    <tr>\n",
       "      <th>Person E</th>\n",
       "      <td>-1.595798</td>\n",
       "      <td>0.181604</td>\n",
       "      <td>0.106823</td>\n",
       "      <td>0.647071</td>\n",
       "    </tr>\n",
       "  </tbody>\n",
       "</table>\n",
       "</div>"
      ],
      "text/plain": [
       "           Persons  Subject 1  Subject 2  Subject 3\n",
       "Person A -0.616611   0.218280   0.760031   0.780423\n",
       "Person B -1.078677  -0.839531  -0.291024  -0.967472\n",
       "Person C -0.864177  -0.878428   1.180083  -1.072881\n",
       "Person D -1.849804  -0.119028  -0.530153  -0.369607\n",
       "Person E -1.595798   0.181604   0.106823   0.647071"
      ]
     },
     "execution_count": 54,
     "metadata": {},
     "output_type": "execute_result"
    }
   ],
   "source": [
    "df"
   ]
  },
  {
   "cell_type": "code",
   "execution_count": 55,
   "id": "functional-sensitivity",
   "metadata": {},
   "outputs": [
    {
     "data": {
      "text/plain": [
       "Person A    0.780423\n",
       "Person B   -0.967472\n",
       "Person C   -1.072881\n",
       "Person D   -0.369607\n",
       "Person E    0.647071\n",
       "Name: Subject 3, dtype: float64"
      ]
     },
     "execution_count": 55,
     "metadata": {},
     "output_type": "execute_result"
    }
   ],
   "source": [
    "df[\"Subject 3\"]"
   ]
  },
  {
   "cell_type": "code",
   "execution_count": 58,
   "id": "orange-marketing",
   "metadata": {},
   "outputs": [
    {
     "data": {
      "text/html": [
       "<div>\n",
       "<style scoped>\n",
       "    .dataframe tbody tr th:only-of-type {\n",
       "        vertical-align: middle;\n",
       "    }\n",
       "\n",
       "    .dataframe tbody tr th {\n",
       "        vertical-align: top;\n",
       "    }\n",
       "\n",
       "    .dataframe thead th {\n",
       "        text-align: right;\n",
       "    }\n",
       "</style>\n",
       "<table border=\"1\" class=\"dataframe\">\n",
       "  <thead>\n",
       "    <tr style=\"text-align: right;\">\n",
       "      <th></th>\n",
       "      <th>Persons</th>\n",
       "      <th>Subject 1</th>\n",
       "      <th>Subject 2</th>\n",
       "      <th>Subject 3</th>\n",
       "      <th>Grade</th>\n",
       "    </tr>\n",
       "  </thead>\n",
       "  <tbody>\n",
       "    <tr>\n",
       "      <th>Person A</th>\n",
       "      <td>-0.616611</td>\n",
       "      <td>0.218280</td>\n",
       "      <td>0.760031</td>\n",
       "      <td>0.780423</td>\n",
       "      <td>A</td>\n",
       "    </tr>\n",
       "    <tr>\n",
       "      <th>Person B</th>\n",
       "      <td>-1.078677</td>\n",
       "      <td>-0.839531</td>\n",
       "      <td>-0.291024</td>\n",
       "      <td>-0.967472</td>\n",
       "      <td>B</td>\n",
       "    </tr>\n",
       "    <tr>\n",
       "      <th>Person C</th>\n",
       "      <td>-0.864177</td>\n",
       "      <td>-0.878428</td>\n",
       "      <td>1.180083</td>\n",
       "      <td>-1.072881</td>\n",
       "      <td>A</td>\n",
       "    </tr>\n",
       "    <tr>\n",
       "      <th>Person D</th>\n",
       "      <td>-1.849804</td>\n",
       "      <td>-0.119028</td>\n",
       "      <td>-0.530153</td>\n",
       "      <td>-0.369607</td>\n",
       "      <td>C</td>\n",
       "    </tr>\n",
       "    <tr>\n",
       "      <th>Person E</th>\n",
       "      <td>-1.595798</td>\n",
       "      <td>0.181604</td>\n",
       "      <td>0.106823</td>\n",
       "      <td>0.647071</td>\n",
       "      <td>A</td>\n",
       "    </tr>\n",
       "  </tbody>\n",
       "</table>\n",
       "</div>"
      ],
      "text/plain": [
       "           Persons  Subject 1  Subject 2  Subject 3 Grade\n",
       "Person A -0.616611   0.218280   0.760031   0.780423     A\n",
       "Person B -1.078677  -0.839531  -0.291024  -0.967472     B\n",
       "Person C -0.864177  -0.878428   1.180083  -1.072881     A\n",
       "Person D -1.849804  -0.119028  -0.530153  -0.369607     C\n",
       "Person E -1.595798   0.181604   0.106823   0.647071     A"
      ]
     },
     "execution_count": 58,
     "metadata": {},
     "output_type": "execute_result"
    }
   ],
   "source": [
    "df[\"Grade\"]=[\"A\",\"B\",\"A\",\"C\",\"A\"]\n",
    "df"
   ]
  },
  {
   "cell_type": "markdown",
   "id": "reliable-specific",
   "metadata": {},
   "source": [
    "isin() method used for filtering"
   ]
  },
  {
   "cell_type": "code",
   "execution_count": 62,
   "id": "outside-orbit",
   "metadata": {},
   "outputs": [
    {
     "data": {
      "text/html": [
       "<div>\n",
       "<style scoped>\n",
       "    .dataframe tbody tr th:only-of-type {\n",
       "        vertical-align: middle;\n",
       "    }\n",
       "\n",
       "    .dataframe tbody tr th {\n",
       "        vertical-align: top;\n",
       "    }\n",
       "\n",
       "    .dataframe thead th {\n",
       "        text-align: right;\n",
       "    }\n",
       "</style>\n",
       "<table border=\"1\" class=\"dataframe\">\n",
       "  <thead>\n",
       "    <tr style=\"text-align: right;\">\n",
       "      <th></th>\n",
       "      <th>Persons</th>\n",
       "      <th>Subject 1</th>\n",
       "      <th>Subject 2</th>\n",
       "      <th>Subject 3</th>\n",
       "      <th>Grade</th>\n",
       "    </tr>\n",
       "  </thead>\n",
       "  <tbody>\n",
       "    <tr>\n",
       "      <th>Person A</th>\n",
       "      <td>-0.616611</td>\n",
       "      <td>0.218280</td>\n",
       "      <td>0.760031</td>\n",
       "      <td>0.780423</td>\n",
       "      <td>A</td>\n",
       "    </tr>\n",
       "    <tr>\n",
       "      <th>Person B</th>\n",
       "      <td>-1.078677</td>\n",
       "      <td>-0.839531</td>\n",
       "      <td>-0.291024</td>\n",
       "      <td>-0.967472</td>\n",
       "      <td>B</td>\n",
       "    </tr>\n",
       "    <tr>\n",
       "      <th>Person C</th>\n",
       "      <td>-0.864177</td>\n",
       "      <td>-0.878428</td>\n",
       "      <td>1.180083</td>\n",
       "      <td>-1.072881</td>\n",
       "      <td>A</td>\n",
       "    </tr>\n",
       "    <tr>\n",
       "      <th>Person E</th>\n",
       "      <td>-1.595798</td>\n",
       "      <td>0.181604</td>\n",
       "      <td>0.106823</td>\n",
       "      <td>0.647071</td>\n",
       "      <td>A</td>\n",
       "    </tr>\n",
       "  </tbody>\n",
       "</table>\n",
       "</div>"
      ],
      "text/plain": [
       "           Persons  Subject 1  Subject 2  Subject 3 Grade\n",
       "Person A -0.616611   0.218280   0.760031   0.780423     A\n",
       "Person B -1.078677  -0.839531  -0.291024  -0.967472     B\n",
       "Person C -0.864177  -0.878428   1.180083  -1.072881     A\n",
       "Person E -1.595798   0.181604   0.106823   0.647071     A"
      ]
     },
     "execution_count": 62,
     "metadata": {},
     "output_type": "execute_result"
    }
   ],
   "source": [
    "df[df[\"Grade\"].isin([\"A\", \"B\"])]"
   ]
  },
  {
   "cell_type": "markdown",
   "id": "studied-james",
   "metadata": {},
   "source": [
    "Setting values by label"
   ]
  },
  {
   "cell_type": "code",
   "execution_count": 63,
   "id": "raised-cooperation",
   "metadata": {},
   "outputs": [],
   "source": [
    " df.at[dates[0], \"A\"] = 0"
   ]
  },
  {
   "cell_type": "code",
   "execution_count": 64,
   "id": "capital-serve",
   "metadata": {},
   "outputs": [
    {
     "data": {
      "text/html": [
       "<div>\n",
       "<style scoped>\n",
       "    .dataframe tbody tr th:only-of-type {\n",
       "        vertical-align: middle;\n",
       "    }\n",
       "\n",
       "    .dataframe tbody tr th {\n",
       "        vertical-align: top;\n",
       "    }\n",
       "\n",
       "    .dataframe thead th {\n",
       "        text-align: right;\n",
       "    }\n",
       "</style>\n",
       "<table border=\"1\" class=\"dataframe\">\n",
       "  <thead>\n",
       "    <tr style=\"text-align: right;\">\n",
       "      <th></th>\n",
       "      <th>Persons</th>\n",
       "      <th>Subject 1</th>\n",
       "      <th>Subject 2</th>\n",
       "      <th>Subject 3</th>\n",
       "      <th>Grade</th>\n",
       "      <th>A</th>\n",
       "    </tr>\n",
       "  </thead>\n",
       "  <tbody>\n",
       "    <tr>\n",
       "      <th>Person A</th>\n",
       "      <td>-0.616611</td>\n",
       "      <td>0.218280</td>\n",
       "      <td>0.760031</td>\n",
       "      <td>0.780423</td>\n",
       "      <td>A</td>\n",
       "      <td>NaN</td>\n",
       "    </tr>\n",
       "    <tr>\n",
       "      <th>Person B</th>\n",
       "      <td>-1.078677</td>\n",
       "      <td>-0.839531</td>\n",
       "      <td>-0.291024</td>\n",
       "      <td>-0.967472</td>\n",
       "      <td>B</td>\n",
       "      <td>NaN</td>\n",
       "    </tr>\n",
       "    <tr>\n",
       "      <th>Person C</th>\n",
       "      <td>-0.864177</td>\n",
       "      <td>-0.878428</td>\n",
       "      <td>1.180083</td>\n",
       "      <td>-1.072881</td>\n",
       "      <td>A</td>\n",
       "      <td>NaN</td>\n",
       "    </tr>\n",
       "    <tr>\n",
       "      <th>Person D</th>\n",
       "      <td>-1.849804</td>\n",
       "      <td>-0.119028</td>\n",
       "      <td>-0.530153</td>\n",
       "      <td>-0.369607</td>\n",
       "      <td>C</td>\n",
       "      <td>NaN</td>\n",
       "    </tr>\n",
       "    <tr>\n",
       "      <th>Person E</th>\n",
       "      <td>-1.595798</td>\n",
       "      <td>0.181604</td>\n",
       "      <td>0.106823</td>\n",
       "      <td>0.647071</td>\n",
       "      <td>A</td>\n",
       "      <td>NaN</td>\n",
       "    </tr>\n",
       "    <tr>\n",
       "      <th>2020-02-01 00:00:00</th>\n",
       "      <td>NaN</td>\n",
       "      <td>NaN</td>\n",
       "      <td>NaN</td>\n",
       "      <td>NaN</td>\n",
       "      <td>NaN</td>\n",
       "      <td>0.0</td>\n",
       "    </tr>\n",
       "  </tbody>\n",
       "</table>\n",
       "</div>"
      ],
      "text/plain": [
       "                      Persons  Subject 1  Subject 2  Subject 3 Grade    A\n",
       "Person A            -0.616611   0.218280   0.760031   0.780423     A  NaN\n",
       "Person B            -1.078677  -0.839531  -0.291024  -0.967472     B  NaN\n",
       "Person C            -0.864177  -0.878428   1.180083  -1.072881     A  NaN\n",
       "Person D            -1.849804  -0.119028  -0.530153  -0.369607     C  NaN\n",
       "Person E            -1.595798   0.181604   0.106823   0.647071     A  NaN\n",
       "2020-02-01 00:00:00       NaN        NaN        NaN        NaN   NaN  0.0"
      ]
     },
     "execution_count": 64,
     "metadata": {},
     "output_type": "execute_result"
    }
   ],
   "source": [
    "df"
   ]
  },
  {
   "cell_type": "code",
   "execution_count": null,
   "id": "guided-beverage",
   "metadata": {},
   "outputs": [],
   "source": []
  }
 ],
 "metadata": {
  "kernelspec": {
   "display_name": "Python 3",
   "language": "python",
   "name": "python3"
  },
  "language_info": {
   "codemirror_mode": {
    "name": "ipython",
    "version": 3
   },
   "file_extension": ".py",
   "mimetype": "text/x-python",
   "name": "python",
   "nbconvert_exporter": "python",
   "pygments_lexer": "ipython3",
   "version": "3.8.5"
  }
 },
 "nbformat": 4,
 "nbformat_minor": 5
}
